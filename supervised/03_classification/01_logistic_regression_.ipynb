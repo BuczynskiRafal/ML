{
  "nbformat": 4,
  "nbformat_minor": 0,
  "metadata": {
    "colab": {
      "name": "01_logistic_regression_.ipynb",
      "provenance": [],
      "authorship_tag": "ABX9TyOXhwYZcWiKvz+Ovz3+OBFY",
      "include_colab_link": true
    },
    "kernelspec": {
      "name": "python3",
      "display_name": "Python 3"
    },
    "language_info": {
      "name": "python"
    }
  },
  "cells": [
    {
      "cell_type": "markdown",
      "metadata": {
        "id": "view-in-github",
        "colab_type": "text"
      },
      "source": [
        "<a href=\"https://colab.research.google.com/github/BuczynskiRafal/ML/blob/main/supervised/03_classification/01_logistic_regression_.ipynb\" target=\"_parent\"><img src=\"https://colab.research.google.com/assets/colab-badge.svg\" alt=\"Open In Colab\"/></a>"
      ]
    },
    {
      "cell_type": "markdown",
      "source": [
        "# Model klasyfikacyjny który będzie przewidywal raka pieri\n",
        "\n"
      ],
      "metadata": {
        "id": "9XTMrLSGE7ma"
      }
    },
    {
      "cell_type": "code",
      "source": [
        "import numpy as np\n",
        "import pandas as pd\n",
        "import matplotlib.pyplot as plt\n",
        "import plotly.figure_factory as ff\n",
        "import seaborn as sns\n",
        "import sklearn\n",
        "\n",
        "sns.set(font_scale=1.3)\n",
        "# ustawienie opcji wyświetlania tablic numpy array\n",
        "np.set_printoptions(precision=6, suppress=True, edgeitems=10, linewidth=100000, \n",
        "                    formatter=dict(float=lambda x: f'{x:.2f}'))\n",
        "np.random.seed(42)\n",
        "sklearn.__version__"
      ],
      "metadata": {
        "colab": {
          "base_uri": "https://localhost:8080/",
          "height": 35
        },
        "id": "nGwB_sThFChD",
        "outputId": "e7021aa5-b9dd-47d4-e160-83e0cfad282e"
      },
      "execution_count": 4,
      "outputs": [
        {
          "output_type": "execute_result",
          "data": {
            "text/plain": [
              "'1.0.2'"
            ],
            "application/vnd.google.colaboratory.intrinsic+json": {
              "type": "string"
            }
          },
          "metadata": {},
          "execution_count": 4
        }
      ]
    },
    {
      "cell_type": "markdown",
      "source": [
        "###  <a name='a2'></a>  Regresja Logistyczna (Logistic Regression) - wprowadzenie\n",
        "\n",
        "Pomimo nazwy jest to liniowy model do zadań klasyfikacyjnych. Inna nazwa Logit Regression. \n",
        "\n",
        "#### Przykłady zastosowań:\n",
        "- przewidywanie czy mail jest spamem, czy też nie\n",
        "- przewidywanie czy użytkownik kliknie w reklamę\n",
        "- przewidywanie czy nowotwór jest złośliwy czy też nie\n",
        "- przewidywanie czy dłużnik spłaci wierzycielowi dług, czy też zajdzie zdarzenie default\n",
        "- przewidywanie czy transakcja jest próbą oszustwa\n",
        "\n",
        "Przy budowie modelu regresji logistycznej wykorzystamy funkcję sigmoid. Definiuje się ją wzorem:\n",
        "$$sigmoid(x) = \\frac{1}{1+e^{-x}}$$"
      ],
      "metadata": {
        "id": "M-rGics0FTpk"
      }
    },
    {
      "cell_type": "code",
      "source": [
        "# najwiekszą zaletą funkcji sigmoid jest to że wartość mieści się w przedziale 0-1\n",
        "\n",
        "# definicja funkcji sigmoid\n",
        "def sigmoid(x):\n",
        "    return 1 / (1 + np.exp(-x))\n",
        "\n",
        "x = np.arange(-5, 5, 0.1)\n",
        "y = sigmoid(x)\n",
        "\n",
        "plt.figure(figsize=(8,6))\n",
        "plt.plot(x, y)\n",
        "plt.title('Funkcja sigmmoid')\n",
        "plt.show()"
      ],
      "metadata": {
        "colab": {
          "base_uri": "https://localhost:8080/",
          "height": 399
        },
        "id": "Ntef8fdSFVvh",
        "outputId": "6102b344-419c-45b1-a90e-76ef62c0ae74"
      },
      "execution_count": 7,
      "outputs": [
        {
          "output_type": "display_data",
          "data": {
            "text/plain": [
              "<Figure size 576x432 with 1 Axes>"
            ],
            "image/png": "[encoded data removed]"
          },
          "metadata": {}
        }
      ]
    },
    {
      "cell_type": "markdown",
      "source": [
        "Następnie rozważmy funkcję liniową $y = w_0 + w_1x$. Podstawiając to do funkcji sigmoid otrzymujemy:\n",
        "$$p(x) = \\frac{1}{1 + e^{-(w_0 + w_1x)}}$$\n",
        "Dzięki temu przekształceniu regresja logistyczna zwraca nam wartości z przedziału $(0, 1)$ co możemy interpretować jako prawdopodobieństwo i na podstawie tych prawdopodobieństw przewidywać poszczególne klasy."
      ],
      "metadata": {
        "id": "p5n1UEFcGCI_"
      }
    },
    {
      "cell_type": "markdown",
      "source": [
        "# załadowanie danych"
      ],
      "metadata": {
        "id": "mKQzf_HhGdx9"
      }
    },
    {
      "cell_type": "code",
      "source": [
        "# przykładowe dane z biblioteki sklearn\n",
        "from sklearn.datasets import load_breast_cancer\n",
        "\n",
        "raw_data = load_breast_cancer()\n",
        "raw_data.keys()"
      ],
      "metadata": {
        "colab": {
          "base_uri": "https://localhost:8080/"
        },
        "id": "8hIui_xvGgc8",
        "outputId": "ef5bf883-2fa3-418e-fc94-9decbbc7b9ee"
      },
      "execution_count": 10,
      "outputs": [
        {
          "output_type": "execute_result",
          "data": {
            "text/plain": [
              "dict_keys(['data', 'target', 'frame', 'target_names', 'DESCR', 'feature_names', 'filename', 'data_module'])"
            ]
          },
          "metadata": {},
          "execution_count": 10
        }
      ]
    },
    {
      "cell_type": "code",
      "source": [
        "# informacje o danych\n",
        "print(raw_data.DESCR)"
      ],
      "metadata": {
        "id": "O1nO4dnOG7r4"
      },
      "execution_count": null,
      "outputs": []
    },
    {
      "cell_type": "code",
      "source": [
        "# kopiuję dane i wyciągam z nich dane 'data' i zmienną docelową 'target'\n",
        "\n",
        "all_data = raw_data.copy()\n",
        "\n",
        "data = all_data['data']\n",
        "target = all_data['target']\n",
        "\n",
        "print(f'rozmiar data: {data.shape}')\n",
        "print(f'rozmiar target: {target.shape}')"
      ],
      "metadata": {
        "colab": {
          "base_uri": "https://localhost:8080/"
        },
        "id": "1V1f7CIdHGen",
        "outputId": "a6352d39-fd2a-449d-81c5-01165fe381fe"
      },
      "execution_count": 11,
      "outputs": [
        {
          "output_type": "stream",
          "name": "stdout",
          "text": [
            "rozmiar data: (569, 30)\n",
            "rozmiar target: (569,)\n"
          ]
        }
      ]
    },
    {
      "cell_type": "markdown",
      "source": [
        "# Podział danych na zbiór treningowy i testowy\n"
      ],
      "metadata": {
        "id": "GrizYLtNHlgj"
      }
    },
    {
      "cell_type": "code",
      "source": [
        "from sklearn.model_selection import train_test_split\n",
        "\n",
        "x_train, x_test, y_train, y_test = train_test_split(data, target)\n",
        "\n",
        "print(f'x_train shape: {x_train.shape}')\n",
        "print(f'y_train shape: {y_train.shape}')\n",
        "print(f'x_test shape: {x_test.shape}')\n",
        "print(f'y_test shape: {y_test.shape}')"
      ],
      "metadata": {
        "colab": {
          "base_uri": "https://localhost:8080/"
        },
        "id": "AQbUTmNIHv9q",
        "outputId": "404612f6-9e57-4b01-e3af-2f8dc4ede784"
      },
      "execution_count": 14,
      "outputs": [
        {
          "output_type": "stream",
          "name": "stdout",
          "text": [
            "x_train shape: (426, 30)\n",
            "y_train shape: (426,)\n",
            "x_test shape: (143, 30)\n",
            "y_test shape: (143,)\n"
          ]
        }
      ]
    },
    {
      "cell_type": "code",
      "source": [
        "x_train"
      ],
      "metadata": {
        "colab": {
          "base_uri": "https://localhost:8080/"
        },
        "id": "sLUYqf_0ISjK",
        "outputId": "b2192665-87c2-43dd-ec6d-22cfb9e2a504"
      },
      "execution_count": 15,
      "outputs": [
        {
          "output_type": "execute_result",
          "data": {
            "text/plain": [
              "array([[13.80, 15.79, 90.43, 584.10, 0.10, 0.13, 0.08, 0.05, 0.17, 0.07, ..., 16.57, 20.86, 110.30, 812.40, 0.14, 0.35, 0.28, 0.14, 0.26, 0.10],\n",
              "       [11.34, 21.26, 72.48, 396.50, 0.09, 0.07, 0.05, 0.02, 0.15, 0.07, ..., 13.01, 29.15, 83.99, 518.10, 0.17, 0.22, 0.31, 0.08, 0.28, 0.09],\n",
              "       [15.66, 23.20, 110.20, 773.50, 0.11, 0.31, 0.32, 0.14, 0.25, 0.08, ..., 19.85, 31.64, 143.70, 1226.00, 0.15, 0.52, 0.62, 0.25, 0.33, 0.10],\n",
              "       [14.53, 13.98, 93.86, 644.20, 0.11, 0.09, 0.07, 0.06, 0.17, 0.06, ..., 15.80, 16.93, 103.10, 749.90, 0.13, 0.15, 0.14, 0.11, 0.26, 0.08],\n",
              "       [28.11, 18.47, 188.50, 2499.00, 0.11, 0.15, 0.32, 0.16, 0.16, 0.06, ..., 28.11, 18.47, 188.50, 2499.00, 0.11, 0.15, 0.32, 0.16, 0.16, 0.06],\n",
              "       [12.87, 19.54, 82.67, 509.20, 0.09, 0.08, 0.02, 0.02, 0.19, 0.06, ..., 14.45, 24.38, 95.14, 626.90, 0.12, 0.17, 0.07, 0.06, 0.33, 0.08],\n",
              "       [13.82, 24.49, 92.33, 595.90, 0.12, 0.17, 0.14, 0.07, 0.23, 0.07, ..., 16.01, 32.94, 106.00, 788.00, 0.18, 0.40, 0.34, 0.15, 0.37, 0.12],\n",
              "       [17.30, 17.08, 113.00, 928.20, 0.10, 0.10, 0.13, 0.08, 0.18, 0.06, ..., 19.85, 25.09, 130.90, 1222.00, 0.14, 0.24, 0.34, 0.19, 0.31, 0.08],\n",
              "       [11.50, 18.45, 73.28, 407.40, 0.09, 0.06, 0.03, 0.02, 0.18, 0.06, ..., 12.97, 22.46, 83.12, 508.90, 0.12, 0.10, 0.08, 0.07, 0.27, 0.06],\n",
              "       [11.71, 15.45, 75.03, 420.30, 0.12, 0.07, 0.04, 0.03, 0.20, 0.07, ..., 13.06, 18.16, 84.16, 516.40, 0.15, 0.11, 0.11, 0.08, 0.28, 0.08],\n",
              "       ...,\n",
              "       [15.30, 25.27, 102.40, 732.40, 0.11, 0.17, 0.17, 0.09, 0.19, 0.07, ..., 20.27, 36.71, 149.30, 1269.00, 0.16, 0.61, 0.63, 0.20, 0.40, 0.10],\n",
              "       [11.76, 21.60, 74.72, 427.90, 0.09, 0.05, 0.02, 0.01, 0.15, 0.06, ..., 12.98, 25.72, 82.98, 516.50, 0.11, 0.09, 0.06, 0.04, 0.24, 0.07],\n",
              "       [13.46, 28.21, 85.89, 562.10, 0.08, 0.05, 0.01, 0.01, 0.14, 0.06, ..., 14.69, 35.63, 97.11, 680.60, 0.11, 0.15, 0.08, 0.06, 0.27, 0.07],\n",
              "       [13.11, 15.56, 87.21, 530.20, 0.14, 0.18, 0.21, 0.10, 0.19, 0.08, ..., 16.31, 22.40, 106.40, 827.20, 0.19, 0.41, 0.64, 0.20, 0.31, 0.14],\n",
              "       [13.61, 24.69, 87.76, 572.60, 0.09, 0.08, 0.05, 0.03, 0.18, 0.06, ..., 16.89, 35.64, 113.20, 848.70, 0.15, 0.29, 0.38, 0.13, 0.35, 0.08],\n",
              "       [16.16, 21.54, 106.20, 809.80, 0.10, 0.13, 0.10, 0.06, 0.22, 0.06, ..., 19.47, 31.68, 129.70, 1175.00, 0.14, 0.31, 0.30, 0.13, 0.35, 0.08],\n",
              "       [20.34, 21.51, 135.90, 1264.00, 0.12, 0.19, 0.26, 0.15, 0.26, 0.07, ..., 25.30, 31.86, 171.10, 1938.00, 0.16, 0.45, 0.53, 0.27, 0.56, 0.10],\n",
              "       [12.56, 19.07, 81.92, 485.80, 0.09, 0.10, 0.10, 0.04, 0.15, 0.06, ..., 13.37, 22.43, 89.02, 547.40, 0.11, 0.20, 0.24, 0.09, 0.21, 0.07],\n",
              "       [9.76, 28.20, 61.68, 290.90, 0.08, 0.05, 0.02, 0.01, 0.16, 0.06, ..., 10.67, 36.92, 68.03, 349.90, 0.11, 0.11, 0.07, 0.05, 0.23, 0.07],\n",
              "       [15.27, 12.91, 98.17, 725.50, 0.08, 0.06, 0.06, 0.03, 0.14, 0.06, ..., 17.38, 15.92, 113.70, 932.70, 0.12, 0.22, 0.30, 0.10, 0.23, 0.07]])"
            ]
          },
          "metadata": {},
          "execution_count": 15
        }
      ]
    },
    {
      "cell_type": "markdown",
      "source": [
        "# standaryzacja danych"
      ],
      "metadata": {
        "id": "YVnUY6s8IXOS"
      }
    },
    {
      "cell_type": "code",
      "source": [
        "from sklearn.preprocessing import StandardScaler\n",
        "\n",
        "scaler = StandardScaler()\n",
        "# dane dopasowuje się tylko na zbiorze treningowym\n",
        "scaler.fit(x_train)\n",
        "\n",
        "x_train = scaler.transform(x_train)\n",
        "x_test = scaler.transform(x_test)\n",
        "x_train"
      ],
      "metadata": {
        "colab": {
          "base_uri": "https://localhost:8080/"
        },
        "id": "tjUEkmdJIay7",
        "outputId": "14774bcd-1dfb-40fd-d725-05ee6c1d0b07"
      },
      "execution_count": 16,
      "outputs": [
        {
          "output_type": "execute_result",
          "data": {
            "text/plain": [
              "array([[-0.06, -0.81, -0.03, -0.17, 0.33, 0.49, -0.12, 0.07, -0.57, 0.40, ..., 0.09, -0.77, 0.12, -0.10, 0.40, 0.65, 0.05, 0.39, -0.51, 1.03],\n",
              "       [-0.76, 0.47, -0.77, -0.71, -0.63, -0.74, -0.46, -0.76, -1.22, 0.34, ..., -0.65, 0.58, -0.67, -0.62, 1.68, -0.21, 0.21, -0.47, -0.13, 0.23],\n",
              "       [0.47, 0.93, 0.78, 0.36, 1.08, 4.13, 2.97, 2.37, 2.55, 2.57, ..., 0.77, 0.99, 1.12, 0.63, 0.82, 1.70, 1.70, 2.06, 0.60, 0.97],\n",
              "       [0.15, -1.23, 0.11, -0.00, 1.01, -0.21, -0.23, 0.45, -0.61, -0.23, ..., -0.07, -1.41, -0.10, -0.21, 0.12, -0.67, -0.64, -0.10, -0.49, -0.33],\n",
              "       [3.99, -0.18, 4.01, 5.26, 1.32, 0.96, 3.00, 2.94, -0.62, -1.07, ..., 2.48, -1.16, 2.46, 2.88, -0.79, -0.65, 0.25, 0.71, -2.03, -1.57],\n",
              "       [-0.32, 0.07, -0.35, -0.39, -0.35, -0.48, -0.89, -0.71, 0.18, 0.09, ..., -0.35, -0.20, -0.33, -0.42, -0.47, -0.56, -0.96, -0.76, 0.66, -0.37],\n",
              "       [-0.06, 1.23, 0.05, -0.14, 1.47, 1.29, 0.63, 0.52, 1.73, 1.34, ..., -0.03, 1.20, -0.01, -0.14, 2.10, 0.93, 0.34, 0.60, 1.20, 1.86],\n",
              "       [0.93, -0.51, 0.90, 0.80, 0.34, 0.02, 0.51, 0.94, -0.00, -0.95, ..., 0.77, -0.08, 0.74, 0.62, 0.43, -0.08, 0.34, 1.12, 0.37, -0.16],\n",
              "       [-0.71, -0.19, -0.74, -0.68, -0.20, -0.86, -0.78, -0.72, 0.08, -0.50, ..., -0.66, -0.51, -0.69, -0.63, -0.61, -0.95, -0.91, -0.74, -0.27, -1.05],\n",
              "       [-0.65, -0.89, -0.67, -0.64, 1.38, -0.60, -0.60, -0.41, 0.73, 0.31, ..., -0.64, -1.21, -0.66, -0.62, 0.62, -0.91, -0.78, -0.54, -0.23, -0.33],\n",
              "       ...,\n",
              "       [0.36, 1.41, 0.46, 0.25, 0.88, 1.32, 1.05, 1.04, 0.42, 0.36, ..., 0.86, 1.81, 1.29, 0.71, 1.42, 2.31, 1.78, 1.38, 1.81, 0.80],\n",
              "       [-0.64, 0.55, -0.68, -0.62, -0.71, -1.06, -0.91, -0.97, -1.19, -0.56, ..., -0.65, 0.02, -0.70, -0.62, -1.04, -1.07, -1.04, -1.18, -0.76, -1.01],\n",
              "       [-0.16, 2.10, -0.22, -0.24, -1.53, -1.11, -0.96, -0.97, -1.47, -0.74, ..., -0.30, 1.64, -0.28, -0.33, -0.94, -0.69, -0.92, -0.86, -0.34, -0.73],\n",
              "       [-0.26, -0.86, -0.16, -0.33, 3.20, 1.45, 1.54, 1.27, 0.42, 1.99, ..., 0.04, -0.52, 0.00, -0.07, 2.40, 1.01, 1.80, 1.32, 0.39, 3.07],\n",
              "       [-0.11, 1.28, -0.14, -0.21, -0.26, -0.49, -0.44, -0.45, -0.20, -0.22, ..., 0.16, 1.64, 0.21, -0.03, 0.67, 0.23, 0.54, 0.30, 0.91, -0.28],\n",
              "       [0.61, 0.54, 0.62, 0.47, 0.34, 0.50, 0.22, 0.22, 1.30, -0.56, ..., 0.69, 0.99, 0.70, 0.54, 0.33, 0.34, 0.15, 0.28, 0.93, -0.43],\n",
              "       [1.79, 0.53, 1.84, 1.75, 1.53, 1.67, 2.18, 2.70, 2.83, 0.54, ..., 1.90, 1.02, 1.94, 1.89, 1.21, 1.27, 1.30, 2.40, 4.28, 1.00],\n",
              "       [-0.41, -0.04, -0.38, -0.45, -0.62, 0.01, 0.21, -0.11, -1.05, -0.14, ..., -0.57, -0.52, -0.52, -0.56, -0.99, -0.34, -0.15, -0.32, -1.27, -0.67],\n",
              "       [-1.21, 2.10, -1.22, -1.01, -1.19, -1.13, -0.92, -0.99, -0.72, -0.47, ..., -1.13, 1.85, -1.15, -0.91, -0.93, -0.91, -0.96, -1.00, -0.95, -0.65],\n",
              "       [0.35, -1.48, 0.29, 0.23, -1.05, -0.81, -0.36, -0.43, -1.70, -1.07, ..., 0.26, -1.58, 0.22, 0.11, -0.43, -0.22, 0.13, -0.15, -0.95, -0.51]])"
            ]
          },
          "metadata": {},
          "execution_count": 16
        }
      ]
    },
    {
      "cell_type": "code",
      "source": [
        "# statystyki obliczone przez scaler\n",
        "scaler.mean_"
      ],
      "metadata": {
        "colab": {
          "base_uri": "https://localhost:8080/"
        },
        "id": "A2Uifbr8I5ZE",
        "outputId": "2dde6626-1782-402d-bff6-88ed5665c0c1"
      },
      "execution_count": 17,
      "outputs": [
        {
          "output_type": "execute_result",
          "data": {
            "text/plain": [
              "array([14.02, 19.25, 91.19, 645.51, 0.10, 0.10, 0.09, 0.05, 0.18, 0.06, 0.41, 1.22, 2.87, 40.34, 0.01, 0.03, 0.03, 0.01, 0.02, 0.00, 16.14, 25.59, 106.30, 867.53, 0.13, 0.25, 0.27, 0.11, 0.29, 0.08])"
            ]
          },
          "metadata": {},
          "execution_count": 17
        }
      ]
    },
    {
      "cell_type": "code",
      "source": [
        "# statystyki obliczone przez scaler\n",
        "scaler.scale_"
      ],
      "metadata": {
        "colab": {
          "base_uri": "https://localhost:8080/"
        },
        "id": "LghBNhaEI_pg",
        "outputId": "a09278af-61cc-47f9-fd12-03b5d42e3055"
      },
      "execution_count": 19,
      "outputs": [
        {
          "data": {
            "text/plain": [
              "array([3.53, 4.27, 24.27, 352.46, 0.01, 0.05, 0.08, 0.04, 0.03, 0.01, 0.28, 0.57, 2.07, 48.18, 0.00, 0.02, 0.03, 0.01, 0.01, 0.00, 4.82, 6.13, 33.35, 567.32, 0.02, 0.16, 0.21, 0.06, 0.06, 0.02])"
            ]
          },
          "execution_count": null,
          "metadata": {},
          "output_type": "execute_result"
        }
      ]
    },
    {
      "cell_type": "markdown",
      "source": [
        "# Dopasowanie modelu"
      ],
      "metadata": {
        "id": "7v23X6eZJItr"
      }
    },
    {
      "cell_type": "code",
      "source": [
        "from sklearn.linear_model import LogisticRegression\n",
        "\n",
        "log_reg = LogisticRegression()\n",
        "log_reg.fit(x_train, y_train)"
      ],
      "metadata": {
        "colab": {
          "base_uri": "https://localhost:8080/"
        },
        "id": "CcZfX069JKBH",
        "outputId": "439afa6f-2b7e-40f9-b0e5-323f4494ae09"
      },
      "execution_count": 21,
      "outputs": [
        {
          "output_type": "execute_result",
          "data": {
            "text/plain": [
              "LogisticRegression()"
            ]
          },
          "metadata": {},
          "execution_count": 21
        }
      ]
    },
    {
      "cell_type": "markdown",
      "source": [
        "# Predykcja na podstawie modelu"
      ],
      "metadata": {
        "id": "8n1avjxvJsH8"
      }
    },
    {
      "cell_type": "code",
      "source": [
        "# zwraca konkretną predykcję\n",
        "y_pred = log_reg.predict(x_test)\n",
        "y_pred[:30]"
      ],
      "metadata": {
        "id": "fb6BpQnYJuUI",
        "outputId": "48fca2c3-3374-4d74-ae90-48d6a23fecc8",
        "colab": {
          "base_uri": "https://localhost:8080/"
        }
      },
      "execution_count": 24,
      "outputs": [
        {
          "output_type": "execute_result",
          "data": {
            "text/plain": [
              "array([1, 0, 1, 1, 0, 1, 1, 0, 1, 1, 0, 1, 1, 1, 1, 0, 1, 0, 0, 0, 1, 1, 1, 0, 1, 1, 1, 1, 0, 0])"
            ]
          },
          "metadata": {},
          "execution_count": 24
        }
      ]
    },
    {
      "cell_type": "code",
      "source": [
        "# zwraca konkretne prawdopodobieństwa\n",
        "y_prob = log_reg.predict_proba(x_test)\n",
        "y_prob[:30]"
      ],
      "metadata": {
        "id": "8WU5REK_KGB6",
        "outputId": "e5a5f143-499e-4f26-b3a5-a93270f0ed1e",
        "colab": {
          "base_uri": "https://localhost:8080/"
        }
      },
      "execution_count": 27,
      "outputs": [
        {
          "output_type": "execute_result",
          "data": {
            "text/plain": [
              "array([[0.01, 0.99],\n",
              "       [1.00, 0.00],\n",
              "       [0.00, 1.00],\n",
              "       [0.03, 0.97],\n",
              "       [1.00, 0.00],\n",
              "       [0.10, 0.90],\n",
              "       [0.00, 1.00],\n",
              "       [1.00, 0.00],\n",
              "       [0.06, 0.94],\n",
              "       [0.00, 1.00],\n",
              "       [1.00, 0.00],\n",
              "       [0.00, 1.00],\n",
              "       [0.00, 1.00],\n",
              "       [0.00, 1.00],\n",
              "       [0.00, 1.00],\n",
              "       [1.00, 0.00],\n",
              "       [0.01, 0.99],\n",
              "       [1.00, 0.00],\n",
              "       [0.51, 0.49],\n",
              "       [1.00, 0.00],\n",
              "       [0.00, 1.00],\n",
              "       [0.00, 1.00],\n",
              "       [0.02, 0.98],\n",
              "       [1.00, 0.00],\n",
              "       [0.07, 0.93],\n",
              "       [0.00, 1.00],\n",
              "       [0.12, 0.88],\n",
              "       [0.00, 1.00],\n",
              "       [1.00, 0.00],\n",
              "       [1.00, 0.00]])"
            ]
          },
          "metadata": {},
          "execution_count": 27
        }
      ]
    },
    {
      "cell_type": "markdown",
      "source": [
        "# Ocena modelu"
      ],
      "metadata": {
        "id": "xs-xDBZeKW5Z"
      }
    },
    {
      "cell_type": "code",
      "source": [
        "from sklearn.metrics import confusion_matrix\n",
        "from sklearn.metrics import accuracy_score\n",
        "from mlxtend.plotting import plot_confusion_matrix\n",
        "\n",
        "cm = confusion_matrix(y_test, y_pred)\n",
        "plot_confusion_matrix(cm)\n",
        "\n",
        "print(f'Accuracy: {accuracy_score(y_test, y_pred)}')"
      ],
      "metadata": {
        "id": "te3ock9rKZzh",
        "outputId": "81bfec46-8faa-4616-8910-722408db5176",
        "colab": {
          "base_uri": "https://localhost:8080/",
          "height": 308
        }
      },
      "execution_count": 28,
      "outputs": [
        {
          "output_type": "stream",
          "name": "stdout",
          "text": [
            "Accuracy: 0.986013986013986\n"
          ]
        },
        {
          "output_type": "display_data",
          "data": {
            "text/plain": [
              "<Figure size 432x288 with 1 Axes>"
            ],
            "image/png": "[encoded data removed]"
          },
          "metadata": {}
        }
      ]
    },
    {
      "cell_type": "code",
      "source": [
        "def plot_confusion_matrix(cm):\n",
        "    # klasyfikacja binarna\n",
        "    cm = cm[::-1]\n",
        "    cm = pd.DataFrame(cm, columns=['pred_0', 'pred_1'], index=['true_1', 'true_0'])\n",
        "\n",
        "    fig = ff.create_annotated_heatmap(z=cm.values, x=list(cm.columns), y=list(cm.index), \n",
        "                                      colorscale='ice', showscale=True, reversescale=True)\n",
        "    fig.update_layout(width=500, height=500, title='Confusion Matrix', font_size=16)\n",
        "    fig.show()\n",
        "\n",
        "plot_confusion_matrix(cm)"
      ],
      "metadata": {
        "id": "Qg7PSmybLOJi",
        "outputId": "4691caff-3995-4531-c3dd-033780e41147",
        "colab": {
          "base_uri": "https://localhost:8080/",
          "height": 517
        }
      },
      "execution_count": 29,
      "outputs": [
        {
          "output_type": "display_data",
          "data": {
            "text/html": [
              "<html>\n",
              "<head><meta charset=\"utf-8\" /></head>\n",
              "<body>\n",
              "    <div>            <script src=\"https://cdnjs.cloudflare.com/ajax/libs/mathjax/2.7.5/MathJax.js?config=TeX-AMS-MML_SVG\"></script><script type=\"text/javascript\">if (window.MathJax) {MathJax.Hub.Config({SVG: {font: \"STIX-Web\"}});}</script>                <script type=\"text/javascript\">window.PlotlyConfig = {MathJaxConfig: 'local'};</script>\n",
              "        <script src=\"https://cdn.plot.ly/plotly-2.8.3.min.js\"></script>                <div id=\"2d607e68-c6a0-4661-9a16-5be3c9de9eb3\" class=\"plotly-graph-div\" style=\"height:500px; width:500px;\"></div>            <script type=\"text/javascript\">                                    window.PLOTLYENV=window.PLOTLYENV || {};                                    if (document.getElementById(\"2d607e68-c6a0-4661-9a16-5be3c9de9eb3\")) {                    Plotly.newPlot(                        \"2d607e68-c6a0-4661-9a16-5be3c9de9eb3\",                        [{\"colorscale\":[[0.0,\"rgb(3, 5, 18)\"],[0.09090909090909091,\"rgb(25, 25, 51)\"],[0.18181818181818182,\"rgb(44, 42, 87)\"],[0.2727272727272727,\"rgb(58, 60, 125)\"],[0.36363636363636365,\"rgb(62, 83, 160)\"],[0.45454545454545453,\"rgb(62, 109, 178)\"],[0.5454545454545454,\"rgb(72, 134, 187)\"],[0.6363636363636364,\"rgb(89, 159, 196)\"],[0.7272727272727273,\"rgb(114, 184, 205)\"],[0.8181818181818182,\"rgb(149, 207, 216)\"],[0.9090909090909091,\"rgb(192, 229, 232)\"],[1.0,\"rgb(234, 252, 253)\"]],\"reversescale\":true,\"showscale\":true,\"x\":[\"pred_0\",\"pred_1\"],\"y\":[\"true_1\",\"true_0\"],\"z\":[[0,87],[54,2]],\"type\":\"heatmap\"}],                        {\"annotations\":[{\"font\":{\"color\":\"#000000\"},\"showarrow\":false,\"text\":\"0\",\"x\":\"pred_0\",\"xref\":\"x\",\"y\":\"true_1\",\"yref\":\"y\"},{\"font\":{\"color\":\"#FFFFFF\"},\"showarrow\":false,\"text\":\"87\",\"x\":\"pred_1\",\"xref\":\"x\",\"y\":\"true_1\",\"yref\":\"y\"},{\"font\":{\"color\":\"#FFFFFF\"},\"showarrow\":false,\"text\":\"54\",\"x\":\"pred_0\",\"xref\":\"x\",\"y\":\"true_0\",\"yref\":\"y\"},{\"font\":{\"color\":\"#000000\"},\"showarrow\":false,\"text\":\"2\",\"x\":\"pred_1\",\"xref\":\"x\",\"y\":\"true_0\",\"yref\":\"y\"}],\"xaxis\":{\"dtick\":1,\"gridcolor\":\"rgb(0, 0, 0)\",\"side\":\"top\",\"ticks\":\"\"},\"yaxis\":{\"dtick\":1,\"ticks\":\"\",\"ticksuffix\":\"  \"},\"template\":{\"data\":{\"bar\":[{\"error_x\":{\"color\":\"#2a3f5f\"},\"error_y\":{\"color\":\"#2a3f5f\"},\"marker\":{\"line\":{\"color\":\"#E5ECF6\",\"width\":0.5},\"pattern\":{\"fillmode\":\"overlay\",\"size\":10,\"solidity\":0.2}},\"type\":\"bar\"}],\"barpolar\":[{\"marker\":{\"line\":{\"color\":\"#E5ECF6\",\"width\":0.5},\"pattern\":{\"fillmode\":\"overlay\",\"size\":10,\"solidity\":0.2}},\"type\":\"barpolar\"}],\"carpet\":[{\"aaxis\":{\"endlinecolor\":\"#2a3f5f\",\"gridcolor\":\"white\",\"linecolor\":\"white\",\"minorgridcolor\":\"white\",\"startlinecolor\":\"#2a3f5f\"},\"baxis\":{\"endlinecolor\":\"#2a3f5f\",\"gridcolor\":\"white\",\"linecolor\":\"white\",\"minorgridcolor\":\"white\",\"startlinecolor\":\"#2a3f5f\"},\"type\":\"carpet\"}],\"choropleth\":[{\"colorbar\":{\"outlinewidth\":0,\"ticks\":\"\"},\"type\":\"choropleth\"}],\"contour\":[{\"colorbar\":{\"outlinewidth\":0,\"ticks\":\"\"},\"colorscale\":[[0.0,\"#0d0887\"],[0.1111111111111111,\"#46039f\"],[0.2222222222222222,\"#7201a8\"],[0.3333333333333333,\"#9c179e\"],[0.4444444444444444,\"#bd3786\"],[0.5555555555555556,\"#d8576b\"],[0.6666666666666666,\"#ed7953\"],[0.7777777777777778,\"#fb9f3a\"],[0.8888888888888888,\"#fdca26\"],[1.0,\"#f0f921\"]],\"type\":\"contour\"}],\"contourcarpet\":[{\"colorbar\":{\"outlinewidth\":0,\"ticks\":\"\"},\"type\":\"contourcarpet\"}],\"heatmap\":[{\"colorbar\":{\"outlinewidth\":0,\"ticks\":\"\"},\"colorscale\":[[0.0,\"#0d0887\"],[0.1111111111111111,\"#46039f\"],[0.2222222222222222,\"#7201a8\"],[0.3333333333333333,\"#9c179e\"],[0.4444444444444444,\"#bd3786\"],[0.5555555555555556,\"#d8576b\"],[0.6666666666666666,\"#ed7953\"],[0.7777777777777778,\"#fb9f3a\"],[0.8888888888888888,\"#fdca26\"],[1.0,\"#f0f921\"]],\"type\":\"heatmap\"}],\"heatmapgl\":[{\"colorbar\":{\"outlinewidth\":0,\"ticks\":\"\"},\"colorscale\":[[0.0,\"#0d0887\"],[0.1111111111111111,\"#46039f\"],[0.2222222222222222,\"#7201a8\"],[0.3333333333333333,\"#9c179e\"],[0.4444444444444444,\"#bd3786\"],[0.5555555555555556,\"#d8576b\"],[0.6666666666666666,\"#ed7953\"],[0.7777777777777778,\"#fb9f3a\"],[0.8888888888888888,\"#fdca26\"],[1.0,\"#f0f921\"]],\"type\":\"heatmapgl\"}],\"histogram\":[{\"marker\":{\"pattern\":{\"fillmode\":\"overlay\",\"size\":10,\"solidity\":0.2}},\"type\":\"histogram\"}],\"histogram2d\":[{\"colorbar\":{\"outlinewidth\":0,\"ticks\":\"\"},\"colorscale\":[[0.0,\"#0d0887\"],[0.1111111111111111,\"#46039f\"],[0.2222222222222222,\"#7201a8\"],[0.3333333333333333,\"#9c179e\"],[0.4444444444444444,\"#bd3786\"],[0.5555555555555556,\"#d8576b\"],[0.6666666666666666,\"#ed7953\"],[0.7777777777777778,\"#fb9f3a\"],[0.8888888888888888,\"#fdca26\"],[1.0,\"#f0f921\"]],\"type\":\"histogram2d\"}],\"histogram2dcontour\":[{\"colorbar\":{\"outlinewidth\":0,\"ticks\":\"\"},\"colorscale\":[[0.0,\"#0d0887\"],[0.1111111111111111,\"#46039f\"],[0.2222222222222222,\"#7201a8\"],[0.3333333333333333,\"#9c179e\"],[0.4444444444444444,\"#bd3786\"],[0.5555555555555556,\"#d8576b\"],[0.6666666666666666,\"#ed7953\"],[0.7777777777777778,\"#fb9f3a\"],[0.8888888888888888,\"#fdca26\"],[1.0,\"#f0f921\"]],\"type\":\"histogram2dcontour\"}],\"mesh3d\":[{\"colorbar\":{\"outlinewidth\":0,\"ticks\":\"\"},\"type\":\"mesh3d\"}],\"parcoords\":[{\"line\":{\"colorbar\":{\"outlinewidth\":0,\"ticks\":\"\"}},\"type\":\"parcoords\"}],\"pie\":[{\"automargin\":true,\"type\":\"pie\"}],\"scatter\":[{\"marker\":{\"colorbar\":{\"outlinewidth\":0,\"ticks\":\"\"}},\"type\":\"scatter\"}],\"scatter3d\":[{\"line\":{\"colorbar\":{\"outlinewidth\":0,\"ticks\":\"\"}},\"marker\":{\"colorbar\":{\"outlinewidth\":0,\"ticks\":\"\"}},\"type\":\"scatter3d\"}],\"scattercarpet\":[{\"marker\":{\"colorbar\":{\"outlinewidth\":0,\"ticks\":\"\"}},\"type\":\"scattercarpet\"}],\"scattergeo\":[{\"marker\":{\"colorbar\":{\"outlinewidth\":0,\"ticks\":\"\"}},\"type\":\"scattergeo\"}],\"scattergl\":[{\"marker\":{\"colorbar\":{\"outlinewidth\":0,\"ticks\":\"\"}},\"type\":\"scattergl\"}],\"scattermapbox\":[{\"marker\":{\"colorbar\":{\"outlinewidth\":0,\"ticks\":\"\"}},\"type\":\"scattermapbox\"}],\"scatterpolar\":[{\"marker\":{\"colorbar\":{\"outlinewidth\":0,\"ticks\":\"\"}},\"type\":\"scatterpolar\"}],\"scatterpolargl\":[{\"marker\":{\"colorbar\":{\"outlinewidth\":0,\"ticks\":\"\"}},\"type\":\"scatterpolargl\"}],\"scatterternary\":[{\"marker\":{\"colorbar\":{\"outlinewidth\":0,\"ticks\":\"\"}},\"type\":\"scatterternary\"}],\"surface\":[{\"colorbar\":{\"outlinewidth\":0,\"ticks\":\"\"},\"colorscale\":[[0.0,\"#0d0887\"],[0.1111111111111111,\"#46039f\"],[0.2222222222222222,\"#7201a8\"],[0.3333333333333333,\"#9c179e\"],[0.4444444444444444,\"#bd3786\"],[0.5555555555555556,\"#d8576b\"],[0.6666666666666666,\"#ed7953\"],[0.7777777777777778,\"#fb9f3a\"],[0.8888888888888888,\"#fdca26\"],[1.0,\"#f0f921\"]],\"type\":\"surface\"}],\"table\":[{\"cells\":{\"fill\":{\"color\":\"#EBF0F8\"},\"line\":{\"color\":\"white\"}},\"header\":{\"fill\":{\"color\":\"#C8D4E3\"},\"line\":{\"color\":\"white\"}},\"type\":\"table\"}]},\"layout\":{\"annotationdefaults\":{\"arrowcolor\":\"#2a3f5f\",\"arrowhead\":0,\"arrowwidth\":1},\"autotypenumbers\":\"strict\",\"coloraxis\":{\"colorbar\":{\"outlinewidth\":0,\"ticks\":\"\"}},\"colorscale\":{\"diverging\":[[0,\"#8e0152\"],[0.1,\"#c51b7d\"],[0.2,\"#de77ae\"],[0.3,\"#f1b6da\"],[0.4,\"#fde0ef\"],[0.5,\"#f7f7f7\"],[0.6,\"#e6f5d0\"],[0.7,\"#b8e186\"],[0.8,\"#7fbc41\"],[0.9,\"#4d9221\"],[1,\"#276419\"]],\"sequential\":[[0.0,\"#0d0887\"],[0.1111111111111111,\"#46039f\"],[0.2222222222222222,\"#7201a8\"],[0.3333333333333333,\"#9c179e\"],[0.4444444444444444,\"#bd3786\"],[0.5555555555555556,\"#d8576b\"],[0.6666666666666666,\"#ed7953\"],[0.7777777777777778,\"#fb9f3a\"],[0.8888888888888888,\"#fdca26\"],[1.0,\"#f0f921\"]],\"sequentialminus\":[[0.0,\"#0d0887\"],[0.1111111111111111,\"#46039f\"],[0.2222222222222222,\"#7201a8\"],[0.3333333333333333,\"#9c179e\"],[0.4444444444444444,\"#bd3786\"],[0.5555555555555556,\"#d8576b\"],[0.6666666666666666,\"#ed7953\"],[0.7777777777777778,\"#fb9f3a\"],[0.8888888888888888,\"#fdca26\"],[1.0,\"#f0f921\"]]},\"colorway\":[\"#636efa\",\"#EF553B\",\"#00cc96\",\"#ab63fa\",\"#FFA15A\",\"#19d3f3\",\"#FF6692\",\"#B6E880\",\"#FF97FF\",\"#FECB52\"],\"font\":{\"color\":\"#2a3f5f\"},\"geo\":{\"bgcolor\":\"white\",\"lakecolor\":\"white\",\"landcolor\":\"#E5ECF6\",\"showlakes\":true,\"showland\":true,\"subunitcolor\":\"white\"},\"hoverlabel\":{\"align\":\"left\"},\"hovermode\":\"closest\",\"mapbox\":{\"style\":\"light\"},\"paper_bgcolor\":\"white\",\"plot_bgcolor\":\"#E5ECF6\",\"polar\":{\"angularaxis\":{\"gridcolor\":\"white\",\"linecolor\":\"white\",\"ticks\":\"\"},\"bgcolor\":\"#E5ECF6\",\"radialaxis\":{\"gridcolor\":\"white\",\"linecolor\":\"white\",\"ticks\":\"\"}},\"scene\":{\"xaxis\":{\"backgroundcolor\":\"#E5ECF6\",\"gridcolor\":\"white\",\"gridwidth\":2,\"linecolor\":\"white\",\"showbackground\":true,\"ticks\":\"\",\"zerolinecolor\":\"white\"},\"yaxis\":{\"backgroundcolor\":\"#E5ECF6\",\"gridcolor\":\"white\",\"gridwidth\":2,\"linecolor\":\"white\",\"showbackground\":true,\"ticks\":\"\",\"zerolinecolor\":\"white\"},\"zaxis\":{\"backgroundcolor\":\"#E5ECF6\",\"gridcolor\":\"white\",\"gridwidth\":2,\"linecolor\":\"white\",\"showbackground\":true,\"ticks\":\"\",\"zerolinecolor\":\"white\"}},\"shapedefaults\":{\"line\":{\"color\":\"#2a3f5f\"}},\"ternary\":{\"aaxis\":{\"gridcolor\":\"white\",\"linecolor\":\"white\",\"ticks\":\"\"},\"baxis\":{\"gridcolor\":\"white\",\"linecolor\":\"white\",\"ticks\":\"\"},\"bgcolor\":\"#E5ECF6\",\"caxis\":{\"gridcolor\":\"white\",\"linecolor\":\"white\",\"ticks\":\"\"}},\"title\":{\"x\":0.05},\"xaxis\":{\"automargin\":true,\"gridcolor\":\"white\",\"linecolor\":\"white\",\"ticks\":\"\",\"title\":{\"standoff\":15},\"zerolinecolor\":\"white\",\"zerolinewidth\":2},\"yaxis\":{\"automargin\":true,\"gridcolor\":\"white\",\"linecolor\":\"white\",\"ticks\":\"\",\"title\":{\"standoff\":15},\"zerolinecolor\":\"white\",\"zerolinewidth\":2}}},\"font\":{\"size\":16},\"width\":500,\"height\":500,\"title\":{\"text\":\"Confusion Matrix\"}},                        {\"responsive\": true}                    ).then(function(){\n",
              "                            \n",
              "var gd = document.getElementById('2d607e68-c6a0-4661-9a16-5be3c9de9eb3');\n",
              "var x = new MutationObserver(function (mutations, observer) {{\n",
              "        var display = window.getComputedStyle(gd).display;\n",
              "        if (!display || display === 'none') {{\n",
              "            console.log([gd, 'removed!']);\n",
              "            Plotly.purge(gd);\n",
              "            observer.disconnect();\n",
              "        }}\n",
              "}});\n",
              "\n",
              "// Listen for the removal of the full notebook cells\n",
              "var notebookContainer = gd.closest('#notebook-container');\n",
              "if (notebookContainer) {{\n",
              "    x.observe(notebookContainer, {childList: true});\n",
              "}}\n",
              "\n",
              "// Listen for the clearing of the current output cell\n",
              "var outputEl = gd.closest('.output');\n",
              "if (outputEl) {{\n",
              "    x.observe(outputEl, {childList: true});\n",
              "}}\n",
              "\n",
              "                        })                };                            </script>        </div>\n",
              "</body>\n",
              "</html>"
            ]
          },
          "metadata": {}
        }
      ]
    },
    {
      "cell_type": "code",
      "source": [
        "from sklearn.metrics import classification_report\n",
        "\n",
        "print(classification_report(y_test, y_pred))"
      ],
      "metadata": {
        "id": "mCaArmVkLY02",
        "outputId": "d42da0e9-aa1d-423b-e4df-1c056df39c72",
        "colab": {
          "base_uri": "https://localhost:8080/"
        }
      },
      "execution_count": 30,
      "outputs": [
        {
          "output_type": "stream",
          "name": "stdout",
          "text": [
            "              precision    recall  f1-score   support\n",
            "\n",
            "           0       1.00      0.96      0.98        56\n",
            "           1       0.98      1.00      0.99        87\n",
            "\n",
            "    accuracy                           0.99       143\n",
            "   macro avg       0.99      0.98      0.99       143\n",
            "weighted avg       0.99      0.99      0.99       143\n",
            "\n"
          ]
        }
      ]
    }
  ]
}