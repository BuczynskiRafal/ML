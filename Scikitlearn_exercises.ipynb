{
  "nbformat": 4,
  "nbformat_minor": 0,
  "metadata": {
    "colab": {
      "name": "Scikitlearn_exercises.ipynb",
      "provenance": [],
      "include_colab_link": true
    },
    "kernelspec": {
      "name": "python3",
      "display_name": "Python 3"
    },
    "language_info": {
      "name": "python"
    }
  },
  "cells": [
    {
      "cell_type": "markdown",
      "metadata": {
        "id": "view-in-github",
        "colab_type": "text"
      },
      "source": [
        "<a href=\"https://colab.research.google.com/github/BuczynskiRafal/ML/blob/main/Scikitlearn_exercises.ipynb\" target=\"_parent\"><img src=\"https://colab.research.google.com/assets/colab-badge.svg\" alt=\"Open In Colab\"/></a>"
      ]
    },
    {
      "cell_type": "code",
      "source": [
        "!pip install scikit-learn"
      ],
      "metadata": {
        "id": "2ahEsHILutAS"
      },
      "execution_count": null,
      "outputs": []
    },
    {
      "cell_type": "code",
      "execution_count": null,
      "metadata": {
        "colab": {
          "base_uri": "https://localhost:8080/",
          "height": 35
        },
        "id": "ExtXExkZtwbT",
        "outputId": "cd299c93-4218-4aca-fb57-a6f82ce7cbb0"
      },
      "outputs": [
        {
          "output_type": "execute_result",
          "data": {
            "text/plain": [
              "'1.0.2'"
            ],
            "application/vnd.google.colaboratory.intrinsic+json": {
              "type": "string"
            }
          },
          "metadata": {},
          "execution_count": 9
        }
      ],
      "source": [
        "import sklearn as skl\n",
        "\n",
        "skl.__version__"
      ]
    },
    {
      "cell_type": "code",
      "source": [
        "# 2\n",
        "import numpy as np\n",
        "import pandas as pd\n",
        "\n",
        "\n",
        "data = {\n",
        "    'size': ['XL', 'L', 'M', np.nan, 'M', 'M'],\n",
        "    'color': ['red', 'green', 'blue', 'green', 'red', 'green'],\n",
        "    'gender': ['female', 'male', np.nan, 'female', 'female', 'male'],\n",
        "    'price': [199.0, 89.0, np.nan, 129.0, 79.0, 89.0],\n",
        "    'weight': [500, 450, 300, np.nan, 410, np.nan],\n",
        "    'bought': ['yes', 'no', 'yes', 'no', 'yes', 'no']\n",
        "}\n",
        "\n",
        "df = pd.DataFrame(data=data)\n",
        "\n",
        "print(round(df.isnull().sum() / len(df), 2))"
      ],
      "metadata": {
        "colab": {
          "base_uri": "https://localhost:8080/"
        },
        "id": "T6M-wanVu7i1",
        "outputId": "b7fd74ab-65b4-4611-f11e-148bdbb539f4"
      },
      "execution_count": 1,
      "outputs": [
        {
          "output_type": "stream",
          "name": "stdout",
          "text": [
            "size      0.17\n",
            "color     0.00\n",
            "gender    0.17\n",
            "price     0.17\n",
            "weight    0.33\n",
            "bought    0.00\n",
            "dtype: float64\n"
          ]
        }
      ]
    },
    {
      "cell_type": "code",
      "source": [
        "# 3\n",
        "import numpy as np\n",
        "import pandas as pd\n",
        "from sklearn.impute import SimpleImputer\n",
        "\n",
        "\n",
        "data = {\n",
        "    'size': ['XL', 'L', 'M', np.nan, 'M', 'M'],\n",
        "    'color': ['red', 'green', 'blue', 'green', 'red', 'green'],\n",
        "    'gender': ['female', 'male', np.nan, 'female', 'female', 'male'],\n",
        "    'price': [199.0, 89.0, np.nan, 129.0, 79.0, 89.0],\n",
        "    'weight': [500, 450, 300, np.nan, 410, np.nan],\n",
        "    'bought': ['yes', 'no', 'yes', 'no', 'yes', 'no']\n",
        "}\n",
        "\n",
        "df = pd.DataFrame(data=data)\n",
        "imputer = SimpleImputer(missing_values=np.nan, strategy='mean')\n",
        "df[['weight']] = imputer.fit_transform(df[['weight']])\n",
        "print(df)"
      ],
      "metadata": {
        "colab": {
          "base_uri": "https://localhost:8080/"
        },
        "id": "JSytmOfj-DCX",
        "outputId": "ccaa29e8-6589-40e0-adb1-ea0fff6322d7"
      },
      "execution_count": null,
      "outputs": [
        {
          "output_type": "stream",
          "name": "stdout",
          "text": [
            "  size  color  gender  price  weight bought\n",
            "0   XL    red  female  199.0   500.0    yes\n",
            "1    L  green    male   89.0   450.0     no\n",
            "2    M   blue     NaN    NaN   300.0    yes\n",
            "3  NaN  green  female  129.0   415.0     no\n",
            "4    M    red  female   79.0   410.0    yes\n",
            "5    M  green    male   89.0   415.0     no\n"
          ]
        }
      ]
    },
    {
      "cell_type": "code",
      "source": [
        "# 4\n",
        "import numpy as np\n",
        "import pandas as pd\n",
        "from sklearn.impute import SimpleImputer\n",
        "\n",
        "\n",
        "data = {\n",
        "    'size': ['XL', 'L', 'M', np.nan, 'M', 'M'],\n",
        "    'color': ['red', 'green', 'blue', 'green', 'red', 'green'],\n",
        "    'gender': ['female', 'male', np.nan, 'female', 'female', 'male'],\n",
        "    'price': [199.0, 89.0, np.nan, 129.0, 79.0, 89.0],\n",
        "    'weight': [500, 450, 300, np.nan, 410, np.nan],\n",
        "    'bought': ['yes', 'no', 'yes', 'no', 'yes', 'no']\n",
        "}\n",
        "\n",
        "df = pd.DataFrame(data=data)\n",
        "imputer = SimpleImputer(missing_values=np.nan, strategy='mean')\n",
        "df[['weight']] = imputer.fit_transform(df[['weight']])\n",
        "print(imputer.statistics_[0])"
      ],
      "metadata": {
        "colab": {
          "base_uri": "https://localhost:8080/"
        },
        "id": "FzhzOA_foM5A",
        "outputId": "1ffed8be-763e-4c83-8e31-0e6b57ff307e"
      },
      "execution_count": 8,
      "outputs": [
        {
          "output_type": "stream",
          "name": "stdout",
          "text": [
            "415.0\n"
          ]
        }
      ]
    },
    {
      "cell_type": "code",
      "source": [
        "# 5\n",
        "import numpy as np\n",
        "import pandas as pd\n",
        "from sklearn.impute import SimpleImputer\n",
        "\n",
        "\n",
        "data = {\n",
        "    'size': ['XL', 'L', 'M', np.nan, 'M', 'M'],\n",
        "    'color': ['red', 'green', 'blue', 'green', 'red', 'green'],\n",
        "    'gender': ['female', 'male', np.nan, 'female', 'female', 'male'],\n",
        "    'price': [199.0, 89.0, np.nan, 129.0, 79.0, 89.0],\n",
        "    'weight': [500, 450, 300, np.nan, 410, np.nan],\n",
        "    'bought': ['yes', 'no', 'yes', 'no', 'yes', 'no']\n",
        "}\n",
        "\n",
        "df = pd.DataFrame(data=data)\n",
        "imputer = SimpleImputer(missing_values=np.nan, strategy='constant', fill_value=99.0)\n",
        "df[['price']] = imputer.fit_transform(df[['price']])\n",
        "\n",
        "print(df)"
      ],
      "metadata": {
        "colab": {
          "base_uri": "https://localhost:8080/"
        },
        "id": "uRS9w2Klq17m",
        "outputId": "6cfc9960-90a2-4312-cd9b-53c2d9e2c8c5"
      },
      "execution_count": 11,
      "outputs": [
        {
          "output_type": "stream",
          "name": "stdout",
          "text": [
            "  size  color  gender  price  weight bought\n",
            "0   XL    red  female  199.0   500.0    yes\n",
            "1    L  green    male   89.0   450.0     no\n",
            "2    M   blue     NaN   99.0   300.0    yes\n",
            "3  NaN  green  female  129.0     NaN     no\n",
            "4    M    red  female   79.0   410.0    yes\n",
            "5    M  green    male   89.0     NaN     no\n"
          ]
        }
      ]
    },
    {
      "cell_type": "code",
      "source": [
        "# 6\n",
        "import numpy as np\n",
        "import pandas as pd\n",
        "from sklearn.impute import SimpleImputer\n",
        "\n",
        "\n",
        "data = {\n",
        "    'size': ['XL', 'L', 'M', np.nan, 'M', 'M'],\n",
        "    'color': ['red', 'green', 'blue', 'green', 'red', 'green'],\n",
        "    'gender': ['female', 'male', np.nan, 'female', 'female', 'male'],\n",
        "    'price': [199.0, 89.0, np.nan, 129.0, 79.0, 89.0],\n",
        "    'weight': [500, 450, 300, np.nan, 410, np.nan],\n",
        "    'bought': ['yes', 'no', 'yes', 'no', 'yes', 'no']\n",
        "}\n",
        "\n",
        "df = pd.DataFrame(data=data)\n",
        "imputer = SimpleImputer(missing_values=np.nan, strategy='most_frequent')\n",
        "df[['size']] = imputer.fit_transform(df[['size']])\n",
        "\n",
        "print(df)"
      ],
      "metadata": {
        "colab": {
          "base_uri": "https://localhost:8080/"
        },
        "id": "IVebYHyLsRuh",
        "outputId": "11dcbe9d-3ad8-4d72-aee2-48db6771e40e"
      },
      "execution_count": 13,
      "outputs": [
        {
          "output_type": "stream",
          "name": "stdout",
          "text": [
            "  size  color  gender  price  weight bought\n",
            "0   XL    red  female  199.0   500.0    yes\n",
            "1    L  green    male   89.0   450.0     no\n",
            "2    M   blue     NaN    NaN   300.0    yes\n",
            "3    M  green  female  129.0     NaN     no\n",
            "4    M    red  female   79.0   410.0    yes\n",
            "5    M  green    male   89.0     NaN     no\n"
          ]
        }
      ]
    },
    {
      "cell_type": "code",
      "source": [
        "# 7\n",
        "import numpy as np\n",
        "import pandas as pd\n",
        "from sklearn.impute import SimpleImputer\n",
        "\n",
        "\n",
        "data = {\n",
        "    'size': ['XL', 'L', 'M', np.nan, 'M', 'M'],\n",
        "    'color': ['red', 'green', 'blue', 'green', 'red', 'green'],\n",
        "    'gender': ['female', 'male', np.nan, 'female', 'female', 'male'],\n",
        "    'price': [199.0, 89.0, np.nan, 129.0, 79.0, 89.0],\n",
        "    'weight': [500, 450, 300, np.nan, 410, np.nan],\n",
        "    'bought': ['yes', 'no', 'yes', 'no', 'yes', 'no']\n",
        "}\n",
        "\n",
        "df = pd.DataFrame(data=data)\n",
        "# Wytnij wszystkie wiersze gdzie weight jest puste\n",
        "# print(df[~df['weight'].isnull()])\n",
        "\n",
        "# średnia z wierszt niepustych\n",
        "print(df[~df['weight'].isnull()].mean())\n"
      ],
      "metadata": {
        "colab": {
          "base_uri": "https://localhost:8080/"
        },
        "id": "gqCRYXzbtETd",
        "outputId": "28831bcd-966d-4406-8979-a63b7ece91c5"
      },
      "execution_count": 17,
      "outputs": [
        {
          "output_type": "stream",
          "name": "stdout",
          "text": [
            "price     122.333333\n",
            "weight    415.000000\n",
            "dtype: float64\n"
          ]
        },
        {
          "output_type": "stream",
          "name": "stderr",
          "text": [
            "/usr/local/lib/python3.7/dist-packages/ipykernel_launcher.py:21: FutureWarning: Dropping of nuisance columns in DataFrame reductions (with 'numeric_only=None') is deprecated; in a future version this will raise TypeError.  Select only valid columns before calling the reduction.\n"
          ]
        }
      ]
    },
    {
      "cell_type": "code",
      "source": [
        "# 8\n",
        "import numpy as np\n",
        "import pandas as pd\n",
        "from sklearn.impute import SimpleImputer\n",
        "\n",
        "\n",
        "data = {\n",
        "    'size': ['XL', 'L', 'M', np.nan, 'M', 'M'],\n",
        "    'color': ['red', 'green', 'blue', 'green', 'red', 'green'],\n",
        "    'gender': ['female', 'male', np.nan, 'female', 'female', 'male'],\n",
        "    'price': [199.0, 89.0, np.nan, 129.0, 79.0, 89.0],\n",
        "    'weight': [500, 450, 300, np.nan, 410, np.nan],\n",
        "    'bought': ['yes', 'no', 'yes', 'no', 'yes', 'no']\n",
        "}\n",
        "\n",
        "df = pd.DataFrame(data=data)\n",
        "df_object = df.select_dtypes(include='O').fillna('empty')\n",
        "print(df_object)"
      ],
      "metadata": {
        "colab": {
          "base_uri": "https://localhost:8080/"
        },
        "id": "wMKNMO9qu8-d",
        "outputId": "ea3d6ac6-5b55-497a-e7fa-888d03476daa"
      },
      "execution_count": 22,
      "outputs": [
        {
          "output_type": "stream",
          "name": "stdout",
          "text": [
            "    size  color  gender bought\n",
            "0     XL    red  female    yes\n",
            "1      L  green    male     no\n",
            "2      M   blue   empty    yes\n",
            "3  empty  green  female     no\n",
            "4      M    red  female    yes\n",
            "5      M  green    male     no\n"
          ]
        }
      ]
    },
    {
      "cell_type": "code",
      "source": [
        "# 9\n",
        "import pandas as pd\n",
        "\n",
        "\n",
        "df = pd.DataFrame(data={'weight': [75., 78.5, 85., 91., 84.5, 83., 68.]})\n",
        "df['weight_cut'] = pd.cut(df['weight'], bins=3)\n",
        "print(df)"
      ],
      "metadata": {
        "id": "5a-99Qk_yG04",
        "outputId": "8377e534-6498-4918-9e93-cc1766a50554",
        "colab": {
          "base_uri": "https://localhost:8080/"
        }
      },
      "execution_count": 30,
      "outputs": [
        {
          "output_type": "stream",
          "name": "stdout",
          "text": [
            "   weight        weight_cut\n",
            "0    75.0  (67.977, 75.667]\n",
            "1    78.5  (75.667, 83.333]\n",
            "2    85.0    (83.333, 91.0]\n",
            "3    91.0    (83.333, 91.0]\n",
            "4    84.5    (83.333, 91.0]\n",
            "5    83.0  (75.667, 83.333]\n",
            "6    68.0  (67.977, 75.667]\n"
          ]
        }
      ]
    },
    {
      "cell_type": "code",
      "source": [
        "# 10\n",
        "import pandas as pd\n",
        "\n",
        "\n",
        "df = pd.DataFrame(data={'weight': [75., 78.5, 85., 91., 84.5, 83., 68.]})\n",
        "df['weight_cut'] = pd.cut(df['weight'], bins=(60, 75, 80, 95))\n",
        "print(df)"
      ],
      "metadata": {
        "id": "7ove1sLH1fxA",
        "outputId": "70fe9ad6-5428-4fee-c140-7d88ea4cd42b",
        "colab": {
          "base_uri": "https://localhost:8080/"
        }
      },
      "execution_count": 31,
      "outputs": [
        {
          "output_type": "stream",
          "name": "stdout",
          "text": [
            "   weight weight_cut\n",
            "0    75.0   (60, 75]\n",
            "1    78.5   (75, 80]\n",
            "2    85.0   (80, 95]\n",
            "3    91.0   (80, 95]\n",
            "4    84.5   (80, 95]\n",
            "5    83.0   (80, 95]\n",
            "6    68.0   (60, 75]\n"
          ]
        }
      ]
    },
    {
      "cell_type": "code",
      "source": [
        "# 11\n",
        "import pandas as pd\n",
        "\n",
        "\n",
        "df = pd.DataFrame(data={'weight': [75., 78.5, 85., 91., 84.5, 83., 68.]})\n",
        "df['weight_cut'] = pd.cut(df['weight'], bins=(60, 75, 80, 95), labels=['light', 'normal', 'heavy'])\n",
        "print(df)"
      ],
      "metadata": {
        "id": "MAOWqhe53NBb",
        "outputId": "30c37677-a00d-447b-ce68-89f2c0961428",
        "colab": {
          "base_uri": "https://localhost:8080/"
        }
      },
      "execution_count": 32,
      "outputs": [
        {
          "output_type": "stream",
          "name": "stdout",
          "text": [
            "   weight weight_cut\n",
            "0    75.0      light\n",
            "1    78.5     normal\n",
            "2    85.0      heavy\n",
            "3    91.0      heavy\n",
            "4    84.5      heavy\n",
            "5    83.0      heavy\n",
            "6    68.0      light\n"
          ]
        }
      ]
    },
    {
      "cell_type": "markdown",
      "source": [
        "### r\n"
      ],
      "metadata": {
        "id": "UT0xwPpi7x4g"
      }
    },
    {
      "cell_type": "code",
      "source": [
        "# 0\n",
        "import sklearn as skl\n",
        "skl.__version__"
      ],
      "metadata": {
        "id": "0gpDLUyi713-",
        "outputId": "6b70ea52-1a2f-40d3-c9d3-15c96ff7032d",
        "colab": {
          "base_uri": "https://localhost:8080/",
          "height": 35
        }
      },
      "execution_count": 33,
      "outputs": [
        {
          "output_type": "execute_result",
          "data": {
            "text/plain": [
              "'1.0.2'"
            ],
            "application/vnd.google.colaboratory.intrinsic+json": {
              "type": "string"
            }
          },
          "metadata": {},
          "execution_count": 33
        }
      ]
    },
    {
      "cell_type": "code",
      "source": [
        "# 1\n",
        "import numpy as np\n",
        "import pandas as pd\n",
        "\n",
        "data = {\n",
        "    'size': ['XL', 'L', 'M', np.nan, 'M', 'M'],\n",
        "    'color': ['red', 'green', 'blue', 'green', 'red', 'green'],\n",
        "    'gender': ['female', 'male', np.nan, 'female', 'female', 'male'],\n",
        "    'price': [199.0, 89.0, np.nan, 129.0, 79.0, 89.0],\n",
        "    'weight': [500, 450, 300, np.nan, 410, np.nan],\n",
        "    'bought': ['yes', 'no', 'yes', 'no', 'yes', 'no']\n",
        "}\n",
        "\n",
        "df = pd.DataFrame(data=data)\n",
        "print(round(df.isnull().sum() / len(df), 2))\n"
      ],
      "metadata": {
        "id": "2Pl_wyMh8Jyr",
        "outputId": "6a38f96f-eaea-4a71-fd80-d280f58c5f49",
        "colab": {
          "base_uri": "https://localhost:8080/"
        }
      },
      "execution_count": 45,
      "outputs": [
        {
          "output_type": "stream",
          "name": "stdout",
          "text": [
            "size      0.17\n",
            "color     0.00\n",
            "gender    0.17\n",
            "price     0.17\n",
            "weight    0.33\n",
            "bought    0.00\n",
            "dtype: float64\n"
          ]
        }
      ]
    }
  ]
}