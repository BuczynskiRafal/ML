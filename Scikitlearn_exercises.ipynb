{
  "nbformat": 4,
  "nbformat_minor": 0,
  "metadata": {
    "colab": {
      "name": "Scikitlearn_exercises.ipynb",
      "provenance": [],
      "include_colab_link": true
    },
    "kernelspec": {
      "name": "python3",
      "display_name": "Python 3"
    },
    "language_info": {
      "name": "python"
    }
  },
  "cells": [
    {
      "cell_type": "markdown",
      "metadata": {
        "id": "view-in-github",
        "colab_type": "text"
      },
      "source": [
        "<a href=\"https://colab.research.google.com/github/BuczynskiRafal/ML/blob/main/Scikitlearn_exercises.ipynb\" target=\"_parent\"><img src=\"https://colab.research.google.com/assets/colab-badge.svg\" alt=\"Open In Colab\"/></a>"
      ]
    },
    {
      "cell_type": "code",
      "source": [
        "!pip install scikit-learn"
      ],
      "metadata": {
        "id": "2ahEsHILutAS"
      },
      "execution_count": null,
      "outputs": []
    },
    {
      "cell_type": "code",
      "execution_count": null,
      "metadata": {
        "colab": {
          "base_uri": "https://localhost:8080/",
          "height": 35
        },
        "id": "ExtXExkZtwbT",
        "outputId": "cd299c93-4218-4aca-fb57-a6f82ce7cbb0"
      },
      "outputs": [
        {
          "output_type": "execute_result",
          "data": {
            "text/plain": [
              "'1.0.2'"
            ],
            "application/vnd.google.colaboratory.intrinsic+json": {
              "type": "string"
            }
          },
          "metadata": {},
          "execution_count": 9
        }
      ],
      "source": [
        "import sklearn as skl\n",
        "\n",
        "skl.__version__"
      ]
    },
    {
      "cell_type": "code",
      "source": [
        "# 2\n",
        "import numpy as np\n",
        "import pandas as pd\n",
        "\n",
        "\n",
        "data = {\n",
        "    'size': ['XL', 'L', 'M', np.nan, 'M', 'M'],\n",
        "    'color': ['red', 'green', 'blue', 'green', 'red', 'green'],\n",
        "    'gender': ['female', 'male', np.nan, 'female', 'female', 'male'],\n",
        "    'price': [199.0, 89.0, np.nan, 129.0, 79.0, 89.0],\n",
        "    'weight': [500, 450, 300, np.nan, 410, np.nan],\n",
        "    'bought': ['yes', 'no', 'yes', 'no', 'yes', 'no']\n",
        "}\n",
        "\n",
        "df = pd.DataFrame(data=data)\n",
        "\n",
        "print(round(df.isnull().sum() / len(df), 2))"
      ],
      "metadata": {
        "colab": {
          "base_uri": "https://localhost:8080/"
        },
        "id": "T6M-wanVu7i1",
        "outputId": "b7fd74ab-65b4-4611-f11e-148bdbb539f4"
      },
      "execution_count": 1,
      "outputs": [
        {
          "output_type": "stream",
          "name": "stdout",
          "text": [
            "size      0.17\n",
            "color     0.00\n",
            "gender    0.17\n",
            "price     0.17\n",
            "weight    0.33\n",
            "bought    0.00\n",
            "dtype: float64\n"
          ]
        }
      ]
    },
    {
      "cell_type": "code",
      "source": [
        "# 3\n",
        "import numpy as np\n",
        "import pandas as pd\n",
        "from sklearn.impute import SimpleImputer\n",
        "\n",
        "\n",
        "data = {\n",
        "    'size': ['XL', 'L', 'M', np.nan, 'M', 'M'],\n",
        "    'color': ['red', 'green', 'blue', 'green', 'red', 'green'],\n",
        "    'gender': ['female', 'male', np.nan, 'female', 'female', 'male'],\n",
        "    'price': [199.0, 89.0, np.nan, 129.0, 79.0, 89.0],\n",
        "    'weight': [500, 450, 300, np.nan, 410, np.nan],\n",
        "    'bought': ['yes', 'no', 'yes', 'no', 'yes', 'no']\n",
        "}\n",
        "\n",
        "df = pd.DataFrame(data=data)\n",
        "imputer = SimpleImputer(missing_values=np.nan, strategy='mean')\n",
        "df[['weight']] = imputer.fit_transform(df[['weight']])\n",
        "print(df)"
      ],
      "metadata": {
        "colab": {
          "base_uri": "https://localhost:8080/"
        },
        "id": "JSytmOfj-DCX",
        "outputId": "ccaa29e8-6589-40e0-adb1-ea0fff6322d7"
      },
      "execution_count": null,
      "outputs": [
        {
          "output_type": "stream",
          "name": "stdout",
          "text": [
            "  size  color  gender  price  weight bought\n",
            "0   XL    red  female  199.0   500.0    yes\n",
            "1    L  green    male   89.0   450.0     no\n",
            "2    M   blue     NaN    NaN   300.0    yes\n",
            "3  NaN  green  female  129.0   415.0     no\n",
            "4    M    red  female   79.0   410.0    yes\n",
            "5    M  green    male   89.0   415.0     no\n"
          ]
        }
      ]
    },
    {
      "cell_type": "code",
      "source": [
        "# 4\n",
        "import numpy as np\n",
        "import pandas as pd\n",
        "from sklearn.impute import SimpleImputer\n",
        "\n",
        "\n",
        "data = {\n",
        "    'size': ['XL', 'L', 'M', np.nan, 'M', 'M'],\n",
        "    'color': ['red', 'green', 'blue', 'green', 'red', 'green'],\n",
        "    'gender': ['female', 'male', np.nan, 'female', 'female', 'male'],\n",
        "    'price': [199.0, 89.0, np.nan, 129.0, 79.0, 89.0],\n",
        "    'weight': [500, 450, 300, np.nan, 410, np.nan],\n",
        "    'bought': ['yes', 'no', 'yes', 'no', 'yes', 'no']\n",
        "}\n",
        "\n",
        "df = pd.DataFrame(data=data)\n",
        "imputer = SimpleImputer(missing_values=np.nan, strategy='mean')\n",
        "df[['weight']] = imputer.fit_transform(df[['weight']])\n",
        "print(imputer.statistics_[0])"
      ],
      "metadata": {
        "id": "FzhzOA_foM5A",
        "outputId": "1ffed8be-763e-4c83-8e31-0e6b57ff307e",
        "colab": {
          "base_uri": "https://localhost:8080/"
        }
      },
      "execution_count": 8,
      "outputs": [
        {
          "output_type": "stream",
          "name": "stdout",
          "text": [
            "415.0\n"
          ]
        }
      ]
    },
    {
      "cell_type": "code",
      "source": [
        "# 5\n",
        "import numpy as np\n",
        "import pandas as pd\n",
        "from sklearn.impute import SimpleImputer\n",
        "\n",
        "\n",
        "data = {\n",
        "    'size': ['XL', 'L', 'M', np.nan, 'M', 'M'],\n",
        "    'color': ['red', 'green', 'blue', 'green', 'red', 'green'],\n",
        "    'gender': ['female', 'male', np.nan, 'female', 'female', 'male'],\n",
        "    'price': [199.0, 89.0, np.nan, 129.0, 79.0, 89.0],\n",
        "    'weight': [500, 450, 300, np.nan, 410, np.nan],\n",
        "    'bought': ['yes', 'no', 'yes', 'no', 'yes', 'no']\n",
        "}\n",
        "\n",
        "df = pd.DataFrame(data=data)\n",
        "imputer = SimpleImputer(missing_values=np.nan, strategy='constant', fill_value=99.0)\n",
        "df[['price']] = imputer.fit_transform(df[['price']])\n",
        "\n",
        "print(df)"
      ],
      "metadata": {
        "id": "uRS9w2Klq17m",
        "outputId": "6cfc9960-90a2-4312-cd9b-53c2d9e2c8c5",
        "colab": {
          "base_uri": "https://localhost:8080/"
        }
      },
      "execution_count": 11,
      "outputs": [
        {
          "output_type": "stream",
          "name": "stdout",
          "text": [
            "  size  color  gender  price  weight bought\n",
            "0   XL    red  female  199.0   500.0    yes\n",
            "1    L  green    male   89.0   450.0     no\n",
            "2    M   blue     NaN   99.0   300.0    yes\n",
            "3  NaN  green  female  129.0     NaN     no\n",
            "4    M    red  female   79.0   410.0    yes\n",
            "5    M  green    male   89.0     NaN     no\n"
          ]
        }
      ]
    },
    {
      "cell_type": "code",
      "source": [
        "# 6\n",
        "import numpy as np\n",
        "import pandas as pd\n",
        "from sklearn.impute import SimpleImputer\n",
        "\n",
        "\n",
        "data = {\n",
        "    'size': ['XL', 'L', 'M', np.nan, 'M', 'M'],\n",
        "    'color': ['red', 'green', 'blue', 'green', 'red', 'green'],\n",
        "    'gender': ['female', 'male', np.nan, 'female', 'female', 'male'],\n",
        "    'price': [199.0, 89.0, np.nan, 129.0, 79.0, 89.0],\n",
        "    'weight': [500, 450, 300, np.nan, 410, np.nan],\n",
        "    'bought': ['yes', 'no', 'yes', 'no', 'yes', 'no']\n",
        "}\n",
        "\n",
        "df = pd.DataFrame(data=data)\n",
        "imputer = SimpleImputer(missing_values=np.nan, strategy='most_frequent')\n",
        "df[['size']] = imputer.fit_transform(df[['size']])\n",
        "\n",
        "print(df)"
      ],
      "metadata": {
        "id": "IVebYHyLsRuh",
        "outputId": "11dcbe9d-3ad8-4d72-aee2-48db6771e40e",
        "colab": {
          "base_uri": "https://localhost:8080/"
        }
      },
      "execution_count": 13,
      "outputs": [
        {
          "output_type": "stream",
          "name": "stdout",
          "text": [
            "  size  color  gender  price  weight bought\n",
            "0   XL    red  female  199.0   500.0    yes\n",
            "1    L  green    male   89.0   450.0     no\n",
            "2    M   blue     NaN    NaN   300.0    yes\n",
            "3    M  green  female  129.0     NaN     no\n",
            "4    M    red  female   79.0   410.0    yes\n",
            "5    M  green    male   89.0     NaN     no\n"
          ]
        }
      ]
    },
    {
      "cell_type": "code",
      "source": [
        "# 7\n",
        "import numpy as np\n",
        "import pandas as pd\n",
        "from sklearn.impute import SimpleImputer\n",
        "\n",
        "\n",
        "data = {\n",
        "    'size': ['XL', 'L', 'M', np.nan, 'M', 'M'],\n",
        "    'color': ['red', 'green', 'blue', 'green', 'red', 'green'],\n",
        "    'gender': ['female', 'male', np.nan, 'female', 'female', 'male'],\n",
        "    'price': [199.0, 89.0, np.nan, 129.0, 79.0, 89.0],\n",
        "    'weight': [500, 450, 300, np.nan, 410, np.nan],\n",
        "    'bought': ['yes', 'no', 'yes', 'no', 'yes', 'no']\n",
        "}\n",
        "\n",
        "df = pd.DataFrame(data=data)\n",
        "# Wytnij wszystkie wiersze gdzie weight jest puste\n",
        "# print(df[~df['weight'].isnull()])\n",
        "\n",
        "# średnia z wierszt niepustych\n",
        "print(df[~df['weight'].isnull()].mean())\n"
      ],
      "metadata": {
        "id": "gqCRYXzbtETd",
        "outputId": "28831bcd-966d-4406-8979-a63b7ece91c5",
        "colab": {
          "base_uri": "https://localhost:8080/"
        }
      },
      "execution_count": 17,
      "outputs": [
        {
          "output_type": "stream",
          "name": "stdout",
          "text": [
            "price     122.333333\n",
            "weight    415.000000\n",
            "dtype: float64\n"
          ]
        },
        {
          "output_type": "stream",
          "name": "stderr",
          "text": [
            "/usr/local/lib/python3.7/dist-packages/ipykernel_launcher.py:21: FutureWarning: Dropping of nuisance columns in DataFrame reductions (with 'numeric_only=None') is deprecated; in a future version this will raise TypeError.  Select only valid columns before calling the reduction.\n"
          ]
        }
      ]
    },
    {
      "cell_type": "code",
      "source": [
        "# 8\n",
        "import numpy as np\n",
        "import pandas as pd\n",
        "from sklearn.impute import SimpleImputer\n",
        "\n",
        "\n",
        "data = {\n",
        "    'size': ['XL', 'L', 'M', np.nan, 'M', 'M'],\n",
        "    'color': ['red', 'green', 'blue', 'green', 'red', 'green'],\n",
        "    'gender': ['female', 'male', np.nan, 'female', 'female', 'male'],\n",
        "    'price': [199.0, 89.0, np.nan, 129.0, 79.0, 89.0],\n",
        "    'weight': [500, 450, 300, np.nan, 410, np.nan],\n",
        "    'bought': ['yes', 'no', 'yes', 'no', 'yes', 'no']\n",
        "}\n",
        "\n",
        "df = pd.DataFrame(data=data)\n",
        "df"
      ],
      "metadata": {
        "id": "wMKNMO9qu8-d",
        "outputId": "404ce79e-266a-4bab-c226-181504383ff4",
        "colab": {
          "base_uri": "https://localhost:8080/",
          "height": 238
        }
      },
      "execution_count": 19,
      "outputs": [
        {
          "output_type": "execute_result",
          "data": {
            "text/plain": [
              "  size  color  gender  price  weight bought\n",
              "0   XL    red  female  199.0   500.0    yes\n",
              "1    L  green    male   89.0   450.0     no\n",
              "2    M   blue     NaN    NaN   300.0    yes\n",
              "3  NaN  green  female  129.0     NaN     no\n",
              "4    M    red  female   79.0   410.0    yes\n",
              "5    M  green    male   89.0     NaN     no"
            ],
            "text/html": [
              "\n",
              "  <div id=\"df-6e3a003c-b08b-4305-a091-47cd7d0cf110\">\n",
              "    <div class=\"colab-df-container\">\n",
              "      <div>\n",
              "<style scoped>\n",
              "    .dataframe tbody tr th:only-of-type {\n",
              "        vertical-align: middle;\n",
              "    }\n",
              "\n",
              "    .dataframe tbody tr th {\n",
              "        vertical-align: top;\n",
              "    }\n",
              "\n",
              "    .dataframe thead th {\n",
              "        text-align: right;\n",
              "    }\n",
              "</style>\n",
              "<table border=\"1\" class=\"dataframe\">\n",
              "  <thead>\n",
              "    <tr style=\"text-align: right;\">\n",
              "      <th></th>\n",
              "      <th>size</th>\n",
              "      <th>color</th>\n",
              "      <th>gender</th>\n",
              "      <th>price</th>\n",
              "      <th>weight</th>\n",
              "      <th>bought</th>\n",
              "    </tr>\n",
              "  </thead>\n",
              "  <tbody>\n",
              "    <tr>\n",
              "      <th>0</th>\n",
              "      <td>XL</td>\n",
              "      <td>red</td>\n",
              "      <td>female</td>\n",
              "      <td>199.0</td>\n",
              "      <td>500.0</td>\n",
              "      <td>yes</td>\n",
              "    </tr>\n",
              "    <tr>\n",
              "      <th>1</th>\n",
              "      <td>L</td>\n",
              "      <td>green</td>\n",
              "      <td>male</td>\n",
              "      <td>89.0</td>\n",
              "      <td>450.0</td>\n",
              "      <td>no</td>\n",
              "    </tr>\n",
              "    <tr>\n",
              "      <th>2</th>\n",
              "      <td>M</td>\n",
              "      <td>blue</td>\n",
              "      <td>NaN</td>\n",
              "      <td>NaN</td>\n",
              "      <td>300.0</td>\n",
              "      <td>yes</td>\n",
              "    </tr>\n",
              "    <tr>\n",
              "      <th>3</th>\n",
              "      <td>NaN</td>\n",
              "      <td>green</td>\n",
              "      <td>female</td>\n",
              "      <td>129.0</td>\n",
              "      <td>NaN</td>\n",
              "      <td>no</td>\n",
              "    </tr>\n",
              "    <tr>\n",
              "      <th>4</th>\n",
              "      <td>M</td>\n",
              "      <td>red</td>\n",
              "      <td>female</td>\n",
              "      <td>79.0</td>\n",
              "      <td>410.0</td>\n",
              "      <td>yes</td>\n",
              "    </tr>\n",
              "    <tr>\n",
              "      <th>5</th>\n",
              "      <td>M</td>\n",
              "      <td>green</td>\n",
              "      <td>male</td>\n",
              "      <td>89.0</td>\n",
              "      <td>NaN</td>\n",
              "      <td>no</td>\n",
              "    </tr>\n",
              "  </tbody>\n",
              "</table>\n",
              "</div>\n",
              "      <button class=\"colab-df-convert\" onclick=\"convertToInteractive('df-6e3a003c-b08b-4305-a091-47cd7d0cf110')\"\n",
              "              title=\"Convert this dataframe to an interactive table.\"\n",
              "              style=\"display:none;\">\n",
              "        \n",
              "  <svg xmlns=\"http://www.w3.org/2000/svg\" height=\"24px\"viewBox=\"0 0 24 24\"\n",
              "       width=\"24px\">\n",
              "    <path d=\"M0 0h24v24H0V0z\" fill=\"none\"/>\n",
              "    <path d=\"M18.56 5.44l.94 2.06.94-2.06 2.06-.94-2.06-.94-.94-2.06-.94 2.06-2.06.94zm-11 1L8.5 8.5l.94-2.06 2.06-.94-2.06-.94L8.5 2.5l-.94 2.06-2.06.94zm10 10l.94 2.06.94-2.06 2.06-.94-2.06-.94-.94-2.06-.94 2.06-2.06.94z\"/><path d=\"M17.41 7.96l-1.37-1.37c-.4-.4-.92-.59-1.43-.59-.52 0-1.04.2-1.43.59L10.3 9.45l-7.72 7.72c-.78.78-.78 2.05 0 2.83L4 21.41c.39.39.9.59 1.41.59.51 0 1.02-.2 1.41-.59l7.78-7.78 2.81-2.81c.8-.78.8-2.07 0-2.86zM5.41 20L4 18.59l7.72-7.72 1.47 1.35L5.41 20z\"/>\n",
              "  </svg>\n",
              "      </button>\n",
              "      \n",
              "  <style>\n",
              "    .colab-df-container {\n",
              "      display:flex;\n",
              "      flex-wrap:wrap;\n",
              "      gap: 12px;\n",
              "    }\n",
              "\n",
              "    .colab-df-convert {\n",
              "      background-color: #E8F0FE;\n",
              "      border: none;\n",
              "      border-radius: 50%;\n",
              "      cursor: pointer;\n",
              "      display: none;\n",
              "      fill: #1967D2;\n",
              "      height: 32px;\n",
              "      padding: 0 0 0 0;\n",
              "      width: 32px;\n",
              "    }\n",
              "\n",
              "    .colab-df-convert:hover {\n",
              "      background-color: #E2EBFA;\n",
              "      box-shadow: 0px 1px 2px rgba(60, 64, 67, 0.3), 0px 1px 3px 1px rgba(60, 64, 67, 0.15);\n",
              "      fill: #174EA6;\n",
              "    }\n",
              "\n",
              "    [theme=dark] .colab-df-convert {\n",
              "      background-color: #3B4455;\n",
              "      fill: #D2E3FC;\n",
              "    }\n",
              "\n",
              "    [theme=dark] .colab-df-convert:hover {\n",
              "      background-color: #434B5C;\n",
              "      box-shadow: 0px 1px 3px 1px rgba(0, 0, 0, 0.15);\n",
              "      filter: drop-shadow(0px 1px 2px rgba(0, 0, 0, 0.3));\n",
              "      fill: #FFFFFF;\n",
              "    }\n",
              "  </style>\n",
              "\n",
              "      <script>\n",
              "        const buttonEl =\n",
              "          document.querySelector('#df-6e3a003c-b08b-4305-a091-47cd7d0cf110 button.colab-df-convert');\n",
              "        buttonEl.style.display =\n",
              "          google.colab.kernel.accessAllowed ? 'block' : 'none';\n",
              "\n",
              "        async function convertToInteractive(key) {\n",
              "          const element = document.querySelector('#df-6e3a003c-b08b-4305-a091-47cd7d0cf110');\n",
              "          const dataTable =\n",
              "            await google.colab.kernel.invokeFunction('convertToInteractive',\n",
              "                                                     [key], {});\n",
              "          if (!dataTable) return;\n",
              "\n",
              "          const docLinkHtml = 'Like what you see? Visit the ' +\n",
              "            '<a target=\"_blank\" href=https://colab.research.google.com/notebooks/data_table.ipynb>data table notebook</a>'\n",
              "            + ' to learn more about interactive tables.';\n",
              "          element.innerHTML = '';\n",
              "          dataTable['output_type'] = 'display_data';\n",
              "          await google.colab.output.renderOutput(dataTable, element);\n",
              "          const docLink = document.createElement('div');\n",
              "          docLink.innerHTML = docLinkHtml;\n",
              "          element.appendChild(docLink);\n",
              "        }\n",
              "      </script>\n",
              "    </div>\n",
              "  </div>\n",
              "  "
            ]
          },
          "metadata": {},
          "execution_count": 19
        }
      ]
    }
  ]
}