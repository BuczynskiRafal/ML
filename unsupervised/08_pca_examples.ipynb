{
  "nbformat": 4,
  "nbformat_minor": 0,
  "metadata": {
    "colab": {
      "name": "08_pca_examples.ipynb",
      "provenance": [],
      "authorship_tag": "ABX9TyMU8D7ZPNSNcVHzm26kHrLt",
      "include_colab_link": true
    },
    "kernelspec": {
      "name": "python3",
      "display_name": "Python 3"
    },
    "language_info": {
      "name": "python"
    }
  },
  "cells": [
    {
      "cell_type": "markdown",
      "metadata": {
        "id": "view-in-github",
        "colab_type": "text"
      },
      "source": [
        "<a href=\"https://colab.research.google.com/github/BuczynskiRafal/ML/blob/main/unsupervised/08_pca_examples.ipynb\" target=\"_parent\"><img src=\"https://colab.research.google.com/assets/colab-badge.svg\" alt=\"Open In Colab\"/></a>"
      ]
    },
    {
      "cell_type": "markdown",
      "source": [
        "# Import bibliotek\n"
      ],
      "metadata": {
        "id": "VxCa-lD36RV_"
      }
    },
    {
      "cell_type": "code",
      "execution_count": 1,
      "metadata": {
        "id": "aFuHpEGq6ONm"
      },
      "outputs": [],
      "source": [
        "import numpy as np\n",
        "import pandas as pd\n",
        "import matplotlib.pyplot as plt\n",
        "import plotly.graph_objects as go\n",
        "import plotly.express as px\n",
        "\n",
        "np.set_printoptions(precision=4, suppress=True, linewidth=150)"
      ]
    },
    {
      "cell_type": "markdown",
      "source": [
        "# Załadowanie danych - breast cancer\n"
      ],
      "metadata": {
        "id": "ljULuGm46WBS"
      }
    },
    {
      "cell_type": "code",
      "source": [
        "from sklearn.datasets import load_breast_cancer\n",
        "\n",
        "raw_data = load_breast_cancer()\n",
        "all_data = raw_data.copy()\n",
        "data = all_data['data']\n",
        "target = all_data['target']\n",
        "data[:3]\n"
      ],
      "metadata": {
        "colab": {
          "base_uri": "https://localhost:8080/"
        },
        "id": "3S3457Hq6UHe",
        "outputId": "3359d67b-5e76-4fcd-bbdc-dbdedf4f99a7"
      },
      "execution_count": 5,
      "outputs": [
        {
          "output_type": "execute_result",
          "data": {
            "text/plain": [
              "array([[  17.99  ,   10.38  ,  122.8   , 1001.    ,    0.1184,    0.2776,    0.3001,    0.1471,    0.2419,    0.0787,    1.095 ,    0.9053,\n",
              "           8.589 ,  153.4   ,    0.0064,    0.049 ,    0.0537,    0.0159,    0.03  ,    0.0062,   25.38  ,   17.33  ,  184.6   , 2019.    ,\n",
              "           0.1622,    0.6656,    0.7119,    0.2654,    0.4601,    0.1189],\n",
              "       [  20.57  ,   17.77  ,  132.9   , 1326.    ,    0.0847,    0.0786,    0.0869,    0.0702,    0.1812,    0.0567,    0.5435,    0.7339,\n",
              "           3.398 ,   74.08  ,    0.0052,    0.0131,    0.0186,    0.0134,    0.0139,    0.0035,   24.99  ,   23.41  ,  158.8   , 1956.    ,\n",
              "           0.1238,    0.1866,    0.2416,    0.186 ,    0.275 ,    0.089 ],\n",
              "       [  19.69  ,   21.25  ,  130.    , 1203.    ,    0.1096,    0.1599,    0.1974,    0.1279,    0.2069,    0.06  ,    0.7456,    0.7869,\n",
              "           4.585 ,   94.03  ,    0.0062,    0.0401,    0.0383,    0.0206,    0.0225,    0.0046,   23.57  ,   25.53  ,  152.5   , 1709.    ,\n",
              "           0.1444,    0.4245,    0.4504,    0.243 ,    0.3613,    0.0876]])"
            ]
          },
          "metadata": {},
          "execution_count": 5
        }
      ]
    },
    {
      "cell_type": "code",
      "source": [
        "target[:30]"
      ],
      "metadata": {
        "colab": {
          "base_uri": "https://localhost:8080/"
        },
        "id": "8BMFcMq-67Bn",
        "outputId": "315576dc-22a1-4d3b-b92e-527436156780"
      },
      "execution_count": 7,
      "outputs": [
        {
          "output_type": "execute_result",
          "data": {
            "text/plain": [
              "array([0, 0, 0, 0, 0, 0, 0, 0, 0, 0, 0, 0, 0, 0, 0, 0, 0, 0, 0, 1, 1, 1, 0, 0, 0, 0, 0, 0, 0, 0])"
            ]
          },
          "metadata": {},
          "execution_count": 7
        }
      ]
    },
    {
      "cell_type": "code",
      "source": [
        "data.shape"
      ],
      "metadata": {
        "colab": {
          "base_uri": "https://localhost:8080/"
        },
        "id": "qmffw7ev69Ej",
        "outputId": "6f5000af-5a09-449f-839a-d21b40e59df6"
      },
      "execution_count": 8,
      "outputs": [
        {
          "output_type": "execute_result",
          "data": {
            "text/plain": [
              "(569, 30)"
            ]
          },
          "metadata": {},
          "execution_count": 8
        }
      ]
    },
    {
      "cell_type": "markdown",
      "source": [
        "# Standaryzacja\n"
      ],
      "metadata": {
        "id": "FkmYVZKr7i92"
      }
    },
    {
      "cell_type": "code",
      "source": [
        "from sklearn.preprocessing import StandardScaler\n",
        "\n",
        "scaler = StandardScaler()\n",
        "data_std = scaler.fit_transform(data)\n",
        "data_std[:3]"
      ],
      "metadata": {
        "colab": {
          "base_uri": "https://localhost:8080/"
        },
        "id": "1HlIbmG36-9m",
        "outputId": "7dfeefc9-5a1f-420e-e8fd-994ddd7f3b58"
      },
      "execution_count": 9,
      "outputs": [
        {
          "output_type": "execute_result",
          "data": {
            "text/plain": [
              "array([[ 1.0971, -2.0733,  1.2699,  0.9844,  1.5685,  3.2835,  2.6529,  2.5325,  2.2175,  2.2557,  2.4897, -0.5653,  2.833 ,  2.4876, -0.214 ,\n",
              "         1.3169,  0.724 ,  0.6608,  1.1488,  0.9071,  1.8867, -1.3593,  2.3036,  2.0012,  1.3077,  2.6167,  2.1095,  2.2961,  2.7506,  1.937 ],\n",
              "       [ 1.8298, -0.3536,  1.686 ,  1.9087, -0.827 , -0.4871, -0.0238,  0.5481,  0.0014, -0.8687,  0.4993, -0.8762,  0.2633,  0.7424, -0.6054,\n",
              "        -0.6929, -0.4408,  0.2602, -0.8055, -0.0994,  1.8059, -0.3692,  1.5351,  1.8905, -0.3756, -0.4304, -0.1467,  1.0871, -0.2439,  0.2812],\n",
              "       [ 1.5799,  0.4562,  1.5665,  1.5589,  0.9422,  1.0529,  1.3635,  2.0372,  0.9397, -0.398 ,  1.2287, -0.7801,  0.8509,  1.1813, -0.297 ,\n",
              "         0.815 ,  0.2131,  1.4248,  0.237 ,  0.2936,  1.5119, -0.024 ,  1.3475,  1.4563,  0.5274,  1.0829,  0.855 ,  1.955 ,  1.1523,  0.2014]])"
            ]
          },
          "metadata": {},
          "execution_count": 9
        }
      ]
    },
    {
      "cell_type": "markdown",
      "source": [
        "# PCA - 2 komponenty\n"
      ],
      "metadata": {
        "id": "zSbpOBJw70FI"
      }
    },
    {
      "cell_type": "code",
      "source": [
        "from sklearn.decomposition import PCA\n",
        "\n",
        "pca = PCA(n_components=2)\n",
        "data_pca = pca.fit_transform(data_std)\n",
        "data_pca[:5]"
      ],
      "metadata": {
        "colab": {
          "base_uri": "https://localhost:8080/"
        },
        "id": "AVl77wey70qs",
        "outputId": "aa8a9e7e-a56b-490d-cd60-faa38f379f64"
      },
      "execution_count": 10,
      "outputs": [
        {
          "output_type": "execute_result",
          "data": {
            "text/plain": [
              "array([[ 9.1928,  1.9486],\n",
              "       [ 2.3878, -3.7682],\n",
              "       [ 5.7339, -1.0752],\n",
              "       [ 7.123 , 10.2756],\n",
              "       [ 3.9353, -1.9481]])"
            ]
          },
          "metadata": {},
          "execution_count": 10
        }
      ]
    },
    {
      "cell_type": "code",
      "source": [
        "pca_2 = pd.DataFrame(data={'pca_1': data_pca[:, 0], 'pca_2': data_pca[:, 1], 'class': target})\n",
        "pca_2.replace(0, 'Benign', inplace=True)\n",
        "pca_2.replace(1, 'Malignant', inplace=True)\n",
        "pca_2.head()"
      ],
      "metadata": {
        "colab": {
          "base_uri": "https://localhost:8080/",
          "height": 206
        },
        "id": "AOgYOPSk717V",
        "outputId": "f2f163ec-7875-4149-99bf-cfde49958f09"
      },
      "execution_count": 11,
      "outputs": [
        {
          "output_type": "execute_result",
          "data": {
            "text/plain": [
              "      pca_1      pca_2   class\n",
              "0  9.192837   1.948583  Benign\n",
              "1  2.387802  -3.768172  Benign\n",
              "2  5.733896  -1.075174  Benign\n",
              "3  7.122953  10.275589  Benign\n",
              "4  3.935302  -1.948072  Benign"
            ],
            "text/html": [
              "\n",
              "  <div id=\"df-30ce8c3f-4c67-4a83-89c2-ace1de0ddbf0\">\n",
              "    <div class=\"colab-df-container\">\n",
              "      <div>\n",
              "<style scoped>\n",
              "    .dataframe tbody tr th:only-of-type {\n",
              "        vertical-align: middle;\n",
              "    }\n",
              "\n",
              "    .dataframe tbody tr th {\n",
              "        vertical-align: top;\n",
              "    }\n",
              "\n",
              "    .dataframe thead th {\n",
              "        text-align: right;\n",
              "    }\n",
              "</style>\n",
              "<table border=\"1\" class=\"dataframe\">\n",
              "  <thead>\n",
              "    <tr style=\"text-align: right;\">\n",
              "      <th></th>\n",
              "      <th>pca_1</th>\n",
              "      <th>pca_2</th>\n",
              "      <th>class</th>\n",
              "    </tr>\n",
              "  </thead>\n",
              "  <tbody>\n",
              "    <tr>\n",
              "      <th>0</th>\n",
              "      <td>9.192837</td>\n",
              "      <td>1.948583</td>\n",
              "      <td>Benign</td>\n",
              "    </tr>\n",
              "    <tr>\n",
              "      <th>1</th>\n",
              "      <td>2.387802</td>\n",
              "      <td>-3.768172</td>\n",
              "      <td>Benign</td>\n",
              "    </tr>\n",
              "    <tr>\n",
              "      <th>2</th>\n",
              "      <td>5.733896</td>\n",
              "      <td>-1.075174</td>\n",
              "      <td>Benign</td>\n",
              "    </tr>\n",
              "    <tr>\n",
              "      <th>3</th>\n",
              "      <td>7.122953</td>\n",
              "      <td>10.275589</td>\n",
              "      <td>Benign</td>\n",
              "    </tr>\n",
              "    <tr>\n",
              "      <th>4</th>\n",
              "      <td>3.935302</td>\n",
              "      <td>-1.948072</td>\n",
              "      <td>Benign</td>\n",
              "    </tr>\n",
              "  </tbody>\n",
              "</table>\n",
              "</div>\n",
              "      <button class=\"colab-df-convert\" onclick=\"convertToInteractive('df-30ce8c3f-4c67-4a83-89c2-ace1de0ddbf0')\"\n",
              "              title=\"Convert this dataframe to an interactive table.\"\n",
              "              style=\"display:none;\">\n",
              "        \n",
              "  <svg xmlns=\"http://www.w3.org/2000/svg\" height=\"24px\"viewBox=\"0 0 24 24\"\n",
              "       width=\"24px\">\n",
              "    <path d=\"M0 0h24v24H0V0z\" fill=\"none\"/>\n",
              "    <path d=\"M18.56 5.44l.94 2.06.94-2.06 2.06-.94-2.06-.94-.94-2.06-.94 2.06-2.06.94zm-11 1L8.5 8.5l.94-2.06 2.06-.94-2.06-.94L8.5 2.5l-.94 2.06-2.06.94zm10 10l.94 2.06.94-2.06 2.06-.94-2.06-.94-.94-2.06-.94 2.06-2.06.94z\"/><path d=\"M17.41 7.96l-1.37-1.37c-.4-.4-.92-.59-1.43-.59-.52 0-1.04.2-1.43.59L10.3 9.45l-7.72 7.72c-.78.78-.78 2.05 0 2.83L4 21.41c.39.39.9.59 1.41.59.51 0 1.02-.2 1.41-.59l7.78-7.78 2.81-2.81c.8-.78.8-2.07 0-2.86zM5.41 20L4 18.59l7.72-7.72 1.47 1.35L5.41 20z\"/>\n",
              "  </svg>\n",
              "      </button>\n",
              "      \n",
              "  <style>\n",
              "    .colab-df-container {\n",
              "      display:flex;\n",
              "      flex-wrap:wrap;\n",
              "      gap: 12px;\n",
              "    }\n",
              "\n",
              "    .colab-df-convert {\n",
              "      background-color: #E8F0FE;\n",
              "      border: none;\n",
              "      border-radius: 50%;\n",
              "      cursor: pointer;\n",
              "      display: none;\n",
              "      fill: #1967D2;\n",
              "      height: 32px;\n",
              "      padding: 0 0 0 0;\n",
              "      width: 32px;\n",
              "    }\n",
              "\n",
              "    .colab-df-convert:hover {\n",
              "      background-color: #E2EBFA;\n",
              "      box-shadow: 0px 1px 2px rgba(60, 64, 67, 0.3), 0px 1px 3px 1px rgba(60, 64, 67, 0.15);\n",
              "      fill: #174EA6;\n",
              "    }\n",
              "\n",
              "    [theme=dark] .colab-df-convert {\n",
              "      background-color: #3B4455;\n",
              "      fill: #D2E3FC;\n",
              "    }\n",
              "\n",
              "    [theme=dark] .colab-df-convert:hover {\n",
              "      background-color: #434B5C;\n",
              "      box-shadow: 0px 1px 3px 1px rgba(0, 0, 0, 0.15);\n",
              "      filter: drop-shadow(0px 1px 2px rgba(0, 0, 0, 0.3));\n",
              "      fill: #FFFFFF;\n",
              "    }\n",
              "  </style>\n",
              "\n",
              "      <script>\n",
              "        const buttonEl =\n",
              "          document.querySelector('#df-30ce8c3f-4c67-4a83-89c2-ace1de0ddbf0 button.colab-df-convert');\n",
              "        buttonEl.style.display =\n",
              "          google.colab.kernel.accessAllowed ? 'block' : 'none';\n",
              "\n",
              "        async function convertToInteractive(key) {\n",
              "          const element = document.querySelector('#df-30ce8c3f-4c67-4a83-89c2-ace1de0ddbf0');\n",
              "          const dataTable =\n",
              "            await google.colab.kernel.invokeFunction('convertToInteractive',\n",
              "                                                     [key], {});\n",
              "          if (!dataTable) return;\n",
              "\n",
              "          const docLinkHtml = 'Like what you see? Visit the ' +\n",
              "            '<a target=\"_blank\" href=https://colab.research.google.com/notebooks/data_table.ipynb>data table notebook</a>'\n",
              "            + ' to learn more about interactive tables.';\n",
              "          element.innerHTML = '';\n",
              "          dataTable['output_type'] = 'display_data';\n",
              "          await google.colab.output.renderOutput(dataTable, element);\n",
              "          const docLink = document.createElement('div');\n",
              "          docLink.innerHTML = docLinkHtml;\n",
              "          element.appendChild(docLink);\n",
              "        }\n",
              "      </script>\n",
              "    </div>\n",
              "  </div>\n",
              "  "
            ]
          },
          "metadata": {},
          "execution_count": 11
        }
      ]
    },
    {
      "cell_type": "code",
      "source": [
        "results = pd.DataFrame(data={'explained_variance_ratio': pca.explained_variance_ratio_})\n",
        "results['cumulative'] = results['explained_variance_ratio'].cumsum()\n",
        "results['component'] = results.index + 1\n",
        "results"
      ],
      "metadata": {
        "colab": {
          "base_uri": "https://localhost:8080/",
          "height": 112
        },
        "id": "5lkmToSt7340",
        "outputId": "bf58ad25-6e7e-4941-a368-52d8aa882636"
      },
      "execution_count": 12,
      "outputs": [
        {
          "output_type": "execute_result",
          "data": {
            "text/plain": [
              "   explained_variance_ratio  cumulative  component\n",
              "0                  0.442720    0.442720          1\n",
              "1                  0.189712    0.632432          2"
            ],
            "text/html": [
              "\n",
              "  <div id=\"df-dd2c2097-06b8-4558-8d6c-a1e4cb289382\">\n",
              "    <div class=\"colab-df-container\">\n",
              "      <div>\n",
              "<style scoped>\n",
              "    .dataframe tbody tr th:only-of-type {\n",
              "        vertical-align: middle;\n",
              "    }\n",
              "\n",
              "    .dataframe tbody tr th {\n",
              "        vertical-align: top;\n",
              "    }\n",
              "\n",
              "    .dataframe thead th {\n",
              "        text-align: right;\n",
              "    }\n",
              "</style>\n",
              "<table border=\"1\" class=\"dataframe\">\n",
              "  <thead>\n",
              "    <tr style=\"text-align: right;\">\n",
              "      <th></th>\n",
              "      <th>explained_variance_ratio</th>\n",
              "      <th>cumulative</th>\n",
              "      <th>component</th>\n",
              "    </tr>\n",
              "  </thead>\n",
              "  <tbody>\n",
              "    <tr>\n",
              "      <th>0</th>\n",
              "      <td>0.442720</td>\n",
              "      <td>0.442720</td>\n",
              "      <td>1</td>\n",
              "    </tr>\n",
              "    <tr>\n",
              "      <th>1</th>\n",
              "      <td>0.189712</td>\n",
              "      <td>0.632432</td>\n",
              "      <td>2</td>\n",
              "    </tr>\n",
              "  </tbody>\n",
              "</table>\n",
              "</div>\n",
              "      <button class=\"colab-df-convert\" onclick=\"convertToInteractive('df-dd2c2097-06b8-4558-8d6c-a1e4cb289382')\"\n",
              "              title=\"Convert this dataframe to an interactive table.\"\n",
              "              style=\"display:none;\">\n",
              "        \n",
              "  <svg xmlns=\"http://www.w3.org/2000/svg\" height=\"24px\"viewBox=\"0 0 24 24\"\n",
              "       width=\"24px\">\n",
              "    <path d=\"M0 0h24v24H0V0z\" fill=\"none\"/>\n",
              "    <path d=\"M18.56 5.44l.94 2.06.94-2.06 2.06-.94-2.06-.94-.94-2.06-.94 2.06-2.06.94zm-11 1L8.5 8.5l.94-2.06 2.06-.94-2.06-.94L8.5 2.5l-.94 2.06-2.06.94zm10 10l.94 2.06.94-2.06 2.06-.94-2.06-.94-.94-2.06-.94 2.06-2.06.94z\"/><path d=\"M17.41 7.96l-1.37-1.37c-.4-.4-.92-.59-1.43-.59-.52 0-1.04.2-1.43.59L10.3 9.45l-7.72 7.72c-.78.78-.78 2.05 0 2.83L4 21.41c.39.39.9.59 1.41.59.51 0 1.02-.2 1.41-.59l7.78-7.78 2.81-2.81c.8-.78.8-2.07 0-2.86zM5.41 20L4 18.59l7.72-7.72 1.47 1.35L5.41 20z\"/>\n",
              "  </svg>\n",
              "      </button>\n",
              "      \n",
              "  <style>\n",
              "    .colab-df-container {\n",
              "      display:flex;\n",
              "      flex-wrap:wrap;\n",
              "      gap: 12px;\n",
              "    }\n",
              "\n",
              "    .colab-df-convert {\n",
              "      background-color: #E8F0FE;\n",
              "      border: none;\n",
              "      border-radius: 50%;\n",
              "      cursor: pointer;\n",
              "      display: none;\n",
              "      fill: #1967D2;\n",
              "      height: 32px;\n",
              "      padding: 0 0 0 0;\n",
              "      width: 32px;\n",
              "    }\n",
              "\n",
              "    .colab-df-convert:hover {\n",
              "      background-color: #E2EBFA;\n",
              "      box-shadow: 0px 1px 2px rgba(60, 64, 67, 0.3), 0px 1px 3px 1px rgba(60, 64, 67, 0.15);\n",
              "      fill: #174EA6;\n",
              "    }\n",
              "\n",
              "    [theme=dark] .colab-df-convert {\n",
              "      background-color: #3B4455;\n",
              "      fill: #D2E3FC;\n",
              "    }\n",
              "\n",
              "    [theme=dark] .colab-df-convert:hover {\n",
              "      background-color: #434B5C;\n",
              "      box-shadow: 0px 1px 3px 1px rgba(0, 0, 0, 0.15);\n",
              "      filter: drop-shadow(0px 1px 2px rgba(0, 0, 0, 0.3));\n",
              "      fill: #FFFFFF;\n",
              "    }\n",
              "  </style>\n",
              "\n",
              "      <script>\n",
              "        const buttonEl =\n",
              "          document.querySelector('#df-dd2c2097-06b8-4558-8d6c-a1e4cb289382 button.colab-df-convert');\n",
              "        buttonEl.style.display =\n",
              "          google.colab.kernel.accessAllowed ? 'block' : 'none';\n",
              "\n",
              "        async function convertToInteractive(key) {\n",
              "          const element = document.querySelector('#df-dd2c2097-06b8-4558-8d6c-a1e4cb289382');\n",
              "          const dataTable =\n",
              "            await google.colab.kernel.invokeFunction('convertToInteractive',\n",
              "                                                     [key], {});\n",
              "          if (!dataTable) return;\n",
              "\n",
              "          const docLinkHtml = 'Like what you see? Visit the ' +\n",
              "            '<a target=\"_blank\" href=https://colab.research.google.com/notebooks/data_table.ipynb>data table notebook</a>'\n",
              "            + ' to learn more about interactive tables.';\n",
              "          element.innerHTML = '';\n",
              "          dataTable['output_type'] = 'display_data';\n",
              "          await google.colab.output.renderOutput(dataTable, element);\n",
              "          const docLink = document.createElement('div');\n",
              "          docLink.innerHTML = docLinkHtml;\n",
              "          element.appendChild(docLink);\n",
              "        }\n",
              "      </script>\n",
              "    </div>\n",
              "  </div>\n",
              "  "
            ]
          },
          "metadata": {},
          "execution_count": 12
        }
      ]
    },
    {
      "cell_type": "code",
      "source": [
        "fig = go.Figure(data=[go.Bar(x=results['component'], y=results['explained_variance_ratio'], name='explained_variance_ratio'),\n",
        "                      go.Scatter(x=results['component'], y=results['cumulative'], name='cumulative')],\n",
        "                layout=go.Layout(title='PCA - 2 components', width=950, template='plotly_dark'))\n",
        "fig.show()\n"
      ],
      "metadata": {
        "colab": {
          "base_uri": "https://localhost:8080/",
          "height": 562
        },
        "id": "7yvmuIFP75LV",
        "outputId": "9b8ab9eb-7179-4382-b328-9b080c286b80"
      },
      "execution_count": 13,
      "outputs": [
        {
          "output_type": "display_data",
          "data": {
            "text/html": [
              "<html>\n",
              "<head><meta charset=\"utf-8\" /></head>\n",
              "<body>\n",
              "    <div>            <script src=\"https://cdnjs.cloudflare.com/ajax/libs/mathjax/2.7.5/MathJax.js?config=TeX-AMS-MML_SVG\"></script><script type=\"text/javascript\">if (window.MathJax) {MathJax.Hub.Config({SVG: {font: \"STIX-Web\"}});}</script>                <script type=\"text/javascript\">window.PlotlyConfig = {MathJaxConfig: 'local'};</script>\n",
              "        <script src=\"https://cdn.plot.ly/plotly-2.8.3.min.js\"></script>                <div id=\"89008c92-d393-4b98-9d62-c1154e14c2cf\" class=\"plotly-graph-div\" style=\"height:525px; width:950px;\"></div>            <script type=\"text/javascript\">                                    window.PLOTLYENV=window.PLOTLYENV || {};                                    if (document.getElementById(\"89008c92-d393-4b98-9d62-c1154e14c2cf\")) {                    Plotly.newPlot(                        \"89008c92-d393-4b98-9d62-c1154e14c2cf\",                        [{\"name\":\"explained_variance_ratio\",\"x\":[1,2],\"y\":[0.4427202560752643,0.18971182044033102],\"type\":\"bar\"},{\"name\":\"cumulative\",\"x\":[1,2],\"y\":[0.4427202560752643,0.6324320765155953],\"type\":\"scatter\"}],                        {\"template\":{\"data\":{\"barpolar\":[{\"marker\":{\"line\":{\"color\":\"rgb(17,17,17)\",\"width\":0.5},\"pattern\":{\"fillmode\":\"overlay\",\"size\":10,\"solidity\":0.2}},\"type\":\"barpolar\"}],\"bar\":[{\"error_x\":{\"color\":\"#f2f5fa\"},\"error_y\":{\"color\":\"#f2f5fa\"},\"marker\":{\"line\":{\"color\":\"rgb(17,17,17)\",\"width\":0.5},\"pattern\":{\"fillmode\":\"overlay\",\"size\":10,\"solidity\":0.2}},\"type\":\"bar\"}],\"carpet\":[{\"aaxis\":{\"endlinecolor\":\"#A2B1C6\",\"gridcolor\":\"#506784\",\"linecolor\":\"#506784\",\"minorgridcolor\":\"#506784\",\"startlinecolor\":\"#A2B1C6\"},\"baxis\":{\"endlinecolor\":\"#A2B1C6\",\"gridcolor\":\"#506784\",\"linecolor\":\"#506784\",\"minorgridcolor\":\"#506784\",\"startlinecolor\":\"#A2B1C6\"},\"type\":\"carpet\"}],\"choropleth\":[{\"colorbar\":{\"outlinewidth\":0,\"ticks\":\"\"},\"type\":\"choropleth\"}],\"contourcarpet\":[{\"colorbar\":{\"outlinewidth\":0,\"ticks\":\"\"},\"type\":\"contourcarpet\"}],\"contour\":[{\"colorbar\":{\"outlinewidth\":0,\"ticks\":\"\"},\"colorscale\":[[0.0,\"#0d0887\"],[0.1111111111111111,\"#46039f\"],[0.2222222222222222,\"#7201a8\"],[0.3333333333333333,\"#9c179e\"],[0.4444444444444444,\"#bd3786\"],[0.5555555555555556,\"#d8576b\"],[0.6666666666666666,\"#ed7953\"],[0.7777777777777778,\"#fb9f3a\"],[0.8888888888888888,\"#fdca26\"],[1.0,\"#f0f921\"]],\"type\":\"contour\"}],\"heatmapgl\":[{\"colorbar\":{\"outlinewidth\":0,\"ticks\":\"\"},\"colorscale\":[[0.0,\"#0d0887\"],[0.1111111111111111,\"#46039f\"],[0.2222222222222222,\"#7201a8\"],[0.3333333333333333,\"#9c179e\"],[0.4444444444444444,\"#bd3786\"],[0.5555555555555556,\"#d8576b\"],[0.6666666666666666,\"#ed7953\"],[0.7777777777777778,\"#fb9f3a\"],[0.8888888888888888,\"#fdca26\"],[1.0,\"#f0f921\"]],\"type\":\"heatmapgl\"}],\"heatmap\":[{\"colorbar\":{\"outlinewidth\":0,\"ticks\":\"\"},\"colorscale\":[[0.0,\"#0d0887\"],[0.1111111111111111,\"#46039f\"],[0.2222222222222222,\"#7201a8\"],[0.3333333333333333,\"#9c179e\"],[0.4444444444444444,\"#bd3786\"],[0.5555555555555556,\"#d8576b\"],[0.6666666666666666,\"#ed7953\"],[0.7777777777777778,\"#fb9f3a\"],[0.8888888888888888,\"#fdca26\"],[1.0,\"#f0f921\"]],\"type\":\"heatmap\"}],\"histogram2dcontour\":[{\"colorbar\":{\"outlinewidth\":0,\"ticks\":\"\"},\"colorscale\":[[0.0,\"#0d0887\"],[0.1111111111111111,\"#46039f\"],[0.2222222222222222,\"#7201a8\"],[0.3333333333333333,\"#9c179e\"],[0.4444444444444444,\"#bd3786\"],[0.5555555555555556,\"#d8576b\"],[0.6666666666666666,\"#ed7953\"],[0.7777777777777778,\"#fb9f3a\"],[0.8888888888888888,\"#fdca26\"],[1.0,\"#f0f921\"]],\"type\":\"histogram2dcontour\"}],\"histogram2d\":[{\"colorbar\":{\"outlinewidth\":0,\"ticks\":\"\"},\"colorscale\":[[0.0,\"#0d0887\"],[0.1111111111111111,\"#46039f\"],[0.2222222222222222,\"#7201a8\"],[0.3333333333333333,\"#9c179e\"],[0.4444444444444444,\"#bd3786\"],[0.5555555555555556,\"#d8576b\"],[0.6666666666666666,\"#ed7953\"],[0.7777777777777778,\"#fb9f3a\"],[0.8888888888888888,\"#fdca26\"],[1.0,\"#f0f921\"]],\"type\":\"histogram2d\"}],\"histogram\":[{\"marker\":{\"pattern\":{\"fillmode\":\"overlay\",\"size\":10,\"solidity\":0.2}},\"type\":\"histogram\"}],\"mesh3d\":[{\"colorbar\":{\"outlinewidth\":0,\"ticks\":\"\"},\"type\":\"mesh3d\"}],\"parcoords\":[{\"line\":{\"colorbar\":{\"outlinewidth\":0,\"ticks\":\"\"}},\"type\":\"parcoords\"}],\"pie\":[{\"automargin\":true,\"type\":\"pie\"}],\"scatter3d\":[{\"line\":{\"colorbar\":{\"outlinewidth\":0,\"ticks\":\"\"}},\"marker\":{\"colorbar\":{\"outlinewidth\":0,\"ticks\":\"\"}},\"type\":\"scatter3d\"}],\"scattercarpet\":[{\"marker\":{\"colorbar\":{\"outlinewidth\":0,\"ticks\":\"\"}},\"type\":\"scattercarpet\"}],\"scattergeo\":[{\"marker\":{\"colorbar\":{\"outlinewidth\":0,\"ticks\":\"\"}},\"type\":\"scattergeo\"}],\"scattergl\":[{\"marker\":{\"line\":{\"color\":\"#283442\"}},\"type\":\"scattergl\"}],\"scattermapbox\":[{\"marker\":{\"colorbar\":{\"outlinewidth\":0,\"ticks\":\"\"}},\"type\":\"scattermapbox\"}],\"scatterpolargl\":[{\"marker\":{\"colorbar\":{\"outlinewidth\":0,\"ticks\":\"\"}},\"type\":\"scatterpolargl\"}],\"scatterpolar\":[{\"marker\":{\"colorbar\":{\"outlinewidth\":0,\"ticks\":\"\"}},\"type\":\"scatterpolar\"}],\"scatter\":[{\"marker\":{\"line\":{\"color\":\"#283442\"}},\"type\":\"scatter\"}],\"scatterternary\":[{\"marker\":{\"colorbar\":{\"outlinewidth\":0,\"ticks\":\"\"}},\"type\":\"scatterternary\"}],\"surface\":[{\"colorbar\":{\"outlinewidth\":0,\"ticks\":\"\"},\"colorscale\":[[0.0,\"#0d0887\"],[0.1111111111111111,\"#46039f\"],[0.2222222222222222,\"#7201a8\"],[0.3333333333333333,\"#9c179e\"],[0.4444444444444444,\"#bd3786\"],[0.5555555555555556,\"#d8576b\"],[0.6666666666666666,\"#ed7953\"],[0.7777777777777778,\"#fb9f3a\"],[0.8888888888888888,\"#fdca26\"],[1.0,\"#f0f921\"]],\"type\":\"surface\"}],\"table\":[{\"cells\":{\"fill\":{\"color\":\"#506784\"},\"line\":{\"color\":\"rgb(17,17,17)\"}},\"header\":{\"fill\":{\"color\":\"#2a3f5f\"},\"line\":{\"color\":\"rgb(17,17,17)\"}},\"type\":\"table\"}]},\"layout\":{\"annotationdefaults\":{\"arrowcolor\":\"#f2f5fa\",\"arrowhead\":0,\"arrowwidth\":1},\"autotypenumbers\":\"strict\",\"coloraxis\":{\"colorbar\":{\"outlinewidth\":0,\"ticks\":\"\"}},\"colorscale\":{\"diverging\":[[0,\"#8e0152\"],[0.1,\"#c51b7d\"],[0.2,\"#de77ae\"],[0.3,\"#f1b6da\"],[0.4,\"#fde0ef\"],[0.5,\"#f7f7f7\"],[0.6,\"#e6f5d0\"],[0.7,\"#b8e186\"],[0.8,\"#7fbc41\"],[0.9,\"#4d9221\"],[1,\"#276419\"]],\"sequential\":[[0.0,\"#0d0887\"],[0.1111111111111111,\"#46039f\"],[0.2222222222222222,\"#7201a8\"],[0.3333333333333333,\"#9c179e\"],[0.4444444444444444,\"#bd3786\"],[0.5555555555555556,\"#d8576b\"],[0.6666666666666666,\"#ed7953\"],[0.7777777777777778,\"#fb9f3a\"],[0.8888888888888888,\"#fdca26\"],[1.0,\"#f0f921\"]],\"sequentialminus\":[[0.0,\"#0d0887\"],[0.1111111111111111,\"#46039f\"],[0.2222222222222222,\"#7201a8\"],[0.3333333333333333,\"#9c179e\"],[0.4444444444444444,\"#bd3786\"],[0.5555555555555556,\"#d8576b\"],[0.6666666666666666,\"#ed7953\"],[0.7777777777777778,\"#fb9f3a\"],[0.8888888888888888,\"#fdca26\"],[1.0,\"#f0f921\"]]},\"colorway\":[\"#636efa\",\"#EF553B\",\"#00cc96\",\"#ab63fa\",\"#FFA15A\",\"#19d3f3\",\"#FF6692\",\"#B6E880\",\"#FF97FF\",\"#FECB52\"],\"font\":{\"color\":\"#f2f5fa\"},\"geo\":{\"bgcolor\":\"rgb(17,17,17)\",\"lakecolor\":\"rgb(17,17,17)\",\"landcolor\":\"rgb(17,17,17)\",\"showlakes\":true,\"showland\":true,\"subunitcolor\":\"#506784\"},\"hoverlabel\":{\"align\":\"left\"},\"hovermode\":\"closest\",\"mapbox\":{\"style\":\"dark\"},\"paper_bgcolor\":\"rgb(17,17,17)\",\"plot_bgcolor\":\"rgb(17,17,17)\",\"polar\":{\"angularaxis\":{\"gridcolor\":\"#506784\",\"linecolor\":\"#506784\",\"ticks\":\"\"},\"bgcolor\":\"rgb(17,17,17)\",\"radialaxis\":{\"gridcolor\":\"#506784\",\"linecolor\":\"#506784\",\"ticks\":\"\"}},\"scene\":{\"xaxis\":{\"backgroundcolor\":\"rgb(17,17,17)\",\"gridcolor\":\"#506784\",\"gridwidth\":2,\"linecolor\":\"#506784\",\"showbackground\":true,\"ticks\":\"\",\"zerolinecolor\":\"#C8D4E3\"},\"yaxis\":{\"backgroundcolor\":\"rgb(17,17,17)\",\"gridcolor\":\"#506784\",\"gridwidth\":2,\"linecolor\":\"#506784\",\"showbackground\":true,\"ticks\":\"\",\"zerolinecolor\":\"#C8D4E3\"},\"zaxis\":{\"backgroundcolor\":\"rgb(17,17,17)\",\"gridcolor\":\"#506784\",\"gridwidth\":2,\"linecolor\":\"#506784\",\"showbackground\":true,\"ticks\":\"\",\"zerolinecolor\":\"#C8D4E3\"}},\"shapedefaults\":{\"line\":{\"color\":\"#f2f5fa\"}},\"sliderdefaults\":{\"bgcolor\":\"#C8D4E3\",\"bordercolor\":\"rgb(17,17,17)\",\"borderwidth\":1,\"tickwidth\":0},\"ternary\":{\"aaxis\":{\"gridcolor\":\"#506784\",\"linecolor\":\"#506784\",\"ticks\":\"\"},\"baxis\":{\"gridcolor\":\"#506784\",\"linecolor\":\"#506784\",\"ticks\":\"\"},\"bgcolor\":\"rgb(17,17,17)\",\"caxis\":{\"gridcolor\":\"#506784\",\"linecolor\":\"#506784\",\"ticks\":\"\"}},\"title\":{\"x\":0.05},\"updatemenudefaults\":{\"bgcolor\":\"#506784\",\"borderwidth\":0},\"xaxis\":{\"automargin\":true,\"gridcolor\":\"#283442\",\"linecolor\":\"#506784\",\"ticks\":\"\",\"title\":{\"standoff\":15},\"zerolinecolor\":\"#283442\",\"zerolinewidth\":2},\"yaxis\":{\"automargin\":true,\"gridcolor\":\"#283442\",\"linecolor\":\"#506784\",\"ticks\":\"\",\"title\":{\"standoff\":15},\"zerolinecolor\":\"#283442\",\"zerolinewidth\":2}}},\"title\":{\"text\":\"PCA - 2 components\"},\"width\":950},                        {\"responsive\": true}                    ).then(function(){\n",
              "                            \n",
              "var gd = document.getElementById('89008c92-d393-4b98-9d62-c1154e14c2cf');\n",
              "var x = new MutationObserver(function (mutations, observer) {{\n",
              "        var display = window.getComputedStyle(gd).display;\n",
              "        if (!display || display === 'none') {{\n",
              "            console.log([gd, 'removed!']);\n",
              "            Plotly.purge(gd);\n",
              "            observer.disconnect();\n",
              "        }}\n",
              "}});\n",
              "\n",
              "// Listen for the removal of the full notebook cells\n",
              "var notebookContainer = gd.closest('#notebook-container');\n",
              "if (notebookContainer) {{\n",
              "    x.observe(notebookContainer, {childList: true});\n",
              "}}\n",
              "\n",
              "// Listen for the clearing of the current output cell\n",
              "var outputEl = gd.closest('.output');\n",
              "if (outputEl) {{\n",
              "    x.observe(outputEl, {childList: true});\n",
              "}}\n",
              "\n",
              "                        })                };                            </script>        </div>\n",
              "</body>\n",
              "</html>"
            ]
          },
          "metadata": {}
        }
      ]
    },
    {
      "cell_type": "code",
      "source": [
        "px.scatter(pca_2, 'pca_1', 'pca_2', color=pca_2['class'], width=950, template='plotly_dark')\n"
      ],
      "metadata": {
        "colab": {
          "base_uri": "https://localhost:8080/",
          "height": 562
        },
        "id": "iocV-f_e76qF",
        "outputId": "52c923ea-c17d-42d3-dbd7-fe596a2c4a0b"
      },
      "execution_count": 14,
      "outputs": [
        {
          "output_type": "display_data",
          "data": {
            "text/html": [
              "<html>\n",
              "<head><meta charset=\"utf-8\" /></head>\n",
              "<body>\n",
              "    <div>            <script src=\"https://cdnjs.cloudflare.com/ajax/libs/mathjax/2.7.5/MathJax.js?config=TeX-AMS-MML_SVG\"></script><script type=\"text/javascript\">if (window.MathJax) {MathJax.Hub.Config({SVG: {font: \"STIX-Web\"}});}</script>                <script type=\"text/javascript\">window.PlotlyConfig = {MathJaxConfig: 'local'};</script>\n",
              "        <script src=\"https://cdn.plot.ly/plotly-2.8.3.min.js\"></script>                <div id=\"7fe6d315-59c1-439c-9b72-15285ac21a3c\" class=\"plotly-graph-div\" style=\"height:525px; width:950px;\"></div>            <script type=\"text/javascript\">                                    window.PLOTLYENV=window.PLOTLYENV || {};                                    if (document.getElementById(\"7fe6d315-59c1-439c-9b72-15285ac21a3c\")) {                    Plotly.newPlot(                        \"7fe6d315-59c1-439c-9b72-15285ac21a3c\",                        [{\"hovertemplate\":\"class=Benign<br>pca_1=%{x}<br>pca_2=%{y}<extra></extra>\",\"legendgroup\":\"Benign\",\"marker\":{\"color\":\"#636efa\",\"symbol\":\"circle\"},\"mode\":\"markers\",\"name\":\"Benign\",\"orientation\":\"v\",\"showlegend\":true,\"x\":[9.192836826213377,2.3878017958017352,5.7338962797314625,7.1229531977080525,3.9353020736783884,2.380247150345873,2.2388833080521873,2.143298500377383,3.174924293084005,6.351746789525964,-0.810413770845761,2.6511004772419247,8.185034458146786,0.34212591399025766,4.342379194648007,4.075656175346256,0.23005501570939876,4.418010915982958,4.948703550564609,4.733210788209844,4.208524209049504,4.9496320739832935,7.098562854912093,3.510262603971667,3.064053886062965,4.007264143655876,1.7153097265430073,6.059445513505623,2.902236104999504,4.554782688816442,4.990602722476253,2.9853407889707135,2.7663691577773006,1.2961987650208173,-0.9980689008802083,0.7652641153960529,-2.150953470730376,-0.09333138656727977,9.087999677260807,0.9904537655029447,-0.29354655092824383,5.380940406936949,1.700006886836834,3.3025509513792963,-0.6746192855721063,4.648738872436065,2.1768628822288307,4.759112153866559,1.691607923168655,1.8123054050069245,2.7045961726300844,5.503705315293675,-0.36170919269362967,1.4281675928951871,6.230896511902366,11.668714648330132,10.76924281927491,5.0348110854823585,3.288235384718201,0.6076079451778547,3.5835636260635373,0.25249756752705094,2.7758655690027574,4.396227954702666,0.6162808698249457,-0.43286022081651965,3.213916765177223,13.056121858664147,3.1105276933520827,4.956725570002557,0.8510142626640826,3.3341331980200324,12.894612133970773,-0.6388804999704767,1.9191334226485175,4.643691316588384,1.432069426797691,1.3526270253945132,2.171416018303891,-1.976840355318869,3.7820264555794214,1.3450204377375912,2.3999978431536597,4.100787726595617,3.387330764640539,6.149886189966231,5.494152797674114,1.2136346121476018,5.069661081475435,-0.9474878917483273,2.8193683434662575,2.9563018671442896,9.51266984416663,9.007165526292734,0.7588784847604838,-0.3900189810588436,0.36487615184073996,6.523116620292837,1.779661489232089,2.61148489316085,2.498438877723507,1.2770271752996905,3.473197342849993,1.256675111985062,1.649460695933743,9.036589480305933,4.5545900647874875,-0.22309260678428208,0.4465443964173827,4.808969244731383,12.285019759542303,3.37219659064376,2.508766311621936,1.3180684765425106,4.943581014506391,4.298077329827569,1.803247020466447,2.755568001153829,3.257254673479072,3.3163241134468553,8.403847113457383,2.6475686330833215,3.3502957906355695,3.795565641825388,7.143842039053554,7.085010648787489,1.3140990035985525,3.7116495147793347,0.4604790908477418,6.3926499205352005,5.2555449497783915,8.733861502954575,3.6913178802287043,3.378250872696005,-0.8402096538370238,3.284372619972814,-1.9087689281363345,1.61478192535569,6.619726346836452,7.676149471669832,0.3373454926435525,0.017430791487221466,4.960268117828037,3.785060102923176,2.6372557772727485,-2.385882758420979,6.590235943344225,7.182933102086557,1.8953162763188318,1.834840467147848,7.236485314391901,2.250510374099631,2.1078012278787024,1.7859499803191443,3.319673971519449,4.68016626239945,7.353218575028034,4.9751623584144475,6.182283741692581,10.934298158427241,2.1184969319271088,2.735011771675271,6.227025988688806,5.307140022000699,7.248001061274027,4.207220618955276,3.635014946683419,3.519248275013342,3.7659321541049353,-0.5429013641690061,4.703500731698237,4.149097342448611,7.672141552626762,6.289673469536187,2.7633707862900505,-0.9340908103734576,6.0036165913726,4.949858461550875,4.549111146627855,4.442342818130861,0.6644409146909471,2.4723569167734003,0.9817275418955898,3.245413648903489,4.33165334453573,2.5117531022612276,3.4754937481303254,16.319233231032282,5.930964859583632,3.8244330429416387,4.754614870668865,-0.7417817670633505,3.1035197039277254,3.715705103463351,5.094841843797004,2.7903998294335666,7.2591788407922495,4.094142557240204,2.2269944892058833,-0.7337724522409854,2.6972237543997943,3.3790146677225708,8.630755859096142,4.028435261074333,5.1654109483057145,0.5359319494277885,5.917612589143232,8.74133807726809,6.439315483954014,3.793382370032596,1.2561792761503483,10.374794059770684],\"xaxis\":\"x\",\"y\":[1.9485830705986509,-3.768171741323066,-1.0751737962413033,10.275589123094484,-1.9480715682373977,3.9499288956473215,-2.6900312769588095,2.340244007199919,3.391812951431477,7.727174067072344,-2.659275496970593,0.0665679273024659,2.7009764944200203,-0.9682792610166867,4.861083312263894,2.9770611800337456,-1.5647577243413673,1.4186703334722885,-4.114333524183014,3.3049637281782287,-5.128366513324504,-1.5437522874410912,2.0186103370544712,2.171625115903304,-1.8765523474460784,0.537242160469328,-1.5237050227592615,-0.7571774517549386,4.0052955128031,0.33753615288559974,-1.1325889060456966,0.7584232427281474,-0.3543559417712975,0.9131962762429778,-3.3512929229911226,0.8862439531974966,-1.9239916159058654,2.2607520062935795,2.0186731001468536,0.9849300205416808,-0.13709909059862355,-0.1348769774508464,2.3522717941705737,-1.1309378054124979,-2.116409716438365,-2.3103325692877688,0.9721160463985034,3.011680505658899,1.5406765576281327,0.7227401911767257,-4.437141769204383,0.9383254150158729,0.11973908640315048,-1.9671014116568721,0.9200695431285453,4.748617201696099,-2.257982898967236,0.7744091570256485,-1.668237061426729,0.16221452481967152,-2.20666183897171,-0.5313515476094024,0.5580005264759893,-2.1235077122235424,0.6389116692428055,-1.3920442988191237,4.046756222887562,0.9815132253490877,1.5693895563491242,2.384846218317847,-2.3067353666153925,-1.3255573536269167,2.316622461629745,-0.9113660285717988,-3.5380823684079705,-1.4820171709551864,-1.0496039494731357,-1.1541414720748444,-2.826260725997878,-0.41938744657149174,0.8603815988444674,-1.27477095598249,4.8379888205634565,-0.37880382082700753,-2.9110371063134326,-2.017652754974991,-4.165829304503118,-2.0390389569114116,-1.7851523343944444,-1.6847535458498595,1.2651031318425479,0.706421852017414,-5.603484193132797,0.581031076600633,-1.6085325747381238,-0.989242353050373,-3.5744612258999084,8.011169611562192,2.7765871700922005,1.5614217086224327,2.2784828528337964,-2.443258964816258,-2.2778489099139545,0.3823932647647488,-2.1022910701448,-0.6551728261424049,3.0866391567563247,-0.7018214898182886,-2.787707740726694,-3.0291029666895772,-7.5434101706004535,2.587825427873775,2.6146484784963993,2.1544795013077187,-2.848324457360692,-4.666275178679928,0.16646095757088122,3.465773603702519,-0.12520049243010933,-3.9391522593764416,-4.153904776413752,-3.9511729510038505,-2.154570026893174,-1.0262326425745647,-2.0748422336064323,0.5282231719284541,-1.7754258309442097,-2.8074771099940223,0.39416628854915847,-1.8230941637110571,3.8945309895926044,3.2798773740705323,1.0656460671264036,-3.3712278922331316,-3.500085032040591,-0.9906732004023526,-3.1219458055490206,-2.474573347518795,-6.003276416905227,-3.075306304271575,-3.1443734572187103,-3.459343290932376,-1.3411230474891136,-1.90190741589334,0.5771549950427942,-0.824115570326802,-1.4848624495867953,0.05514605974430381,-2.3922380030254455,-4.321522964704611,-0.0357017969592328,-0.34853594041578645,1.121973942810686,-0.26922163555972567,-1.577052841604155,-0.9685929528128298,-5.242623142766792,-1.3325721788391713,5.108005449079212,-3.703254081049427,0.29662907028804614,-3.945168230174067,-1.3901096902260675,-6.723414982768644,-3.655469129973085,1.1762428821049875,-1.9564409109094518,-3.858607119863606,5.985295348488102,-1.3170679098248308,-0.1959557539085945,0.7674888447333853,-0.8604841515817033,2.036547395359267,-1.0786335090120112,-2.105945591147418,-0.09102922123863848,3.0060641280291027,-0.8160005053946561,-0.9924388976514668,0.4368608561234264,-1.4998247512780358,-2.210429947413755,-1.7783586326409841,-4.049332418053044,-2.528807584109714,-1.6728843903863893,-7.775852804657229,1.2282966826321715,2.305236315652143,-1.4894235605433217,-2.452034965814017,-1.236153211138666,-1.0586862194259006,-2.019207834578485,3.3855607721658902,-5.4957357180486115,2.80292724987398,1.9416347591392336,-1.9436971836123718,-1.9437099461134453,-2.333428945233225,-3.459451915212278,-2.9414300981762294,-2.3822032323132167,0.3807151451647528,3.4826366582136243,-0.5738546728327101,-3.576817443943899,-3.5840478637263664,-1.9022967132208533,1.672010104060094],\"yaxis\":\"y\",\"type\":\"scatter\"},{\"hovertemplate\":\"class=Malignant<br>pca_1=%{x}<br>pca_2=%{y}<extra></extra>\",\"legendgroup\":\"Malignant\",\"marker\":{\"color\":\"#EF553B\",\"symbol\":\"circle\"},\"mode\":\"markers\",\"name\":\"Malignant\",\"orientation\":\"v\",\"showlegend\":true,\"x\":[-1.2370633569553307,-1.5781612348118454,-3.557336373550084,-3.749313395938769,-4.581936672186255,-2.1364452772839098,-1.56747899720828,-3.5429055574637642,-3.157814050181636,-3.450488543515746,-2.8581584400465925,-3.7214589928318578,-4.13596294379005,-2.3858356631343485,-2.5788832519685263,-2.3141322493714855,-2.7859247566667826,-3.518648339647591,4.330002649084725,-3.2612794727723435,-0.3078557704769345,-2.6299766385631274,-0.8345178814903472,-2.021577658435549,-1.6383849373649375,1.167461611072551,-2.1744643095461518,-0.9341581043945699,1.2596046473494165,-1.5882639721785305,-2.8474315866963043,-1.9649501129380487,-2.592082827805504,-3.904338150153024,-2.8182312131423957,-4.555028840447947,-3.448183541217512,-2.1159602640302633,-2.6913522049617056,-0.7492713563499379,-3.159006037414638,-2.2286798134422874,-2.4928310356116428,-0.10335042641402177,3.5912941186912017,-1.3489486828719985,-2.510117675558911,-2.0460295724517783,-2.0970691694482637,-2.965999206622714,-0.7707436775321176,-2.202515523782097,-3.143412245602543,1.4088683633928305,-1.8774673636143722,-0.709114831723728,-2.600789504021418,-3.2580073594687815,-1.9920347221454289,-5.015008689975551,-2.455968810688425,-1.8372816695175151,-4.346489712228485,-0.7328129161438384,0.3930986639312639,-0.4123278127957336,-3.0499249404512803,-1.4425637316067632,0.0831861026130749,7.093306714188362,-3.7434045429960996,-0.96917281436252,-2.41871990812283,-0.7516030055352612,-3.6546465282536675,-4.680211576013029,-0.5977817666137959,-1.3250313470426867,-2.9974032071315415,-4.386732721106491,-1.9777014396331583,-2.514876418890009,-3.483986298020111,-4.658729577965565,-5.351618114936182,1.1708977789045905,-4.975702062159464,-4.064025658740079,-2.6593596153535977,-3.889065527186672,-2.835890918156801,-3.3102836207398396,-3.357304402554752,-1.7177351761084132,-5.565735898981029,-2.8190385096118287,-1.47343136921641,-0.7811899668983825,-3.4548953860957163,0.31443822596144516,-2.059191942545374,-2.998710528238208,-0.3887562987559265,-2.7569329912569085,-2.37350180197514,-0.9671903116022911,-2.975798787941004,-2.478359512372481,-0.8260392924375067,-3.894697328339438,-0.3895780902172305,-1.4573213567985448,-4.0191402405635515,-3.6764132931670965,-4.036607361758292,-2.3342333502304773,-0.6817688659200586,-2.2277205188196767,-4.477584655730468,1.322621418839206,-1.850089860140304,-2.281318099239738,-3.228770118277291,1.025900787649001,-2.582555837281801,-2.4858832255063543,-3.032481140772503,-1.4646759334586865,-2.0121524285186903,-2.284340252070554,-0.7397430856451319,-4.506562510681306,-3.158754301407447,-3.6391359671593384,-1.2765833791515466,-4.346014054230144,-3.492426037286754,-1.8665488536840458,-2.4707226852237576,-1.372685023666466,-4.138882573258794,-0.6869402913911705,-4.312129582742814,0.4033094213766654,-3.003605795321651,3.1340082054390264,-0.4178368668820142,-1.4202231350825334,-2.8705883477861995,-3.3658457040712637,-3.315000154836264,-4.7697101597003115,-2.787096009430944,-3.393841771518062,-1.4553305178965188,-3.578835403447209,-3.057032641873407,-3.074435831560672,-3.8535397332556474,-5.390256393773899,-4.657682334494713,-4.027542388108095,-3.3478219416103063,-3.299842011468212,-2.136404142351239,-4.038017141736883,-3.7654145532581906,-4.871239383480746,-4.747248516354203,1.5729311406094175,-4.0266202526595105,-1.294866170095279,-1.8103805588917017,-3.1456501885210266,-2.8872680582393815,-3.1496539838211013,-4.62837948304997,-0.5276966174016652,-3.2135009805007635,-4.386422966517857,-3.8100178698307814,-2.393275964329994,-3.067695140604848,0.29531318324779293,-1.9389694969461222,-2.0771789214311345,-2.1769168795841582,-2.4315514550091155,-3.3679657788783444,-1.2065977905132037,-3.326079248709106,-1.928795402234971,-4.041835089954468,-3.012194970158564,-0.9826485812694535,0.3578938625179906,-3.193917865505882,-2.9932333012442167,-3.193914150468773,-4.591961853505143,-2.485916154411923,-2.3986653462114575,-0.7796151997479926,-3.1399884257527306,-2.2237757455793514,-2.499636374111978,-2.6149483072400934,-0.09610811657655241,2.0448569345673735,-3.0667495275573735,-1.603586443386397,-0.9255666032080908,-3.288349594100688,-1.5548521496526768,-0.398779917581429,-2.300567821333466,-2.0588194558297723,-3.424518055230684,-0.47240655185310665,-3.643380238614151,-3.5946893435891396,-2.010379413757339,-2.920833494836945,-0.5007378002661346,-1.911498574922792,-3.7850992277955373,-2.708393968213324,-3.4307706912388958,-2.001388466389219,-2.47329309428726,-3.6472577463942026,-2.3461868509425785,-1.1429969265476365,-1.3508573033321984,-1.9693236050369802,-2.9311870554403585,-2.9263743861507154,-3.996188277410262,0.1551380594684414,-1.9296217302549656,-2.6223386017040027,-2.921877804575189,-3.341944803949486,-2.0149150334115973,1.988462105551817,-1.6696039306004256,-0.3711781135183819,-1.84895992983691,-4.703042202111058,-1.2831871507862431,-2.3142468193050134,-4.659085176410879,-3.9434733817345475,-0.9158035193311146,-2.1949843010205585,-2.2408760536431305,-2.1251804369201723,-2.6153174112223985,-3.2109679756621596,-0.30675039870811766,-3.4547183721125956,-3.900526848058007,-1.2572515710231424,-1.557219412536973,-1.249258096698113,-1.0774513298935045,-2.217092305447787,-1.1738306467789772,-2.8363014443335186,-1.8570858988750232,-1.328614372957761,-2.8027713567760535,-3.1745687967635217,-4.087077360931109,-2.5601150180163628,-2.9688887959173274,-2.757430451020046,1.3703398754405718,-0.41766449255259963,-3.8383986229811655,0.645478647486645,-2.6838464009791374,-2.041664052105554,-1.3992963501118467,-3.5364152954175436,-1.9905294465905101,-1.998185367129027,-0.5206581123172951,-3.172370488247894,-2.202710189056781,-2.9854846903262535,-2.481055107277664,-1.2721114612784328,-2.235156888078007,-0.05618310431137494,2.3173906062803544,-2.284331260851799,-1.7263109176882154,-2.894310661012168,-1.654521845920837,-4.064270597765441,-2.7933306574627843,-1.47491993760891,-0.22939463704345578,-2.553258407613679,-0.6006161135556594,-1.4087712143990458,1.2988665487856645,1.07669327563382,-1.2497605247714298,-1.256928405619332,-1.1665352144777452,-1.8876392413597844,-2.7674357028459617,-1.13157689074476,-2.3336707368112903,-0.19987058014172418,-1.1760259132352275,-1.2926365392818902,-4.429456371065671,-0.6198387404465248,-3.2523157686122435,-3.35292705353689,-0.8598029860029005,-3.156621968682935,0.34652811320781995,-2.461406650924535,-1.5301007215878077,-1.7735850660604708,-2.680441623965897,-2.1363512285988504,0.3431233829427025,-4.197079986345639,-1.142831864595892,-1.665475153216844,1.0117124957302073,-1.300929711968471,-2.3734287250094868,-1.6658710117952682,-1.9276781923710422,-4.237216617940624,-2.6778707208424524,-3.83649785179604,-2.5514402959500107,-4.694923445156075,-2.025037164127073,-2.895948205518698,-3.502201040543776,-2.1539036673955136,-2.055084067991394,-3.8772895793973188,-4.063862114727585,-0.09866733268822823,-1.0893761900701302,-0.4817709648478299,-4.870309518086823,-5.475243302543962],\"xaxis\":\"x\",\"y\":[-0.18821495360150942,0.572808192002415,1.6629499037281903,-1.4134731172112316,1.4842203174604833,0.09582960919123415,-1.2084332136106493,-1.2824955784539505,-1.6889585951468384,-0.4982187144112065,0.15272313631970927,-1.787641650999343,2.4037924857264863,2.7576581295514755,3.138671922774052,3.267989679206979,2.310648712819098,-0.6583094693523387,9.202525685423865,-0.9378381204471714,7.387812177138144,-0.697309368692667,1.9656048632809797,-0.2548998339663158,1.7159491138088054,2.51451585011178,0.4968779847321613,0.9277014811715297,1.0155770702760394,-1.6196568285329969,-2.8936475980771514,-0.9651569878876368,0.21363393019619747,1.1900666340097366,0.36788398135157085,3.5287860175566865,-1.4246224557172653,1.8493736046812004,1.4200617392842676,1.7976385177073544,-1.0357494268963432,0.6674106364785742,2.598686268046678,2.280143536905127,3.9263331542869286,3.556225100073343,3.251319503982933,0.30488486662173225,3.667095882837924,0.3715064824672301,-0.06410921983080187,-0.7356052306756198,-1.8774090269242825,1.3049294063365133,1.4232306445264271,-1.5682323233596356,-0.4823354666577584,-0.418321405868577,1.329355172512908,0.5746999786502767,0.8984552929442919,-0.09102676533178612,-0.8935722664055571,3.7021823829072553,1.083068063637827,-0.3896313169278145,-2.2377845225578348,0.30587044895105636,7.150359799538034,12.5731942301516,0.25050152663967273,0.9449443026053069,0.00555241277694874,-3.0706486587488664,-0.6746487416670175,-1.103857247314119,1.785650875146538,1.4692940245672774,-2.7388610517820178,0.006872281100824329,-1.8427794207516721,0.11425229891208968,1.61969198271446,-0.22291481590669768,1.0267578579105876,7.014486580010194,-3.3862048678469328,-1.2461661743047525,0.539935801367887,0.8160717106135,-0.39872969358686133,0.15574119530549332,-1.1037324242310729,-0.5431655264109678,-0.47784757889697554,-0.9701105671368353,0.11689025666802405,0.6528492586477987,1.3069387226411227,2.0775607279466217,-2.4727877878368125,-0.3967780282020967,2.276797895220454,1.0868346852820072,-0.7334025637841708,0.43843818106343724,1.8109737758765583,-1.418576446465096,-1.2502474730458915,0.5385707443242248,-0.6144154703011133,-0.20172675692046513,-1.3542473819441694,-1.2916290607455332,1.162546108439051,-1.3489797318148333,-1.135991131152442,-1.2149996868380422,-1.7411293624881745,4.789476583456732,-1.5841281499912174,2.0776859800274834,-1.1720734788382907,2.3612619439356264,0.7292131142568157,0.46059640268748026,-0.649468800007089,1.6866318140132506,-1.1034865582680953,0.00949363906142039,3.1525206053529713,-3.169272588235348,0.4103017950106409,1.5895870638627767,0.8490529834648091,-0.32197805733757023,-2.634082400938657,-0.902064209938952,-0.138026263754228,0.005805461188965797,-1.376508240729392,1.6950096252141413,-1.978486133210302,3.7234340033634643,0.35416022779472206,4.273459559998181,-0.8085765708032946,1.3939781138011718,-0.26864450908000204,-0.8076006155274467,-1.4421762291633513,-0.5429618592840089,-2.533034003208386,0.7539639566340177,0.591942867557696,0.8915829918795173,-0.179213386404667,-0.3060584357577241,-1.524726422697182,0.5562555042853088,-3.065387433775824,-2.542907043406211,-0.06856304767907624,-3.138709394332729,-0.004392848481982499,-0.24069805454702914,4.398200492603629,-2.3392147876089635,-1.7984019761550256,6.50909930610073,-1.4022064619085302,3.4708086397524816,0.39620730282120614,-0.7425265421605599,-0.4647316247404437,-1.7712483962890502,-1.8356183620669668,1.2658716233277245,1.1034431416207755,-0.761103729833665,-0.9099185547255435,0.9900307775093278,1.1358375685423234,0.22693503616879318,2.5449881115350497,1.8065194890731437,0.9589112592988271,3.447203866940299,-0.562928897390797,-1.3170443374311662,0.47517158172297114,1.4614697971444572,-1.356917456784079,0.24375997590056941,0.7972523937525153,2.1278386323239458,-1.8491520730218844,1.631392205485303,0.5793394423218147,-2.761127097720696,-1.1889394049236477,-0.2507447901644088,-2.1243434272871213,-1.4880221621121485,-0.3571607106977113,-2.0185356270762056,-1.1024744595177238,-0.12984758297033563,6.426819838524753,-2.182095699841046,0.2925962227510336,2.3024814307772,0.20131133589003078,0.979857729933802,2.1612126920224064,-0.932077584293557,0.32043514579705074,-2.4455184121650735,3.7028294385308897,0.7868599163813358,2.6050872158284744,0.42968956014639414,-1.7004724749112061,0.10673146468101273,-0.6513938801596112,-0.3261463675880814,-0.2196657419025277,-0.9926100347531388,-0.29332646339156354,-0.33504702633318445,-1.2413651251953148,0.6827413171280837,-1.962171494136166,0.3695739023710696,-0.1758485079336122,-0.4948562285822514,0.37733225747296306,0.9598560896067365,-0.4380082281574357,0.8924666897330834,2.5021016180679467,-0.009212680424239318,-0.022224730117669074,0.7784521308672274,2.3160480532612655,0.8623188524234139,0.11361265844731597,2.541229648759786,-0.43230243101220384,2.5509093102870826,0.40203147728805344,-0.782298756587203,-2.0300162874988272,2.479013128356615,-1.805353237798339,-0.4545895114600649,-1.194796911734624,-1.8320604323306904,-2.2351427041554586,2.1849988337712536,-2.1364615485965426,0.7307759694603556,1.0676915151848048,-1.03792710646799,-1.5888387896031815,1.8036181634087993,0.02989128800136837,-0.47483950468427194,-1.0181258062006622,-1.5713931187705326,0.777095660064076,-1.6663016344468569,-2.0757336197197844,-0.48471007977393815,-2.494045448395364,-0.06884713530066493,-1.793918768237479,2.110011349232817,0.11651969659991661,0.899178648443142,3.426011420957646,1.4435555287654858,-0.9032559293825598,-1.7722262456289368,-1.2468541538100386,1.8994625501469986,-0.20637113676708158,-0.9733678103128565,-2.0890522985752282,1.2860393187509165,-0.673339244417224,-2.3639587605878014,0.5098338485725558,-1.2987044938160432,-0.22738339351147804,4.38913433538688,-2.466840756551464,0.9981778357300988,-0.9779443189020444,-4.555664122375259,-0.560954221743517,-1.0778881333965866,-1.591094201153669,1.515903418271751,-0.7639004848997335,-0.838454663509998,1.505770592137349,7.729852802164574,8.294775448232425,1.5956838535560331,4.117186681997565,-1.6656937355285928,1.6721917391569283,-2.1610487951573476,-1.4110019658124704,0.790146607142699,1.0763600034246075,1.0113701775757715,4.964224702631165,-0.7860360358800796,0.6363492707186491,1.2859251615685057,2.6733005981673355,0.09684852305917353,-0.871542623499726,1.5412252767099617,0.6008479692775428,0.4052177898460619,0.8042100122316026,-1.484708900484146,1.5185806389803147,3.534481052277891,2.3673922825865383,5.599458469155918,2.3896181244351475,1.092389649373117,-1.8214153016633574,-1.68157623839735,-0.21396274032625068,-1.1377399159549593,0.18427249658943914,2.315792823225455,0.4962499288573043,0.2283299571599084,-0.7674779450253543,1.261241900229342,-1.4516357645174924,1.8008324921998489,-0.8300688191579166,1.6164592682124452,1.0842547437514,0.1221684344518996,-0.2135598386354251,1.2928478982514433,-0.17801969054219877,-2.131106107800423,-0.6706367913567087],\"yaxis\":\"y\",\"type\":\"scatter\"}],                        {\"template\":{\"data\":{\"barpolar\":[{\"marker\":{\"line\":{\"color\":\"rgb(17,17,17)\",\"width\":0.5},\"pattern\":{\"fillmode\":\"overlay\",\"size\":10,\"solidity\":0.2}},\"type\":\"barpolar\"}],\"bar\":[{\"error_x\":{\"color\":\"#f2f5fa\"},\"error_y\":{\"color\":\"#f2f5fa\"},\"marker\":{\"line\":{\"color\":\"rgb(17,17,17)\",\"width\":0.5},\"pattern\":{\"fillmode\":\"overlay\",\"size\":10,\"solidity\":0.2}},\"type\":\"bar\"}],\"carpet\":[{\"aaxis\":{\"endlinecolor\":\"#A2B1C6\",\"gridcolor\":\"#506784\",\"linecolor\":\"#506784\",\"minorgridcolor\":\"#506784\",\"startlinecolor\":\"#A2B1C6\"},\"baxis\":{\"endlinecolor\":\"#A2B1C6\",\"gridcolor\":\"#506784\",\"linecolor\":\"#506784\",\"minorgridcolor\":\"#506784\",\"startlinecolor\":\"#A2B1C6\"},\"type\":\"carpet\"}],\"choropleth\":[{\"colorbar\":{\"outlinewidth\":0,\"ticks\":\"\"},\"type\":\"choropleth\"}],\"contourcarpet\":[{\"colorbar\":{\"outlinewidth\":0,\"ticks\":\"\"},\"type\":\"contourcarpet\"}],\"contour\":[{\"colorbar\":{\"outlinewidth\":0,\"ticks\":\"\"},\"colorscale\":[[0.0,\"#0d0887\"],[0.1111111111111111,\"#46039f\"],[0.2222222222222222,\"#7201a8\"],[0.3333333333333333,\"#9c179e\"],[0.4444444444444444,\"#bd3786\"],[0.5555555555555556,\"#d8576b\"],[0.6666666666666666,\"#ed7953\"],[0.7777777777777778,\"#fb9f3a\"],[0.8888888888888888,\"#fdca26\"],[1.0,\"#f0f921\"]],\"type\":\"contour\"}],\"heatmapgl\":[{\"colorbar\":{\"outlinewidth\":0,\"ticks\":\"\"},\"colorscale\":[[0.0,\"#0d0887\"],[0.1111111111111111,\"#46039f\"],[0.2222222222222222,\"#7201a8\"],[0.3333333333333333,\"#9c179e\"],[0.4444444444444444,\"#bd3786\"],[0.5555555555555556,\"#d8576b\"],[0.6666666666666666,\"#ed7953\"],[0.7777777777777778,\"#fb9f3a\"],[0.8888888888888888,\"#fdca26\"],[1.0,\"#f0f921\"]],\"type\":\"heatmapgl\"}],\"heatmap\":[{\"colorbar\":{\"outlinewidth\":0,\"ticks\":\"\"},\"colorscale\":[[0.0,\"#0d0887\"],[0.1111111111111111,\"#46039f\"],[0.2222222222222222,\"#7201a8\"],[0.3333333333333333,\"#9c179e\"],[0.4444444444444444,\"#bd3786\"],[0.5555555555555556,\"#d8576b\"],[0.6666666666666666,\"#ed7953\"],[0.7777777777777778,\"#fb9f3a\"],[0.8888888888888888,\"#fdca26\"],[1.0,\"#f0f921\"]],\"type\":\"heatmap\"}],\"histogram2dcontour\":[{\"colorbar\":{\"outlinewidth\":0,\"ticks\":\"\"},\"colorscale\":[[0.0,\"#0d0887\"],[0.1111111111111111,\"#46039f\"],[0.2222222222222222,\"#7201a8\"],[0.3333333333333333,\"#9c179e\"],[0.4444444444444444,\"#bd3786\"],[0.5555555555555556,\"#d8576b\"],[0.6666666666666666,\"#ed7953\"],[0.7777777777777778,\"#fb9f3a\"],[0.8888888888888888,\"#fdca26\"],[1.0,\"#f0f921\"]],\"type\":\"histogram2dcontour\"}],\"histogram2d\":[{\"colorbar\":{\"outlinewidth\":0,\"ticks\":\"\"},\"colorscale\":[[0.0,\"#0d0887\"],[0.1111111111111111,\"#46039f\"],[0.2222222222222222,\"#7201a8\"],[0.3333333333333333,\"#9c179e\"],[0.4444444444444444,\"#bd3786\"],[0.5555555555555556,\"#d8576b\"],[0.6666666666666666,\"#ed7953\"],[0.7777777777777778,\"#fb9f3a\"],[0.8888888888888888,\"#fdca26\"],[1.0,\"#f0f921\"]],\"type\":\"histogram2d\"}],\"histogram\":[{\"marker\":{\"pattern\":{\"fillmode\":\"overlay\",\"size\":10,\"solidity\":0.2}},\"type\":\"histogram\"}],\"mesh3d\":[{\"colorbar\":{\"outlinewidth\":0,\"ticks\":\"\"},\"type\":\"mesh3d\"}],\"parcoords\":[{\"line\":{\"colorbar\":{\"outlinewidth\":0,\"ticks\":\"\"}},\"type\":\"parcoords\"}],\"pie\":[{\"automargin\":true,\"type\":\"pie\"}],\"scatter3d\":[{\"line\":{\"colorbar\":{\"outlinewidth\":0,\"ticks\":\"\"}},\"marker\":{\"colorbar\":{\"outlinewidth\":0,\"ticks\":\"\"}},\"type\":\"scatter3d\"}],\"scattercarpet\":[{\"marker\":{\"colorbar\":{\"outlinewidth\":0,\"ticks\":\"\"}},\"type\":\"scattercarpet\"}],\"scattergeo\":[{\"marker\":{\"colorbar\":{\"outlinewidth\":0,\"ticks\":\"\"}},\"type\":\"scattergeo\"}],\"scattergl\":[{\"marker\":{\"line\":{\"color\":\"#283442\"}},\"type\":\"scattergl\"}],\"scattermapbox\":[{\"marker\":{\"colorbar\":{\"outlinewidth\":0,\"ticks\":\"\"}},\"type\":\"scattermapbox\"}],\"scatterpolargl\":[{\"marker\":{\"colorbar\":{\"outlinewidth\":0,\"ticks\":\"\"}},\"type\":\"scatterpolargl\"}],\"scatterpolar\":[{\"marker\":{\"colorbar\":{\"outlinewidth\":0,\"ticks\":\"\"}},\"type\":\"scatterpolar\"}],\"scatter\":[{\"marker\":{\"line\":{\"color\":\"#283442\"}},\"type\":\"scatter\"}],\"scatterternary\":[{\"marker\":{\"colorbar\":{\"outlinewidth\":0,\"ticks\":\"\"}},\"type\":\"scatterternary\"}],\"surface\":[{\"colorbar\":{\"outlinewidth\":0,\"ticks\":\"\"},\"colorscale\":[[0.0,\"#0d0887\"],[0.1111111111111111,\"#46039f\"],[0.2222222222222222,\"#7201a8\"],[0.3333333333333333,\"#9c179e\"],[0.4444444444444444,\"#bd3786\"],[0.5555555555555556,\"#d8576b\"],[0.6666666666666666,\"#ed7953\"],[0.7777777777777778,\"#fb9f3a\"],[0.8888888888888888,\"#fdca26\"],[1.0,\"#f0f921\"]],\"type\":\"surface\"}],\"table\":[{\"cells\":{\"fill\":{\"color\":\"#506784\"},\"line\":{\"color\":\"rgb(17,17,17)\"}},\"header\":{\"fill\":{\"color\":\"#2a3f5f\"},\"line\":{\"color\":\"rgb(17,17,17)\"}},\"type\":\"table\"}]},\"layout\":{\"annotationdefaults\":{\"arrowcolor\":\"#f2f5fa\",\"arrowhead\":0,\"arrowwidth\":1},\"autotypenumbers\":\"strict\",\"coloraxis\":{\"colorbar\":{\"outlinewidth\":0,\"ticks\":\"\"}},\"colorscale\":{\"diverging\":[[0,\"#8e0152\"],[0.1,\"#c51b7d\"],[0.2,\"#de77ae\"],[0.3,\"#f1b6da\"],[0.4,\"#fde0ef\"],[0.5,\"#f7f7f7\"],[0.6,\"#e6f5d0\"],[0.7,\"#b8e186\"],[0.8,\"#7fbc41\"],[0.9,\"#4d9221\"],[1,\"#276419\"]],\"sequential\":[[0.0,\"#0d0887\"],[0.1111111111111111,\"#46039f\"],[0.2222222222222222,\"#7201a8\"],[0.3333333333333333,\"#9c179e\"],[0.4444444444444444,\"#bd3786\"],[0.5555555555555556,\"#d8576b\"],[0.6666666666666666,\"#ed7953\"],[0.7777777777777778,\"#fb9f3a\"],[0.8888888888888888,\"#fdca26\"],[1.0,\"#f0f921\"]],\"sequentialminus\":[[0.0,\"#0d0887\"],[0.1111111111111111,\"#46039f\"],[0.2222222222222222,\"#7201a8\"],[0.3333333333333333,\"#9c179e\"],[0.4444444444444444,\"#bd3786\"],[0.5555555555555556,\"#d8576b\"],[0.6666666666666666,\"#ed7953\"],[0.7777777777777778,\"#fb9f3a\"],[0.8888888888888888,\"#fdca26\"],[1.0,\"#f0f921\"]]},\"colorway\":[\"#636efa\",\"#EF553B\",\"#00cc96\",\"#ab63fa\",\"#FFA15A\",\"#19d3f3\",\"#FF6692\",\"#B6E880\",\"#FF97FF\",\"#FECB52\"],\"font\":{\"color\":\"#f2f5fa\"},\"geo\":{\"bgcolor\":\"rgb(17,17,17)\",\"lakecolor\":\"rgb(17,17,17)\",\"landcolor\":\"rgb(17,17,17)\",\"showlakes\":true,\"showland\":true,\"subunitcolor\":\"#506784\"},\"hoverlabel\":{\"align\":\"left\"},\"hovermode\":\"closest\",\"mapbox\":{\"style\":\"dark\"},\"paper_bgcolor\":\"rgb(17,17,17)\",\"plot_bgcolor\":\"rgb(17,17,17)\",\"polar\":{\"angularaxis\":{\"gridcolor\":\"#506784\",\"linecolor\":\"#506784\",\"ticks\":\"\"},\"bgcolor\":\"rgb(17,17,17)\",\"radialaxis\":{\"gridcolor\":\"#506784\",\"linecolor\":\"#506784\",\"ticks\":\"\"}},\"scene\":{\"xaxis\":{\"backgroundcolor\":\"rgb(17,17,17)\",\"gridcolor\":\"#506784\",\"gridwidth\":2,\"linecolor\":\"#506784\",\"showbackground\":true,\"ticks\":\"\",\"zerolinecolor\":\"#C8D4E3\"},\"yaxis\":{\"backgroundcolor\":\"rgb(17,17,17)\",\"gridcolor\":\"#506784\",\"gridwidth\":2,\"linecolor\":\"#506784\",\"showbackground\":true,\"ticks\":\"\",\"zerolinecolor\":\"#C8D4E3\"},\"zaxis\":{\"backgroundcolor\":\"rgb(17,17,17)\",\"gridcolor\":\"#506784\",\"gridwidth\":2,\"linecolor\":\"#506784\",\"showbackground\":true,\"ticks\":\"\",\"zerolinecolor\":\"#C8D4E3\"}},\"shapedefaults\":{\"line\":{\"color\":\"#f2f5fa\"}},\"sliderdefaults\":{\"bgcolor\":\"#C8D4E3\",\"bordercolor\":\"rgb(17,17,17)\",\"borderwidth\":1,\"tickwidth\":0},\"ternary\":{\"aaxis\":{\"gridcolor\":\"#506784\",\"linecolor\":\"#506784\",\"ticks\":\"\"},\"baxis\":{\"gridcolor\":\"#506784\",\"linecolor\":\"#506784\",\"ticks\":\"\"},\"bgcolor\":\"rgb(17,17,17)\",\"caxis\":{\"gridcolor\":\"#506784\",\"linecolor\":\"#506784\",\"ticks\":\"\"}},\"title\":{\"x\":0.05},\"updatemenudefaults\":{\"bgcolor\":\"#506784\",\"borderwidth\":0},\"xaxis\":{\"automargin\":true,\"gridcolor\":\"#283442\",\"linecolor\":\"#506784\",\"ticks\":\"\",\"title\":{\"standoff\":15},\"zerolinecolor\":\"#283442\",\"zerolinewidth\":2},\"yaxis\":{\"automargin\":true,\"gridcolor\":\"#283442\",\"linecolor\":\"#506784\",\"ticks\":\"\",\"title\":{\"standoff\":15},\"zerolinecolor\":\"#283442\",\"zerolinewidth\":2}}},\"xaxis\":{\"anchor\":\"y\",\"domain\":[0.0,1.0],\"title\":{\"text\":\"pca_1\"}},\"yaxis\":{\"anchor\":\"x\",\"domain\":[0.0,1.0],\"title\":{\"text\":\"pca_2\"}},\"legend\":{\"title\":{\"text\":\"class\"},\"tracegroupgap\":0},\"margin\":{\"t\":60},\"width\":950},                        {\"responsive\": true}                    ).then(function(){\n",
              "                            \n",
              "var gd = document.getElementById('7fe6d315-59c1-439c-9b72-15285ac21a3c');\n",
              "var x = new MutationObserver(function (mutations, observer) {{\n",
              "        var display = window.getComputedStyle(gd).display;\n",
              "        if (!display || display === 'none') {{\n",
              "            console.log([gd, 'removed!']);\n",
              "            Plotly.purge(gd);\n",
              "            observer.disconnect();\n",
              "        }}\n",
              "}});\n",
              "\n",
              "// Listen for the removal of the full notebook cells\n",
              "var notebookContainer = gd.closest('#notebook-container');\n",
              "if (notebookContainer) {{\n",
              "    x.observe(notebookContainer, {childList: true});\n",
              "}}\n",
              "\n",
              "// Listen for the clearing of the current output cell\n",
              "var outputEl = gd.closest('.output');\n",
              "if (outputEl) {{\n",
              "    x.observe(outputEl, {childList: true});\n",
              "}}\n",
              "\n",
              "                        })                };                            </script>        </div>\n",
              "</body>\n",
              "</html>"
            ]
          },
          "metadata": {}
        }
      ]
    },
    {
      "cell_type": "markdown",
      "source": [
        "# PCA - 3 komponenty\n"
      ],
      "metadata": {
        "id": "PiExwblo8J7M"
      }
    },
    {
      "cell_type": "code",
      "source": [
        "pca = PCA(n_components=3)\n",
        "data_pca = pca.fit_transform(data_std)\n",
        "data_pca[:5]"
      ],
      "metadata": {
        "colab": {
          "base_uri": "https://localhost:8080/"
        },
        "id": "Ux-BKtRm8FaV",
        "outputId": "270514c6-10c6-4d73-c1ce-080f604bcf7e"
      },
      "execution_count": 15,
      "outputs": [
        {
          "output_type": "execute_result",
          "data": {
            "text/plain": [
              "array([[ 9.1928,  1.9486, -1.1232],\n",
              "       [ 2.3878, -3.7682, -0.5293],\n",
              "       [ 5.7339, -1.0752, -0.5517],\n",
              "       [ 7.123 , 10.2756, -3.2328],\n",
              "       [ 3.9353, -1.9481,  1.3898]])"
            ]
          },
          "metadata": {},
          "execution_count": 15
        }
      ]
    },
    {
      "cell_type": "code",
      "source": [
        "pca_3 = pd.DataFrame(data={'pca_1': data_pca[:, 0], 'pca_2': data_pca[:, 1], 'pca_3': data_pca[:, 2], 'class': target})\n",
        "pca_3.replace(0, 'Benign', inplace=True)\n",
        "pca_3.replace(1, 'Malignant', inplace=True)\n",
        "pca_3.head()"
      ],
      "metadata": {
        "colab": {
          "base_uri": "https://localhost:8080/",
          "height": 206
        },
        "id": "a1w8be3-8Lk1",
        "outputId": "2ccbbc45-a00e-4f6b-b40e-349006db6c26"
      },
      "execution_count": 16,
      "outputs": [
        {
          "output_type": "execute_result",
          "data": {
            "text/plain": [
              "      pca_1      pca_2     pca_3   class\n",
              "0  9.192837   1.948582 -1.123166  Benign\n",
              "1  2.387802  -3.768174 -0.529293  Benign\n",
              "2  5.733896  -1.075174 -0.551748  Benign\n",
              "3  7.122953  10.275587 -3.232790  Benign\n",
              "4  3.935302  -1.948072  1.389766  Benign"
            ],
            "text/html": [
              "\n",
              "  <div id=\"df-5ea29ce0-9221-441d-98df-39b8c1b0c344\">\n",
              "    <div class=\"colab-df-container\">\n",
              "      <div>\n",
              "<style scoped>\n",
              "    .dataframe tbody tr th:only-of-type {\n",
              "        vertical-align: middle;\n",
              "    }\n",
              "\n",
              "    .dataframe tbody tr th {\n",
              "        vertical-align: top;\n",
              "    }\n",
              "\n",
              "    .dataframe thead th {\n",
              "        text-align: right;\n",
              "    }\n",
              "</style>\n",
              "<table border=\"1\" class=\"dataframe\">\n",
              "  <thead>\n",
              "    <tr style=\"text-align: right;\">\n",
              "      <th></th>\n",
              "      <th>pca_1</th>\n",
              "      <th>pca_2</th>\n",
              "      <th>pca_3</th>\n",
              "      <th>class</th>\n",
              "    </tr>\n",
              "  </thead>\n",
              "  <tbody>\n",
              "    <tr>\n",
              "      <th>0</th>\n",
              "      <td>9.192837</td>\n",
              "      <td>1.948582</td>\n",
              "      <td>-1.123166</td>\n",
              "      <td>Benign</td>\n",
              "    </tr>\n",
              "    <tr>\n",
              "      <th>1</th>\n",
              "      <td>2.387802</td>\n",
              "      <td>-3.768174</td>\n",
              "      <td>-0.529293</td>\n",
              "      <td>Benign</td>\n",
              "    </tr>\n",
              "    <tr>\n",
              "      <th>2</th>\n",
              "      <td>5.733896</td>\n",
              "      <td>-1.075174</td>\n",
              "      <td>-0.551748</td>\n",
              "      <td>Benign</td>\n",
              "    </tr>\n",
              "    <tr>\n",
              "      <th>3</th>\n",
              "      <td>7.122953</td>\n",
              "      <td>10.275587</td>\n",
              "      <td>-3.232790</td>\n",
              "      <td>Benign</td>\n",
              "    </tr>\n",
              "    <tr>\n",
              "      <th>4</th>\n",
              "      <td>3.935302</td>\n",
              "      <td>-1.948072</td>\n",
              "      <td>1.389766</td>\n",
              "      <td>Benign</td>\n",
              "    </tr>\n",
              "  </tbody>\n",
              "</table>\n",
              "</div>\n",
              "      <button class=\"colab-df-convert\" onclick=\"convertToInteractive('df-5ea29ce0-9221-441d-98df-39b8c1b0c344')\"\n",
              "              title=\"Convert this dataframe to an interactive table.\"\n",
              "              style=\"display:none;\">\n",
              "        \n",
              "  <svg xmlns=\"http://www.w3.org/2000/svg\" height=\"24px\"viewBox=\"0 0 24 24\"\n",
              "       width=\"24px\">\n",
              "    <path d=\"M0 0h24v24H0V0z\" fill=\"none\"/>\n",
              "    <path d=\"M18.56 5.44l.94 2.06.94-2.06 2.06-.94-2.06-.94-.94-2.06-.94 2.06-2.06.94zm-11 1L8.5 8.5l.94-2.06 2.06-.94-2.06-.94L8.5 2.5l-.94 2.06-2.06.94zm10 10l.94 2.06.94-2.06 2.06-.94-2.06-.94-.94-2.06-.94 2.06-2.06.94z\"/><path d=\"M17.41 7.96l-1.37-1.37c-.4-.4-.92-.59-1.43-.59-.52 0-1.04.2-1.43.59L10.3 9.45l-7.72 7.72c-.78.78-.78 2.05 0 2.83L4 21.41c.39.39.9.59 1.41.59.51 0 1.02-.2 1.41-.59l7.78-7.78 2.81-2.81c.8-.78.8-2.07 0-2.86zM5.41 20L4 18.59l7.72-7.72 1.47 1.35L5.41 20z\"/>\n",
              "  </svg>\n",
              "      </button>\n",
              "      \n",
              "  <style>\n",
              "    .colab-df-container {\n",
              "      display:flex;\n",
              "      flex-wrap:wrap;\n",
              "      gap: 12px;\n",
              "    }\n",
              "\n",
              "    .colab-df-convert {\n",
              "      background-color: #E8F0FE;\n",
              "      border: none;\n",
              "      border-radius: 50%;\n",
              "      cursor: pointer;\n",
              "      display: none;\n",
              "      fill: #1967D2;\n",
              "      height: 32px;\n",
              "      padding: 0 0 0 0;\n",
              "      width: 32px;\n",
              "    }\n",
              "\n",
              "    .colab-df-convert:hover {\n",
              "      background-color: #E2EBFA;\n",
              "      box-shadow: 0px 1px 2px rgba(60, 64, 67, 0.3), 0px 1px 3px 1px rgba(60, 64, 67, 0.15);\n",
              "      fill: #174EA6;\n",
              "    }\n",
              "\n",
              "    [theme=dark] .colab-df-convert {\n",
              "      background-color: #3B4455;\n",
              "      fill: #D2E3FC;\n",
              "    }\n",
              "\n",
              "    [theme=dark] .colab-df-convert:hover {\n",
              "      background-color: #434B5C;\n",
              "      box-shadow: 0px 1px 3px 1px rgba(0, 0, 0, 0.15);\n",
              "      filter: drop-shadow(0px 1px 2px rgba(0, 0, 0, 0.3));\n",
              "      fill: #FFFFFF;\n",
              "    }\n",
              "  </style>\n",
              "\n",
              "      <script>\n",
              "        const buttonEl =\n",
              "          document.querySelector('#df-5ea29ce0-9221-441d-98df-39b8c1b0c344 button.colab-df-convert');\n",
              "        buttonEl.style.display =\n",
              "          google.colab.kernel.accessAllowed ? 'block' : 'none';\n",
              "\n",
              "        async function convertToInteractive(key) {\n",
              "          const element = document.querySelector('#df-5ea29ce0-9221-441d-98df-39b8c1b0c344');\n",
              "          const dataTable =\n",
              "            await google.colab.kernel.invokeFunction('convertToInteractive',\n",
              "                                                     [key], {});\n",
              "          if (!dataTable) return;\n",
              "\n",
              "          const docLinkHtml = 'Like what you see? Visit the ' +\n",
              "            '<a target=\"_blank\" href=https://colab.research.google.com/notebooks/data_table.ipynb>data table notebook</a>'\n",
              "            + ' to learn more about interactive tables.';\n",
              "          element.innerHTML = '';\n",
              "          dataTable['output_type'] = 'display_data';\n",
              "          await google.colab.output.renderOutput(dataTable, element);\n",
              "          const docLink = document.createElement('div');\n",
              "          docLink.innerHTML = docLinkHtml;\n",
              "          element.appendChild(docLink);\n",
              "        }\n",
              "      </script>\n",
              "    </div>\n",
              "  </div>\n",
              "  "
            ]
          },
          "metadata": {},
          "execution_count": 16
        }
      ]
    },
    {
      "cell_type": "code",
      "source": [
        "results = pd.DataFrame(data={'explained_variance_ratio': pca.explained_variance_ratio_})\n",
        "results['cumulative'] = results['explained_variance_ratio'].cumsum()\n",
        "results['component'] = results.index + 1\n",
        "results"
      ],
      "metadata": {
        "colab": {
          "base_uri": "https://localhost:8080/",
          "height": 143
        },
        "id": "oT4a2F7O8M8k",
        "outputId": "2c3066a8-b8b2-48d6-95c1-1fcf45bad567"
      },
      "execution_count": 17,
      "outputs": [
        {
          "output_type": "execute_result",
          "data": {
            "text/plain": [
              "   explained_variance_ratio  cumulative  component\n",
              "0                  0.442720    0.442720          1\n",
              "1                  0.189712    0.632432          2\n",
              "2                  0.093932    0.726364          3"
            ],
            "text/html": [
              "\n",
              "  <div id=\"df-118fb7a3-66f8-4947-8741-3043222746ec\">\n",
              "    <div class=\"colab-df-container\">\n",
              "      <div>\n",
              "<style scoped>\n",
              "    .dataframe tbody tr th:only-of-type {\n",
              "        vertical-align: middle;\n",
              "    }\n",
              "\n",
              "    .dataframe tbody tr th {\n",
              "        vertical-align: top;\n",
              "    }\n",
              "\n",
              "    .dataframe thead th {\n",
              "        text-align: right;\n",
              "    }\n",
              "</style>\n",
              "<table border=\"1\" class=\"dataframe\">\n",
              "  <thead>\n",
              "    <tr style=\"text-align: right;\">\n",
              "      <th></th>\n",
              "      <th>explained_variance_ratio</th>\n",
              "      <th>cumulative</th>\n",
              "      <th>component</th>\n",
              "    </tr>\n",
              "  </thead>\n",
              "  <tbody>\n",
              "    <tr>\n",
              "      <th>0</th>\n",
              "      <td>0.442720</td>\n",
              "      <td>0.442720</td>\n",
              "      <td>1</td>\n",
              "    </tr>\n",
              "    <tr>\n",
              "      <th>1</th>\n",
              "      <td>0.189712</td>\n",
              "      <td>0.632432</td>\n",
              "      <td>2</td>\n",
              "    </tr>\n",
              "    <tr>\n",
              "      <th>2</th>\n",
              "      <td>0.093932</td>\n",
              "      <td>0.726364</td>\n",
              "      <td>3</td>\n",
              "    </tr>\n",
              "  </tbody>\n",
              "</table>\n",
              "</div>\n",
              "      <button class=\"colab-df-convert\" onclick=\"convertToInteractive('df-118fb7a3-66f8-4947-8741-3043222746ec')\"\n",
              "              title=\"Convert this dataframe to an interactive table.\"\n",
              "              style=\"display:none;\">\n",
              "        \n",
              "  <svg xmlns=\"http://www.w3.org/2000/svg\" height=\"24px\"viewBox=\"0 0 24 24\"\n",
              "       width=\"24px\">\n",
              "    <path d=\"M0 0h24v24H0V0z\" fill=\"none\"/>\n",
              "    <path d=\"M18.56 5.44l.94 2.06.94-2.06 2.06-.94-2.06-.94-.94-2.06-.94 2.06-2.06.94zm-11 1L8.5 8.5l.94-2.06 2.06-.94-2.06-.94L8.5 2.5l-.94 2.06-2.06.94zm10 10l.94 2.06.94-2.06 2.06-.94-2.06-.94-.94-2.06-.94 2.06-2.06.94z\"/><path d=\"M17.41 7.96l-1.37-1.37c-.4-.4-.92-.59-1.43-.59-.52 0-1.04.2-1.43.59L10.3 9.45l-7.72 7.72c-.78.78-.78 2.05 0 2.83L4 21.41c.39.39.9.59 1.41.59.51 0 1.02-.2 1.41-.59l7.78-7.78 2.81-2.81c.8-.78.8-2.07 0-2.86zM5.41 20L4 18.59l7.72-7.72 1.47 1.35L5.41 20z\"/>\n",
              "  </svg>\n",
              "      </button>\n",
              "      \n",
              "  <style>\n",
              "    .colab-df-container {\n",
              "      display:flex;\n",
              "      flex-wrap:wrap;\n",
              "      gap: 12px;\n",
              "    }\n",
              "\n",
              "    .colab-df-convert {\n",
              "      background-color: #E8F0FE;\n",
              "      border: none;\n",
              "      border-radius: 50%;\n",
              "      cursor: pointer;\n",
              "      display: none;\n",
              "      fill: #1967D2;\n",
              "      height: 32px;\n",
              "      padding: 0 0 0 0;\n",
              "      width: 32px;\n",
              "    }\n",
              "\n",
              "    .colab-df-convert:hover {\n",
              "      background-color: #E2EBFA;\n",
              "      box-shadow: 0px 1px 2px rgba(60, 64, 67, 0.3), 0px 1px 3px 1px rgba(60, 64, 67, 0.15);\n",
              "      fill: #174EA6;\n",
              "    }\n",
              "\n",
              "    [theme=dark] .colab-df-convert {\n",
              "      background-color: #3B4455;\n",
              "      fill: #D2E3FC;\n",
              "    }\n",
              "\n",
              "    [theme=dark] .colab-df-convert:hover {\n",
              "      background-color: #434B5C;\n",
              "      box-shadow: 0px 1px 3px 1px rgba(0, 0, 0, 0.15);\n",
              "      filter: drop-shadow(0px 1px 2px rgba(0, 0, 0, 0.3));\n",
              "      fill: #FFFFFF;\n",
              "    }\n",
              "  </style>\n",
              "\n",
              "      <script>\n",
              "        const buttonEl =\n",
              "          document.querySelector('#df-118fb7a3-66f8-4947-8741-3043222746ec button.colab-df-convert');\n",
              "        buttonEl.style.display =\n",
              "          google.colab.kernel.accessAllowed ? 'block' : 'none';\n",
              "\n",
              "        async function convertToInteractive(key) {\n",
              "          const element = document.querySelector('#df-118fb7a3-66f8-4947-8741-3043222746ec');\n",
              "          const dataTable =\n",
              "            await google.colab.kernel.invokeFunction('convertToInteractive',\n",
              "                                                     [key], {});\n",
              "          if (!dataTable) return;\n",
              "\n",
              "          const docLinkHtml = 'Like what you see? Visit the ' +\n",
              "            '<a target=\"_blank\" href=https://colab.research.google.com/notebooks/data_table.ipynb>data table notebook</a>'\n",
              "            + ' to learn more about interactive tables.';\n",
              "          element.innerHTML = '';\n",
              "          dataTable['output_type'] = 'display_data';\n",
              "          await google.colab.output.renderOutput(dataTable, element);\n",
              "          const docLink = document.createElement('div');\n",
              "          docLink.innerHTML = docLinkHtml;\n",
              "          element.appendChild(docLink);\n",
              "        }\n",
              "      </script>\n",
              "    </div>\n",
              "  </div>\n",
              "  "
            ]
          },
          "metadata": {},
          "execution_count": 17
        }
      ]
    },
    {
      "cell_type": "code",
      "source": [
        "fig = go.Figure(data=[go.Bar(x=results['component'], y=results['explained_variance_ratio'], name='explained_variance_ratio'),\n",
        "                      go.Scatter(x=results['component'], y=results['cumulative'], name='cumulative')],\n",
        "                layout=go.Layout(title='PCA - 3 components', width=950, template='plotly_dark'))\n",
        "fig.show()"
      ],
      "metadata": {
        "colab": {
          "base_uri": "https://localhost:8080/",
          "height": 562
        },
        "id": "Tx861fqb8Ofm",
        "outputId": "d6752acc-cf43-408f-e520-b5ba193cc543"
      },
      "execution_count": 18,
      "outputs": [
        {
          "output_type": "display_data",
          "data": {
            "text/html": [
              "<html>\n",
              "<head><meta charset=\"utf-8\" /></head>\n",
              "<body>\n",
              "    <div>            <script src=\"https://cdnjs.cloudflare.com/ajax/libs/mathjax/2.7.5/MathJax.js?config=TeX-AMS-MML_SVG\"></script><script type=\"text/javascript\">if (window.MathJax) {MathJax.Hub.Config({SVG: {font: \"STIX-Web\"}});}</script>                <script type=\"text/javascript\">window.PlotlyConfig = {MathJaxConfig: 'local'};</script>\n",
              "        <script src=\"https://cdn.plot.ly/plotly-2.8.3.min.js\"></script>                <div id=\"728c045e-1d0a-4688-8ff2-c148a5244003\" class=\"plotly-graph-div\" style=\"height:525px; width:950px;\"></div>            <script type=\"text/javascript\">                                    window.PLOTLYENV=window.PLOTLYENV || {};                                    if (document.getElementById(\"728c045e-1d0a-4688-8ff2-c148a5244003\")) {                    Plotly.newPlot(                        \"728c045e-1d0a-4688-8ff2-c148a5244003\",                        [{\"name\":\"explained_variance_ratio\",\"x\":[1,2,3],\"y\":[0.44272025607526283,0.18971182044030516,0.09393163257430572],\"type\":\"bar\"},{\"name\":\"cumulative\",\"x\":[1,2,3],\"y\":[0.44272025607526283,0.632432076515568,0.7263637090898737],\"type\":\"scatter\"}],                        {\"template\":{\"data\":{\"barpolar\":[{\"marker\":{\"line\":{\"color\":\"rgb(17,17,17)\",\"width\":0.5},\"pattern\":{\"fillmode\":\"overlay\",\"size\":10,\"solidity\":0.2}},\"type\":\"barpolar\"}],\"bar\":[{\"error_x\":{\"color\":\"#f2f5fa\"},\"error_y\":{\"color\":\"#f2f5fa\"},\"marker\":{\"line\":{\"color\":\"rgb(17,17,17)\",\"width\":0.5},\"pattern\":{\"fillmode\":\"overlay\",\"size\":10,\"solidity\":0.2}},\"type\":\"bar\"}],\"carpet\":[{\"aaxis\":{\"endlinecolor\":\"#A2B1C6\",\"gridcolor\":\"#506784\",\"linecolor\":\"#506784\",\"minorgridcolor\":\"#506784\",\"startlinecolor\":\"#A2B1C6\"},\"baxis\":{\"endlinecolor\":\"#A2B1C6\",\"gridcolor\":\"#506784\",\"linecolor\":\"#506784\",\"minorgridcolor\":\"#506784\",\"startlinecolor\":\"#A2B1C6\"},\"type\":\"carpet\"}],\"choropleth\":[{\"colorbar\":{\"outlinewidth\":0,\"ticks\":\"\"},\"type\":\"choropleth\"}],\"contourcarpet\":[{\"colorbar\":{\"outlinewidth\":0,\"ticks\":\"\"},\"type\":\"contourcarpet\"}],\"contour\":[{\"colorbar\":{\"outlinewidth\":0,\"ticks\":\"\"},\"colorscale\":[[0.0,\"#0d0887\"],[0.1111111111111111,\"#46039f\"],[0.2222222222222222,\"#7201a8\"],[0.3333333333333333,\"#9c179e\"],[0.4444444444444444,\"#bd3786\"],[0.5555555555555556,\"#d8576b\"],[0.6666666666666666,\"#ed7953\"],[0.7777777777777778,\"#fb9f3a\"],[0.8888888888888888,\"#fdca26\"],[1.0,\"#f0f921\"]],\"type\":\"contour\"}],\"heatmapgl\":[{\"colorbar\":{\"outlinewidth\":0,\"ticks\":\"\"},\"colorscale\":[[0.0,\"#0d0887\"],[0.1111111111111111,\"#46039f\"],[0.2222222222222222,\"#7201a8\"],[0.3333333333333333,\"#9c179e\"],[0.4444444444444444,\"#bd3786\"],[0.5555555555555556,\"#d8576b\"],[0.6666666666666666,\"#ed7953\"],[0.7777777777777778,\"#fb9f3a\"],[0.8888888888888888,\"#fdca26\"],[1.0,\"#f0f921\"]],\"type\":\"heatmapgl\"}],\"heatmap\":[{\"colorbar\":{\"outlinewidth\":0,\"ticks\":\"\"},\"colorscale\":[[0.0,\"#0d0887\"],[0.1111111111111111,\"#46039f\"],[0.2222222222222222,\"#7201a8\"],[0.3333333333333333,\"#9c179e\"],[0.4444444444444444,\"#bd3786\"],[0.5555555555555556,\"#d8576b\"],[0.6666666666666666,\"#ed7953\"],[0.7777777777777778,\"#fb9f3a\"],[0.8888888888888888,\"#fdca26\"],[1.0,\"#f0f921\"]],\"type\":\"heatmap\"}],\"histogram2dcontour\":[{\"colorbar\":{\"outlinewidth\":0,\"ticks\":\"\"},\"colorscale\":[[0.0,\"#0d0887\"],[0.1111111111111111,\"#46039f\"],[0.2222222222222222,\"#7201a8\"],[0.3333333333333333,\"#9c179e\"],[0.4444444444444444,\"#bd3786\"],[0.5555555555555556,\"#d8576b\"],[0.6666666666666666,\"#ed7953\"],[0.7777777777777778,\"#fb9f3a\"],[0.8888888888888888,\"#fdca26\"],[1.0,\"#f0f921\"]],\"type\":\"histogram2dcontour\"}],\"histogram2d\":[{\"colorbar\":{\"outlinewidth\":0,\"ticks\":\"\"},\"colorscale\":[[0.0,\"#0d0887\"],[0.1111111111111111,\"#46039f\"],[0.2222222222222222,\"#7201a8\"],[0.3333333333333333,\"#9c179e\"],[0.4444444444444444,\"#bd3786\"],[0.5555555555555556,\"#d8576b\"],[0.6666666666666666,\"#ed7953\"],[0.7777777777777778,\"#fb9f3a\"],[0.8888888888888888,\"#fdca26\"],[1.0,\"#f0f921\"]],\"type\":\"histogram2d\"}],\"histogram\":[{\"marker\":{\"pattern\":{\"fillmode\":\"overlay\",\"size\":10,\"solidity\":0.2}},\"type\":\"histogram\"}],\"mesh3d\":[{\"colorbar\":{\"outlinewidth\":0,\"ticks\":\"\"},\"type\":\"mesh3d\"}],\"parcoords\":[{\"line\":{\"colorbar\":{\"outlinewidth\":0,\"ticks\":\"\"}},\"type\":\"parcoords\"}],\"pie\":[{\"automargin\":true,\"type\":\"pie\"}],\"scatter3d\":[{\"line\":{\"colorbar\":{\"outlinewidth\":0,\"ticks\":\"\"}},\"marker\":{\"colorbar\":{\"outlinewidth\":0,\"ticks\":\"\"}},\"type\":\"scatter3d\"}],\"scattercarpet\":[{\"marker\":{\"colorbar\":{\"outlinewidth\":0,\"ticks\":\"\"}},\"type\":\"scattercarpet\"}],\"scattergeo\":[{\"marker\":{\"colorbar\":{\"outlinewidth\":0,\"ticks\":\"\"}},\"type\":\"scattergeo\"}],\"scattergl\":[{\"marker\":{\"line\":{\"color\":\"#283442\"}},\"type\":\"scattergl\"}],\"scattermapbox\":[{\"marker\":{\"colorbar\":{\"outlinewidth\":0,\"ticks\":\"\"}},\"type\":\"scattermapbox\"}],\"scatterpolargl\":[{\"marker\":{\"colorbar\":{\"outlinewidth\":0,\"ticks\":\"\"}},\"type\":\"scatterpolargl\"}],\"scatterpolar\":[{\"marker\":{\"colorbar\":{\"outlinewidth\":0,\"ticks\":\"\"}},\"type\":\"scatterpolar\"}],\"scatter\":[{\"marker\":{\"line\":{\"color\":\"#283442\"}},\"type\":\"scatter\"}],\"scatterternary\":[{\"marker\":{\"colorbar\":{\"outlinewidth\":0,\"ticks\":\"\"}},\"type\":\"scatterternary\"}],\"surface\":[{\"colorbar\":{\"outlinewidth\":0,\"ticks\":\"\"},\"colorscale\":[[0.0,\"#0d0887\"],[0.1111111111111111,\"#46039f\"],[0.2222222222222222,\"#7201a8\"],[0.3333333333333333,\"#9c179e\"],[0.4444444444444444,\"#bd3786\"],[0.5555555555555556,\"#d8576b\"],[0.6666666666666666,\"#ed7953\"],[0.7777777777777778,\"#fb9f3a\"],[0.8888888888888888,\"#fdca26\"],[1.0,\"#f0f921\"]],\"type\":\"surface\"}],\"table\":[{\"cells\":{\"fill\":{\"color\":\"#506784\"},\"line\":{\"color\":\"rgb(17,17,17)\"}},\"header\":{\"fill\":{\"color\":\"#2a3f5f\"},\"line\":{\"color\":\"rgb(17,17,17)\"}},\"type\":\"table\"}]},\"layout\":{\"annotationdefaults\":{\"arrowcolor\":\"#f2f5fa\",\"arrowhead\":0,\"arrowwidth\":1},\"autotypenumbers\":\"strict\",\"coloraxis\":{\"colorbar\":{\"outlinewidth\":0,\"ticks\":\"\"}},\"colorscale\":{\"diverging\":[[0,\"#8e0152\"],[0.1,\"#c51b7d\"],[0.2,\"#de77ae\"],[0.3,\"#f1b6da\"],[0.4,\"#fde0ef\"],[0.5,\"#f7f7f7\"],[0.6,\"#e6f5d0\"],[0.7,\"#b8e186\"],[0.8,\"#7fbc41\"],[0.9,\"#4d9221\"],[1,\"#276419\"]],\"sequential\":[[0.0,\"#0d0887\"],[0.1111111111111111,\"#46039f\"],[0.2222222222222222,\"#7201a8\"],[0.3333333333333333,\"#9c179e\"],[0.4444444444444444,\"#bd3786\"],[0.5555555555555556,\"#d8576b\"],[0.6666666666666666,\"#ed7953\"],[0.7777777777777778,\"#fb9f3a\"],[0.8888888888888888,\"#fdca26\"],[1.0,\"#f0f921\"]],\"sequentialminus\":[[0.0,\"#0d0887\"],[0.1111111111111111,\"#46039f\"],[0.2222222222222222,\"#7201a8\"],[0.3333333333333333,\"#9c179e\"],[0.4444444444444444,\"#bd3786\"],[0.5555555555555556,\"#d8576b\"],[0.6666666666666666,\"#ed7953\"],[0.7777777777777778,\"#fb9f3a\"],[0.8888888888888888,\"#fdca26\"],[1.0,\"#f0f921\"]]},\"colorway\":[\"#636efa\",\"#EF553B\",\"#00cc96\",\"#ab63fa\",\"#FFA15A\",\"#19d3f3\",\"#FF6692\",\"#B6E880\",\"#FF97FF\",\"#FECB52\"],\"font\":{\"color\":\"#f2f5fa\"},\"geo\":{\"bgcolor\":\"rgb(17,17,17)\",\"lakecolor\":\"rgb(17,17,17)\",\"landcolor\":\"rgb(17,17,17)\",\"showlakes\":true,\"showland\":true,\"subunitcolor\":\"#506784\"},\"hoverlabel\":{\"align\":\"left\"},\"hovermode\":\"closest\",\"mapbox\":{\"style\":\"dark\"},\"paper_bgcolor\":\"rgb(17,17,17)\",\"plot_bgcolor\":\"rgb(17,17,17)\",\"polar\":{\"angularaxis\":{\"gridcolor\":\"#506784\",\"linecolor\":\"#506784\",\"ticks\":\"\"},\"bgcolor\":\"rgb(17,17,17)\",\"radialaxis\":{\"gridcolor\":\"#506784\",\"linecolor\":\"#506784\",\"ticks\":\"\"}},\"scene\":{\"xaxis\":{\"backgroundcolor\":\"rgb(17,17,17)\",\"gridcolor\":\"#506784\",\"gridwidth\":2,\"linecolor\":\"#506784\",\"showbackground\":true,\"ticks\":\"\",\"zerolinecolor\":\"#C8D4E3\"},\"yaxis\":{\"backgroundcolor\":\"rgb(17,17,17)\",\"gridcolor\":\"#506784\",\"gridwidth\":2,\"linecolor\":\"#506784\",\"showbackground\":true,\"ticks\":\"\",\"zerolinecolor\":\"#C8D4E3\"},\"zaxis\":{\"backgroundcolor\":\"rgb(17,17,17)\",\"gridcolor\":\"#506784\",\"gridwidth\":2,\"linecolor\":\"#506784\",\"showbackground\":true,\"ticks\":\"\",\"zerolinecolor\":\"#C8D4E3\"}},\"shapedefaults\":{\"line\":{\"color\":\"#f2f5fa\"}},\"sliderdefaults\":{\"bgcolor\":\"#C8D4E3\",\"bordercolor\":\"rgb(17,17,17)\",\"borderwidth\":1,\"tickwidth\":0},\"ternary\":{\"aaxis\":{\"gridcolor\":\"#506784\",\"linecolor\":\"#506784\",\"ticks\":\"\"},\"baxis\":{\"gridcolor\":\"#506784\",\"linecolor\":\"#506784\",\"ticks\":\"\"},\"bgcolor\":\"rgb(17,17,17)\",\"caxis\":{\"gridcolor\":\"#506784\",\"linecolor\":\"#506784\",\"ticks\":\"\"}},\"title\":{\"x\":0.05},\"updatemenudefaults\":{\"bgcolor\":\"#506784\",\"borderwidth\":0},\"xaxis\":{\"automargin\":true,\"gridcolor\":\"#283442\",\"linecolor\":\"#506784\",\"ticks\":\"\",\"title\":{\"standoff\":15},\"zerolinecolor\":\"#283442\",\"zerolinewidth\":2},\"yaxis\":{\"automargin\":true,\"gridcolor\":\"#283442\",\"linecolor\":\"#506784\",\"ticks\":\"\",\"title\":{\"standoff\":15},\"zerolinecolor\":\"#283442\",\"zerolinewidth\":2}}},\"title\":{\"text\":\"PCA - 3 components\"},\"width\":950},                        {\"responsive\": true}                    ).then(function(){\n",
              "                            \n",
              "var gd = document.getElementById('728c045e-1d0a-4688-8ff2-c148a5244003');\n",
              "var x = new MutationObserver(function (mutations, observer) {{\n",
              "        var display = window.getComputedStyle(gd).display;\n",
              "        if (!display || display === 'none') {{\n",
              "            console.log([gd, 'removed!']);\n",
              "            Plotly.purge(gd);\n",
              "            observer.disconnect();\n",
              "        }}\n",
              "}});\n",
              "\n",
              "// Listen for the removal of the full notebook cells\n",
              "var notebookContainer = gd.closest('#notebook-container');\n",
              "if (notebookContainer) {{\n",
              "    x.observe(notebookContainer, {childList: true});\n",
              "}}\n",
              "\n",
              "// Listen for the clearing of the current output cell\n",
              "var outputEl = gd.closest('.output');\n",
              "if (outputEl) {{\n",
              "    x.observe(outputEl, {childList: true});\n",
              "}}\n",
              "\n",
              "                        })                };                            </script>        </div>\n",
              "</body>\n",
              "</html>"
            ]
          },
          "metadata": {}
        }
      ]
    },
    {
      "cell_type": "code",
      "source": [
        "px.scatter_3d(pca_3, x='pca_1', y='pca_2', z='pca_3', color='class', symbol='class', \n",
        "              opacity=0.7, size_max=10, width=950, template='plotly_dark')"
      ],
      "metadata": {
        "colab": {
          "base_uri": "https://localhost:8080/",
          "height": 562
        },
        "id": "VaLJ5QGm8P1F",
        "outputId": "f000e10d-d60c-4abb-af02-dee52b0910fa"
      },
      "execution_count": 19,
      "outputs": [
        {
          "output_type": "display_data",
          "data": {
            "text/html": [
              "<html>\n",
              "<head><meta charset=\"utf-8\" /></head>\n",
              "<body>\n",
              "    <div>            <script src=\"https://cdnjs.cloudflare.com/ajax/libs/mathjax/2.7.5/MathJax.js?config=TeX-AMS-MML_SVG\"></script><script type=\"text/javascript\">if (window.MathJax) {MathJax.Hub.Config({SVG: {font: \"STIX-Web\"}});}</script>                <script type=\"text/javascript\">window.PlotlyConfig = {MathJaxConfig: 'local'};</script>\n",
              "        <script src=\"https://cdn.plot.ly/plotly-2.8.3.min.js\"></script>                <div id=\"2aa793db-f478-49d7-97aa-ae0cf6a4d232\" class=\"plotly-graph-div\" style=\"height:525px; width:950px;\"></div>            <script type=\"text/javascript\">                                    window.PLOTLYENV=window.PLOTLYENV || {};                                    if (document.getElementById(\"2aa793db-f478-49d7-97aa-ae0cf6a4d232\")) {                    Plotly.newPlot(                        \"2aa793db-f478-49d7-97aa-ae0cf6a4d232\",                        [{\"hovertemplate\":\"class=Benign<br>pca_1=%{x}<br>pca_2=%{y}<br>pca_3=%{z}<extra></extra>\",\"legendgroup\":\"Benign\",\"marker\":{\"color\":\"#636efa\",\"opacity\":0.7,\"symbol\":\"circle\"},\"mode\":\"markers\",\"name\":\"Benign\",\"scene\":\"scene\",\"showlegend\":true,\"x\":[9.192836816427775,2.387801774614458,5.733896277247616,7.1229531749442705,3.935302068099314,2.380247151755423,2.238883300685052,2.1432984930101244,3.174924298997317,6.3517467947962665,-0.8104137799879383,2.651100480993316,8.185034431857984,0.34212590964480283,4.3423791972105406,4.0756561867056895,0.23005500641101262,4.418010902891686,4.948703541550349,4.733210780095947,4.208524204671723,4.949632068929297,7.0985628352847625,3.5102625889305803,3.0640538805800817,4.007264148605275,1.715309726508413,6.05944552528178,2.9022360970678016,4.5547827053698136,4.990602726503741,2.985340787916888,2.7663691601803855,1.296198771557248,-0.998068899975269,0.7652641047740486,-2.15095347060904,-0.09333138002552367,9.087999687939247,0.9904537598649411,-0.29354655275087266,5.3809404142408725,1.7000068813681186,3.302550970150357,-0.6746192903441305,4.648738866827598,2.1768628788948194,4.7591121654552975,1.6916079230157366,1.8123054072066518,2.704596163381435,5.50370533443186,-0.3617091974534657,1.4281675889053886,6.230896513214089,11.668714636374725,10.769242812227475,5.0348110855837795,3.2882353732795635,0.6076079515664605,3.5835636170969485,0.25249755138628116,2.7758655675344843,4.396227961848702,0.6162808655056615,-0.4328602200230924,3.2139167635337884,13.05612188761021,3.11052769378967,4.9567255695630505,0.8510142562112732,3.334133191667345,12.894612192059899,-0.638880500041319,1.9191334329756,4.643691329759756,1.4320694352446037,1.352627038411954,2.171416020268029,-1.9768403601743891,3.7820264396182615,1.3450204350368866,2.3999978225887073,4.100787745858096,3.387330743277465,6.149886190161474,5.494152776689399,1.213634607603619,5.0696610838579,-0.9474878944603345,2.819368342936383,2.9563018656019326,9.512669842017692,9.007165515242534,0.7588784905376218,-0.39001898493209525,0.3648761510570242,6.523116674318106,1.7796614890642424,2.6114848930305863,2.4984388678117617,1.2770271937824902,3.473197349529219,1.2566751043120576,1.649460691472203,9.03658948232668,4.554590070630567,-0.22309261012045953,0.4465444002798522,4.808969235433058,12.28501978626893,3.3721965929253868,2.5087662947436877,1.3180684731862438,4.943581014348538,4.298077332505882,1.8032470237765295,2.755567997296908,3.257254670279832,3.316324111075235,8.40384709328941,2.647568633477716,3.350295784059952,3.7955656461677627,7.1438420477571745,7.085010644637175,1.3140990009027618,3.7116495113978716,0.4604791016412455,6.392649918388394,5.25554494803292,8.733861478509573,3.6913178807461846,3.378250878261865,-0.8402096472874976,3.284372632548854,-1.9087689240322137,1.6147819248681603,6.619726342333861,7.67614947887113,0.3373454915956955,0.017430787732455398,4.9602681153326245,3.7850600985450464,2.637255780668463,-2.3858827666073132,6.590235942318127,7.182933091636304,1.8953162755747603,1.8348404620300662,7.236485300215513,2.2505103799554673,2.1078012435262634,1.78594998034648,3.3196739669241078,4.680166254057578,7.353218577666195,4.975162350402756,6.182283742117136,10.934298161528877,2.1184969181292357,2.735011763020136,6.2270259727200195,5.307140023300156,7.24800105423603,4.2072206146455455,3.635014941648,3.519248272452494,3.76593215908032,-0.5429013703924632,4.703500712829911,4.149097336392601,7.672141557758702,6.289673486152373,2.7633707845187625,-0.9340908076444042,6.003616579927565,4.949858461758004,4.549111141119519,4.442342822702274,0.6644409069445714,2.472356923281543,0.9817275399694327,3.245413648320661,4.331653336151363,2.5117531088848613,3.4754937357863613,16.319233253187768,5.930964848208307,3.8244330472580828,4.75461487599355,-0.7417817639677766,3.1035196990509513,3.7157050947251857,5.094841843846818,2.790399826994471,7.259178825836319,4.09414255744152,2.2269944718011514,-0.7337724482501629,2.6972237612429164,3.3790146682154103,8.630755840586742,4.028435265298614,5.1654109442324945,0.5359319625073999,5.917612587493232,8.741338059787042,6.439315478192411,3.7933823690633717,1.2561792795200806,10.374794075009452],\"y\":[1.9485820903412552,-3.76817372843532,-1.0751740978549984,10.275586911451315,-1.948072100680829,3.9499290243153378,-2.690031978787632,2.3402433341414612,3.391813466555759,7.727174629923952,-2.659276379065728,0.06656828515276235,2.7009739987975547,-0.9682796705457117,4.861083548261775,2.9770623165774497,-1.564758642930786,1.4186690668386812,-4.11433436396038,3.3049629418557984,-5.128366888631237,-1.5437527554266295,2.0186083822709575,2.171623636324572,-1.8765528560034956,0.5372426178952442,-1.5237050271741408,-0.7571763507020276,4.005294815696866,0.33753768911970783,-1.1325884470034184,0.7584231526470362,-0.3543557542055099,0.913196902126363,-3.3512927963141084,0.8862429235934923,-1.923991613531595,2.260752594706334,2.0186741570063615,0.9849294623723893,-0.13709931660236488,-0.13487627325513887,2.3522712387561158,-1.1309360582090497,-2.1164101757248868,-2.3103330829148385,0.9721157008361254,3.011681626327621,1.5406765127477509,0.7227403524451979,-4.437142652386433,0.9383273202933998,0.11973864796264336,-1.9671018131613496,0.9200696335837347,4.748616101502505,-2.2579835878746013,0.7744090444967188,-1.6682381645417321,0.16221514667881187,-2.2066626969665566,-0.5313531043343285,0.5580003491181899,-2.1235070114907044,0.6389112456894354,-1.3920442483850026,4.046756064461176,0.9815160089652043,1.569389563177014,2.3848462050505126,-2.3067360146971017,-1.3255579549412801,2.3166279747797716,-0.9113660409479437,-3.538081328077122,-1.4820159231046692,-1.0496031684945937,-1.1541402199799127,-2.8262605266486864,-0.4193879317210459,0.8603800804245474,-1.2747711908748682,4.837986794447978,-0.37880199648989793,-2.9110391732655643,-2.017652747984978,-4.165831284794546,-2.0390394073749194,-1.7851521355635105,-1.6847538254848764,1.2651030695118033,0.7064216743463638,-5.603484408359042,0.581030036767659,-1.6085320408773065,-0.9892426786319208,-3.5744613127585487,8.01117482041866,2.7765871675078255,1.5614216711560067,2.278481913670058,-2.443257187856864,-2.2778482271001086,0.38239247842959234,-2.1022915414074186,-0.6551726384466862,3.0866396690835454,-0.7018218091042738,-2.787707381014033,-3.0291038499547476,-7.543407693174864,2.5878256739682373,2.6146468282556867,2.154479192093374,-2.848324443368044,-4.6662748741781375,0.1664612756689158,3.4657732299787383,-0.12520084503976597,-3.9391524540869547,-4.153906648415421,-3.951172859864482,-2.1545706863208607,-1.0262322247175601,-2.07484139567692,0.528222841223751,-1.775426136310052,-2.8074774087074466,0.394167328393881,-1.823094363446815,3.8945307468827868,3.279874983569364,1.0656460958306015,-3.371227358972067,-3.500084359373818,-0.9906720206688581,-3.121945415717589,-2.474573406866715,-6.003276768133625,-3.0753055596033807,-3.1443735319186747,-3.459343643249975,-1.3411232745850143,-1.9019078582060045,0.5771553261611303,-0.824116357028777,-1.4848625007446847,0.05514508429895527,-2.3922380708520885,-4.3215234510563665,-0.03570323942659822,-0.3485353901345149,1.1219754514359557,-0.2692216396451401,-1.5770533144842396,-0.9685936932788736,-5.242622878221155,-1.3325729835868243,5.108005477983289,-3.703253795761207,0.2966277534070036,-3.945169029327972,-1.3901112374521152,-6.723414814455434,-3.655469845674949,1.176242428314095,-1.9564414092098148,-3.858607366304351,5.985295839346561,-1.3170685561600741,-0.19595752840241754,0.7674882670650004,-0.8604836696212127,2.036549012069625,-1.078633684531506,-2.1059453112144637,-0.09103030840380419,3.006064150489783,-0.8160010659102556,-0.9924384376050603,0.4368600811104469,-1.4998241257667988,-2.2104301092058343,-1.7783586807722875,-4.049333231699374,-2.52880692668666,-1.672885562437815,-7.7758506972716255,1.2282955518228669,2.305236727784153,-1.4894230799144965,-2.4520346720523634,-1.2361536586066997,-1.0586870299243274,-2.019207817490104,3.385560527728476,-5.49573710086579,2.8029272565655874,1.9416330644202193,-1.943696786128192,-1.9437093057183408,-2.333428839764591,-3.459453664243851,-2.941429694611783,-2.382203641510164,0.3807163803685182,3.4826365401094925,-0.5738563627082645,-3.576818047070957,-3.584047945301633,-1.9022963715178993,1.6720115808852638],\"z\":[-1.1231662428781464,-0.5292933651938785,-0.5517483485803718,-3.232790355273164,1.3897661397924888,-2.9348769353342345,-1.639913148446823,-0.8719472229422058,-3.119985917099502,-4.341916532605702,-0.48883004563573307,-1.5264551365127752,5.730230460839489,1.717171283546198,-2.816115952728686,-3.125274003434691,-0.8025195721430658,-2.270319301698402,-0.31474919105777677,-1.466536917154153,-0.7524014243966131,-1.7131934549763708,-0.029011026036893508,-3.8945475519664976,2.5817473030326648,-2.7616253339907932,0.14618720534466373,-0.3492394619129265,-3.001462480688318,-0.7543007870327525,-2.5773836635153877,-3.4937619200245167,-1.896963060286696,-1.5757688657209463,4.3055736745029956,-2.704919441626419,-1.1804841842529994,-1.9047264747576464,2.1412271954461115,-2.3107338003810867,-3.301932364154283,-1.6788424841830139,-3.078090037726526,0.826392692468181,-1.396219954633675,-0.7288083467864381,-1.943888850054887,-0.16624013226470116,-1.7998454847263614,-1.466249656379448,0.30734531175375296,-2.2101308928268244,-2.040955982784522,1.1119385490897957,0.08982721706222908,2.005879487550049,0.038835774658158906,2.682337121888456,0.14693134887241208,1.6373750677381493,-1.7045363532621889,0.589327083273737,-0.6057716177651407,0.5795103140204613,-0.19991915028197804,-0.08271965782480534,-2.715385381987092,0.5988143539702443,-2.6139363562912603,-1.935107306637682,0.5674612558558894,0.7280133430412071,6.328698898952398,-2.142723873855139,1.2549251142779403,-1.1706803244210973,-1.262011518370627,-1.209792449268998,-0.562107134907877,-0.3805754058027595,3.6709997817750724,0.5558436962870912,-1.0281580821927025,1.4463181261545313,3.007236408835106,-1.5661439041255791,-0.6012613285246827,0.980695766931196,1.1736468030971017,-0.35118642122017796,-2.1531446890979855,-1.0423359094968656,-0.637239228165486,-3.1347153570971957,-1.5150954038207773,-2.585169139084681,-2.2239784269856044,-0.32642100754294034,-0.9427629445992867,-0.21818687978157034,1.3194783011558036,2.46631776117805,-1.2386833125156829,-3.838320684195877,-0.9752720452963618,0.2212798419457419,-2.27040363686408,-2.2707622183613516,0.4443820917459533,2.7440182879628012,10.112422736039656,7.092075329176165,0.20637931236029408,-1.786632533420023,0.9138789858049114,-0.006839891253420914,-2.628599442812235,-2.4740514348291187,-2.8960982308578447,-0.2054536218766342,0.04696930995628763,1.3718817253925941,-1.1089442822768172,0.8986358926240862,1.0883872686017266,-1.2799874439811332,-1.6726323883874974,-1.7561935739452248,-1.0046980978884537,0.47984978304675674,-0.8338544547083695,2.903698925781405,-3.5155894369502354,-1.7667773912576688,0.1824844170893486,2.5543867083619882,-1.0630557352398398,-1.9911348833779159,0.989379110280432,1.4819606027313288,-0.11572140943274209,0.30692047657032123,-1.457053380579812,-1.7442418131107702,-1.9946999450581502,1.983963010611623,0.361340081062135,2.012918033468927,-1.6764914993122315,0.31668504862729363,-2.841067444604239,-1.0647506094848567,1.7751584114024013,-1.722515551097577,1.3607279792322184,-0.291271721277871,0.3169559180267246,0.8709768830165682,0.5211403445238785,-0.891693521206237,0.8674846023311703,-0.017169277391047295,2.734236623706589,1.4856657273037766,-0.1557026175329513,-1.5900188215488729,-0.8287756911196276,-1.0225289878666108,-4.880360998261387,0.9957535801870369,3.757032146921364,-0.887974959742356,-2.153650133135785,-3.182081965875542,-1.1796241207585023,1.4329170943267304,1.7112012266815981,-1.754072298881206,-0.5187557718217075,1.4423195837454774,-2.6807824950485752,0.5914534575167731,-1.6999192530785203,-1.7931540095992131,-0.19250581481078907,0.7982025263127187,0.8568265624595228,6.235416637341709,1.7215868813598614,0.027546208752610542,-1.253751149207486,-1.9977094352469245,1.2873550796363582,0.5219534639098837,-0.7093697400059708,-0.753076667484922,1.9109261105883293,-0.5074334540241818,-2.2856044885438926,-0.27523572627488,-0.9605643034544088,-1.20193188342752,-0.17905693542176387,1.659485512530875,-0.4222774889193604,-0.44313471169538576,-3.2627926649662977,0.8970890803101588,2.4594854833550532,2.0884764753965532,0.5627306723293399,-1.877028955072757],\"type\":\"scatter3d\"},{\"hovertemplate\":\"class=Malignant<br>pca_1=%{x}<br>pca_2=%{y}<br>pca_3=%{z}<extra></extra>\",\"legendgroup\":\"Malignant\",\"marker\":{\"color\":\"#EF553B\",\"opacity\":0.7,\"symbol\":\"diamond\"},\"mode\":\"markers\",\"name\":\"Malignant\",\"scene\":\"scene\",\"showlegend\":true,\"x\":[-1.237063359250717,-1.5781612241507899,-3.557336387085366,-3.7493134055964656,-4.581936674424143,-2.1364452599926853,-1.567479001617079,-3.5429055598369987,-3.157814062458062,-3.4504885535035776,-2.8581584434320404,-3.7214589843330748,-4.135962953974624,-2.385835656655352,-2.578883229423411,-2.314132263935123,-2.785924761925257,-3.5186483463611777,4.3300026617463185,-3.2612794690291924,-0.30785576449886354,-2.6299766318906874,-0.8345178555718227,-2.0215776482274928,-1.638384932829568,1.1674616117067167,-2.1744642950477764,-0.9341581147147578,1.2596046621152401,-1.5882639686590252,-2.8474315950689046,-1.964950099866612,-2.5920828374953437,-3.90433815260357,-2.8182312218003904,-4.555028836146668,-3.448183544010706,-2.1159602574355234,-2.691352193054449,-0.7492713504570089,-3.159006037215098,-2.2286798188717087,-2.492831040859885,-0.10335044538442262,3.591294112397095,-1.3489486872252148,-2.5101176836922656,-2.046029559703295,-2.0970691726336232,-2.9659992012570053,-0.7707436776094215,-2.2025155192023527,-3.1434122400928297,1.40886836525468,-1.8774673572582512,-0.7091148349695848,-2.6007894982269373,-3.2580073512193257,-1.9920347096470394,-5.015008683226049,-2.455968805239444,-1.8372816754518575,-4.346489705535144,-0.7328129111330345,0.3930986641386011,-0.4123278160215147,-3.0499249327653475,-1.442563718823453,0.0831861020018447,7.0933067152479525,-3.7434045430467027,-0.9691728165645297,-2.4187199105161135,-0.7516029949735469,-3.654646525386294,-4.680211581010104,-0.5977817594061119,-1.325031346451402,-2.9974032008064806,-4.386732719573412,-1.9777014284511576,-2.5148764175347873,-3.4839863138150986,-4.658729566197675,-5.351618115800312,1.1708977794513196,-4.975702063371926,-4.064025664552049,-2.6593596148371703,-3.8890655198826356,-2.835890929326194,-3.3102836097818082,-3.357304388415978,-1.7177351913837244,-5.565735905787666,-2.8190385090185406,-1.4734313684775509,-0.7811899652816804,-3.4548953774792572,0.31443821844987324,-2.059191941741427,-2.998710524101494,-0.388756295147293,-2.7569329847482305,-2.37350179968353,-0.9671902980064054,-2.9757987915793773,-2.478359516819284,-0.826039285417406,-3.8946973220456633,-0.38957808530975707,-1.4573213604565196,-4.019140232139057,-3.676413294131496,-4.036607381761998,-2.334233351532776,-0.6817688632479311,-2.2277205167864773,-4.477584656606602,1.3226214277282946,-1.8500898495077234,-2.2813181077327056,-3.228770114913395,1.025900803155473,-2.5825558362730185,-2.4858832225768057,-3.0324811410806984,-1.4646759310169055,-2.0121524257851235,-2.2843402330253433,-0.7397430741159952,-4.5065625153007876,-3.158754303451365,-3.6391359746408103,-1.2765833771070192,-4.346014039516356,-3.4924260340437487,-1.8665488476475927,-2.470722713071263,-1.3726850232104524,-4.1388825678692065,-0.6869402977365817,-4.312129586811978,0.4033094164209839,-3.0036058005070174,3.13400822831817,-0.4178368703807159,-1.4202231432474193,-2.8705883464236064,-3.365845700058484,-3.315000154687296,-4.769710165348252,-2.787096013284652,-3.3938417823424887,-1.4553305193655957,-3.5788354063964767,-3.057032637513998,-3.0744358324398466,-3.8535397272552387,-5.390256418117119,-4.657682331451437,-4.027542383499673,-3.347821945227721,-3.299842010466845,-2.1364041401769374,-4.038017138159187,-3.76541455890295,-4.871239380004026,-4.747248514858008,1.5729311207926924,-4.026620263662828,-1.2948661739486802,-1.8103805509440516,-3.145650185324661,-2.887268048017308,-3.149653977730652,-4.628379489904626,-0.5276966134102292,-3.213500971100337,-4.386422964098878,-3.8100178745462028,-2.393275970673437,-3.0676951346658003,0.29531318588559335,-1.9389694956760644,-2.0771789308549633,-2.1769168781351675,-2.431551457044025,-3.3679657834399768,-1.2065978021938155,-3.326079257831596,-1.9287953840578893,-4.041835098364787,-3.01219497605246,-0.9826485861711092,0.3578938665415413,-3.193917866830823,-2.9932333160190217,-3.1939141580190737,-4.591961848346761,-2.4859161411426327,-2.398665343572339,-0.7796151915305625,-3.1399884225975274,-2.2237757406279672,-2.499636373613894,-2.614948302434154,-0.0961081259111837,2.0448569197349875,-3.066749531651036,-1.6035864382187912,-0.9255666011272207,-3.2883495946595334,-1.554852169984932,-0.3987799046395269,-2.300567811200687,-2.058819455637636,-3.424518055097584,-0.47240654806097443,-3.6433802374634943,-3.5946893296160884,-2.0103794009650757,-2.9208335008556334,-0.5007377944925079,-1.9114985699201321,-3.7850992301605495,-2.7083939548742753,-3.4307706786820624,-2.0013884606744488,-2.473293090182779,-3.647257753603313,-2.3461868572877775,-1.1429969247761944,-1.3508572974015127,-1.9693235989879472,-2.9311870525561603,-2.926374381028263,-3.996188279475653,0.15513805900871966,-1.929621720978994,-2.6223386005136344,-2.921877815450808,-3.3419447997266634,-2.0149150296860805,1.9884621074262758,-1.6696039252171684,-0.37117811403189876,-1.8489599324320347,-4.703042210691202,-1.2831871468229854,-2.3142468137999397,-4.659085186542429,-3.943473380226493,-0.9158035143705683,-2.1949842956754173,-2.240876057100076,-2.1251804427062657,-2.61531741017051,-3.2109679836395206,-0.3067504028747272,-3.454718366337099,-3.900526843985395,-1.2572515895827714,-1.5572194086724735,-1.2492580904331057,-1.0774513341137255,-2.217092303514235,-1.1738306478516696,-2.8363014465841854,-1.857085904337131,-1.3286143638818086,-2.8027713495426547,-3.1745687900669304,-4.087077362479075,-2.5601150138955373,-2.968888796758509,-2.757430454506863,1.3703398906963047,-0.4176644872019095,-3.8383986285462495,0.645478641558319,-2.6838464015049186,-2.041664050820079,-1.399296349431006,-3.5364152920375904,-1.99052943293498,-1.9981853597181003,-0.5206581113875894,-3.172370487819133,-2.202710178870318,-2.9854846843207588,-2.481055106807303,-1.2721114671786375,-2.2351568856287436,-0.056183098748531383,2.3173906050192525,-2.2843312477089572,-1.7263109170864734,-2.8943106627121966,-1.6545218472554408,-4.064270612039965,-2.793330657207836,-1.474919938724886,-0.22939464022125236,-2.55325840853652,-0.6006161215662023,-1.4087712107508463,1.2988665473865324,1.0766932523324577,-1.2497605128265241,-1.2569284240202676,-1.1665352213706501,-1.8876392571377958,-2.7674357014698447,-1.1315768753141502,-2.3336707325317847,-0.19987058107083416,-1.1760259049755801,-1.2926365436722154,-4.429456374781315,-0.6198387539671502,-3.252315776717211,-3.352927059839294,-0.8598029802968846,-3.156621965048297,0.34652811479278595,-2.461406648836928,-1.5301007279007814,-1.7735850535566462,-2.6804416249079908,-2.1363512226114874,0.3431233807030459,-4.197080004690206,-1.1428318585933712,-1.6654751447602234,1.0117125037011354,-1.3009297219701321,-2.3734287262369214,-1.6658710126151939,-1.927678184499831,-4.23721661139057,-2.677870728054046,-3.8364978604116806,-2.551440296268572,-4.694923444739323,-2.025037156967654,-2.8959482098232954,-3.502201052009873,-2.1539036607064874,-2.055084074946969,-3.877289570636574,-4.063862110509828,-0.09866732583646193,-1.0893761893642928,-0.4817709705192427,-4.870309509665271,-5.475243318516717],\"y\":[-0.18821519700286293,0.5728092583292771,1.6629486248734202,-1.413474010981125,1.484220068881817,0.0958312725965842,-1.2084336620390375,-1.282495802450341,-1.6889597827391771,-0.4982196685216732,0.1527227992366284,-1.7876408192357105,2.403791499259527,2.7576587984788343,3.138674129868916,3.267988292227748,2.310648198564146,-0.6583101536172987,9.202527065656549,-0.9378377621948684,7.387812596351499,-0.6973087313615217,1.965607339503204,-0.2548988447986689,1.715949583648359,2.5145158893225834,0.49687937961895645,0.9277004691830305,1.015578481327072,-1.6196564763751216,-2.8936484331873316,-0.9651557281090496,0.21363304810155861,1.1900663993244693,0.36788312876513146,3.5287864606495996,-1.4246227587735911,1.8493742142546101,1.4200629341441278,1.7976390788674455,-1.0357494393057638,0.6674101024299512,2.5986857842065234,2.2801417210021406,3.926332507041518,3.5562247343371687,3.2513187372096914,0.30488609017422286,3.6670956213224972,0.371506967538398,-0.06410922150317672,-0.7356048035933718,-1.8774084603689585,1.3049295621174997,1.4232312518393841,-1.568232656138616,-0.48233490849323485,-0.41832064675839203,1.3293563581884527,0.5747006214737354,0.8984558319705568,-0.0910273569504504,-0.8935716532994911,3.7021828971405757,1.0830680758562174,-0.3896316359078196,-2.2377837709967956,0.3058717588593747,7.1503597595008666,12.573194320313153,0.25050152768500206,0.944944065748391,0.005552184027151048,-3.0706475991963753,-0.6746484846165404,-1.1038577876960571,1.785651569349038,1.4692940978275462,-2.738860443591239,0.0068724235021570745,-1.8427783349033966,0.11425241905443567,1.6196905053718007,-0.22291364478845335,1.0267577728361308,7.014486571794805,-3.386205002807049,-1.2461667144657262,0.5399358540589174,0.8160723916496012,-0.39873079103998904,0.15574224401293355,-1.1037310741814035,-0.5431669883183059,-0.4778481714515885,-0.9701105306268484,0.11689029780894424,0.6528494103067466,1.3069395356780793,2.0775600000679804,-2.472787697059771,-0.3967776378281078,2.2767982402904146,1.0868353284154866,-0.7334023155080509,0.4384394993706917,1.8109734340538421,-1.4185768895687598,-1.2502467958577,0.5385713550885303,-0.6144149776993056,-0.2017271107907595,-1.3542465864534643,-1.291629179869305,1.1625441353151371,-1.3489798490317415,-1.135990888163985,-1.2149995025001405,-1.741129469997179,4.789477499355533,-1.5841271289146472,2.0776851597878574,-1.1720731595851819,2.3612634647211737,0.7292131814972176,0.4605966741453123,-0.6494688334151083,1.686632059109767,-1.103486280041317,0.009495477835999609,3.152521713889915,-3.169273033611329,0.41030157694858455,1.5895863251746263,0.8490531574051512,-0.3219766195109975,-2.634082080084759,-0.9020636270243446,-0.13802893436605496,0.005805523337814699,-1.3765076921190047,1.6950089739239858,-1.978486540523085,3.7234335301079384,0.354159716541694,4.273461552967436,-0.8085769314246197,1.3939773153321513,-0.26864442073890327,-0.8076002117894057,-1.442176208209822,-0.5429624097168664,-2.5330343680631375,0.7539629802345602,0.5919427291221948,0.8915827141929659,-0.1792129714052153,-0.30605853174548475,-1.5247258222887077,0.556253157535714,-3.0653871443417744,-2.5429066023106666,-0.06856340133201387,-3.13870930124339,-0.004392644215300576,-0.24069771736105414,4.3982000085046336,-2.339214456948721,-1.798401807677731,6.5090974540013296,-1.4022075012257778,3.470808242390261,0.39620807088244425,-0.7425262317135913,-0.4647306263050378,-1.7712478115218755,-1.8356190214883186,1.2658720224175068,1.103444082523882,-0.761103496796567,-0.9099190074155138,0.9900302220412285,1.1358381258968242,0.22693532704870734,2.544988260502712,1.8065185824939112,0.9589114207264291,3.447203685606415,-0.5629293508847062,-1.3170454637137308,0.47517067887011677,1.4614716133724648,-1.3569182927074706,0.24375940271937235,0.7972519291847384,2.127839007810262,-1.8491522024067377,1.6313907784316704,0.5793387284961063,-2.7611266086789357,-1.1889381289688803,-0.2507445190598759,-2.1243426267325614,-1.4880218625832065,-0.35716024779402167,-2.0185355542993526,-1.1024739960817864,-0.12984844780377378,6.426818441492778,-2.1820961068146403,0.29259669795057347,2.302481597632584,0.20131126349941475,0.9798557345636895,2.1612139679722215,-0.9320766271024489,0.3204351552056302,-2.4455183774080242,3.7028297856730195,0.786860011140308,2.605088556744299,0.42969078920956927,-1.7004730563923096,0.10673200426071934,-0.6513934252496012,-0.32614660098757464,-0.21966446150742716,-0.9926088557354857,-0.293325919027396,-0.3350466303535143,-1.2413658014444073,0.6827407087923573,-1.9621713011662258,0.36957444879099055,-0.17584796894119709,-0.4948560174188934,0.37733272862967826,0.9598558815505781,-0.4380082553945263,0.8924675895618712,2.5021017495519375,-0.009213749916237971,-0.02222432307880834,0.7784525191641456,2.316048284014666,0.8623193556070061,0.11361259931312027,2.541229436116491,-0.4323032645155278,2.550909721394939,0.4020320065485365,-0.7822997425644337,-2.030016149684279,2.47901365589994,-1.8053527214357539,-0.45458984077414344,-1.19479746871125,-1.8320603315013015,-2.235143478177166,2.1849984180396578,-2.1364609601375886,0.7307763726902442,1.0676897346666623,-1.0379267133558332,-1.5888381695525464,1.8036177198100376,0.02989145999401603,-0.4748396335037605,-1.0181260491224282,-1.571393664929193,0.777096560826899,-1.6663009500662265,-2.0757329944667617,-0.4847102641544313,-2.494045041918411,-0.06884726643458439,-1.7939191464123876,2.110012865747665,0.11652021172429643,0.8991780894461232,3.426010862298468,1.4435554702524331,-0.9032558190160102,-1.7722261541880167,-1.2468537962911577,1.8994639151153292,-0.20637042465556724,-0.973367705256915,-2.089052242694535,1.2860403288313023,-0.673338655450383,-2.36395871043124,0.5098332626346005,-1.298704242483167,-0.22738283800178252,4.389134250063352,-2.4668394968602754,0.9981778979130466,-0.9779445085171699,-4.5556642346260325,-0.5609555913097003,-1.0778881009809094,-1.5910943191858702,1.515903106759346,-0.7639005999340236,-0.8384554120539708,1.5057709790463878,7.729852728992694,8.294773215037692,1.5956850721387246,4.117184929692709,-1.6656943736615923,1.6721902027387883,-2.161048652576251,-1.4110004800412643,0.7901470263427377,1.0763599385917504,1.0113710071724624,4.964224351496278,-0.7860363938009619,0.6363479835257714,1.2859243543168806,2.6732999759239857,0.09684906060264568,-0.8715423229600617,1.5412254675276682,0.6008481957098547,0.4052171701334388,0.8042112178081341,-1.4847089739977164,1.5185812105775727,3.534480855752201,2.367390479031256,5.599459074534267,2.3896189678410322,1.0923904227000873,-1.8214162535120728,-1.6815763703424425,-0.21396275968692127,-1.1377391525243132,0.18427313035896004,2.315792091018261,0.4962490766503454,0.228329934648988,-0.7674779018005718,1.2612425859306813,-1.4516361818470256,1.8008314225846256,-0.830068179153531,1.616458576848033,1.084255622921808,0.12216882753884062,-0.21355915301076764,1.2928479469041299,-0.1780202428417406,-2.131105310331358,-0.6706384238228882],\"z\":[-0.5932839464927878,-1.801445484314919,0.45118713021760276,1.7323073640070756,0.042074611892736966,-1.4924113222019897,-0.3691594306305583,1.018210803275418,-0.49629415346423517,-0.1525184731892106,0.42893441310362734,1.2799328860257313,-1.2429583910315771,1.2140855843073715,1.400281661230234,2.7962237478579364,0.47272521378999854,0.5913741722672018,1.4929648840493157,0.2051298145148684,3.819085507667961,-0.5839413937814104,0.7904330005614543,-0.6478715329253266,0.43420701016877605,-1.9057189531597374,-0.9490912186857977,-0.04016436363527767,-0.08059241374216962,0.30999940589282665,0.5279883707658721,-0.08120738814720453,1.0356112566579792,1.5519809164973213,-1.3514360114672945,-0.21526324680632464,-0.08872429338338711,-0.5566740804451917,0.9691515513504015,-0.5683656153842208,-1.4906839934239597,-1.09156043467519,1.6697255828694924,2.109562258620107,2.047006407438198,1.732191841899947,-1.6876243256923464,-0.5338382618858617,3.632201628418547,-2.0665330820706447,-1.1344088091953826,0.26708016991419115,-0.6703683728885862,0.6414287599076433,-1.0708119446176163,-0.6699944180149343,1.8723728022941049,-0.6918054770099412,1.1352449720314493,-0.8424380470086514,0.3531340613721329,-1.4452809102514987,0.6392562186467614,0.6585055409855889,2.2476053818010726,-1.0457706292954312,-0.46945257329269446,0.5515486368877889,-0.06001037535619517,7.358708199262181,-0.09738322815728989,-0.890811515012262,-0.79838044960163,1.4491826693505787,-0.9069861348619691,-0.25730879735883005,1.4817360913869373,0.8484216185980379,-0.16118350134235016,-0.9481081034841035,-0.27735915051759463,-0.49662290312115076,2.675468755282371,1.5593592825917542,0.3249856984467625,4.271861724233462,0.43983826251458796,0.5744775740966784,1.707014956539139,1.0157173606298773,-0.34744572759457215,0.5414794078253431,0.15209031692709676,3.298374167319961,4.127462543667317,-0.38259157304731817,-0.2146682090388417,-0.6436570474431768,-0.029264306003043368,-2.083311783566698,-1.4617188328208308,-0.5964657636892937,0.6273325658446468,1.70723862046298,-1.5260270832687834,-1.4476956147086204,-0.22343532683201292,-0.3165336454686513,0.2679608741057339,-0.8815584300066986,-1.3528689324284395,-1.0988792760620605,-0.36047252472964747,0.4246099106993079,0.18974657792564853,0.23268711446198306,1.23366667895146,-0.19241395441730075,-0.8882071184783797,-0.662534644325986,1.2639174422353636,2.430648409713481,0.26466456302904806,-1.616885562999529,-0.548142723944648,-0.5989204710122129,0.3106825464522693,1.1699060769203984,1.3380245056316487,-0.45043860179010947,1.4698585282965007,-0.18806175381791368,-1.1088175558403137,0.7162791162740113,3.0700671961913435,0.3884753849840088,-0.07218732699201835,-0.8711684013775499,1.794884141674858,1.5492895280698185,0.8780489618370939,1.026212329083708,-0.2513068248591491,4.586469179669765,1.2340144844048928,5.86627899279038,-1.093291911491493,-0.8369875398437758,-0.46898736623668497,-0.8070788240583073,-0.5836323687915741,0.8938674719177973,-0.8840344758973967,1.7717933498089737,1.1463403330813176,0.2614873668669948,0.6217736991745572,1.259253646559297,-1.1445092747519834,0.560069278981659,-0.07600895430024095,0.3532171151305271,-0.2701931463448726,0.14889250694251793,-0.055138922599657546,-1.3281264303818132,3.950207253492121,-0.16829467463646103,0.16972033706049755,2.1671592864897296,3.1864990132569098,1.1095276219816406,-1.2303336100964217,-0.8623511558788957,-0.47574276552973793,-0.0358334403764304,0.06423085770086566,-0.9204407982009285,1.611981691016507,-0.40059708270918654,0.44316768206365975,-0.7575097015742104,0.3746228334187414,-1.0894162021677858,-1.0014232853811267,-1.1670796464475777,-0.2342648882206767,3.4569450195899063,-0.19257374644022313,-0.9307413429309176,-0.8982862868282305,-0.10064123852486684,0.5383409172858749,1.9837327431618617,2.3694210909361564,0.7082091364895794,0.09939850677960167,2.5567171396382813,0.489764258679776,0.9805425221575411,0.3487774054398745,-0.3271373353228016,0.3207895059999671,-1.1988783309779345,-1.1016821233150338,-0.7312744270280359,-1.2407358507803639,-1.6714641650149396,1.2741211988491106,-0.27906262086184574,-1.5862256445188818,-1.5961120285705244,-0.6277561418225924,1.1965586909079837,-0.9456046093282131,-1.1299530830503295,-0.12245872216237319,0.045048956338370603,1.9537850456287305,-1.162145625858523,1.8520300486892514,-0.10408799165351813,0.2957271987096711,-1.0287478619968908,1.4502883810005347,-1.0580805071275126,-0.31450425196219084,-0.7316942512866493,0.6192044360890764,-1.482361608631731,1.386624050794282,1.132733819925754,-1.2407193643768923,2.486675699201861,0.4207315206350455,-1.0170707978901126,-0.8867935336423027,0.20440412815470935,-0.4614458689201766,0.042345488009294344,2.4349994445840277,-0.9013043262157941,0.5033015064483893,0.12557921270012276,1.2363049122675336,-1.010306004335734,-0.9983639360141072,2.0053475425177893,0.005304762469898248,-0.08385980501724233,0.27462346341684224,0.19212137016853903,0.6917357013262784,0.3626074584179217,-0.4351090820200396,-0.465527437910499,0.4903717334952669,0.7643296744216536,-0.1662249062208198,0.03928615177498652,0.19716314986793532,2.1360709206357256,0.25947454017988747,-1.3012445560060217,-0.32641310610390134,1.7810412727513305,0.6364600739144762,-0.48157144997985807,-1.4866302422803062,0.8264824283486482,1.2567589767544405,-0.19401814089644626,0.0749004019071092,0.6313636637798486,0.1703127429424789,-0.7784118982887455,-0.7578145322739623,-0.8537198137546852,-0.5361424933510821,0.7005637375609707,0.608285024824291,0.3394032964785092,2.8432409548245645,-1.4795616169999908,3.3854112003732135,-2.030997547939967,-1.641324872373046,-0.3241349419686265,-0.978805791762362,-0.8873985689490906,-0.5904892140369257,-0.4326146423153361,-2.2389919614971,-0.9014365883556676,-2.2555153495906595,1.7784115862999892,-0.8211879018185254,-0.08023846759344848,-0.8056442493584286,0.7523232211391673,2.1766838476846595,0.8445423323354372,0.3199914069559272,-2.2162831934984557,-1.6094030471951095,-0.6870418720655574,-0.35389542669620494,-0.6889138475892634,0.43419207587011177,-1.3564736936480615,-0.41273066414622156,-0.7378784276905043,0.11979668986177541,-0.02109621068141367,-0.5650526346536199,-0.35004299710794917,-0.6731481298487786,-0.7117676645162172,0.3459277008846124,-0.4734190617847746,-0.4888514148076,-0.21847667684817565,-1.7790873693387423,-2.8140442025059835,-2.195714869260804,2.846454168343197,-1.171464718049734,0.6044647725428595,-2.0279173610512555,-1.7416930082192792,0.1789657991145298,0.06966915197184637,1.3271434022609567,1.3010381567822284,1.502250418213883,-0.6326982020063735,0.3733070364271012,0.384528145307187,-0.14807176658501994,0.47820275461432066,-0.3264181056597607,-0.053848835564538095,0.9232390350022532,1.414178228904098,1.5439646554085529,0.5049263754608833,0.7805457573302849,2.7664560933484283,0.5647968179837778,1.838958800823757,1.8599445491884692,3.23877234289821,0.3889302395040545,1.4293789249517381,1.0321071036032008,3.41418897712088,1.4904416917386532],\"type\":\"scatter3d\"}],                        {\"template\":{\"data\":{\"barpolar\":[{\"marker\":{\"line\":{\"color\":\"rgb(17,17,17)\",\"width\":0.5},\"pattern\":{\"fillmode\":\"overlay\",\"size\":10,\"solidity\":0.2}},\"type\":\"barpolar\"}],\"bar\":[{\"error_x\":{\"color\":\"#f2f5fa\"},\"error_y\":{\"color\":\"#f2f5fa\"},\"marker\":{\"line\":{\"color\":\"rgb(17,17,17)\",\"width\":0.5},\"pattern\":{\"fillmode\":\"overlay\",\"size\":10,\"solidity\":0.2}},\"type\":\"bar\"}],\"carpet\":[{\"aaxis\":{\"endlinecolor\":\"#A2B1C6\",\"gridcolor\":\"#506784\",\"linecolor\":\"#506784\",\"minorgridcolor\":\"#506784\",\"startlinecolor\":\"#A2B1C6\"},\"baxis\":{\"endlinecolor\":\"#A2B1C6\",\"gridcolor\":\"#506784\",\"linecolor\":\"#506784\",\"minorgridcolor\":\"#506784\",\"startlinecolor\":\"#A2B1C6\"},\"type\":\"carpet\"}],\"choropleth\":[{\"colorbar\":{\"outlinewidth\":0,\"ticks\":\"\"},\"type\":\"choropleth\"}],\"contourcarpet\":[{\"colorbar\":{\"outlinewidth\":0,\"ticks\":\"\"},\"type\":\"contourcarpet\"}],\"contour\":[{\"colorbar\":{\"outlinewidth\":0,\"ticks\":\"\"},\"colorscale\":[[0.0,\"#0d0887\"],[0.1111111111111111,\"#46039f\"],[0.2222222222222222,\"#7201a8\"],[0.3333333333333333,\"#9c179e\"],[0.4444444444444444,\"#bd3786\"],[0.5555555555555556,\"#d8576b\"],[0.6666666666666666,\"#ed7953\"],[0.7777777777777778,\"#fb9f3a\"],[0.8888888888888888,\"#fdca26\"],[1.0,\"#f0f921\"]],\"type\":\"contour\"}],\"heatmapgl\":[{\"colorbar\":{\"outlinewidth\":0,\"ticks\":\"\"},\"colorscale\":[[0.0,\"#0d0887\"],[0.1111111111111111,\"#46039f\"],[0.2222222222222222,\"#7201a8\"],[0.3333333333333333,\"#9c179e\"],[0.4444444444444444,\"#bd3786\"],[0.5555555555555556,\"#d8576b\"],[0.6666666666666666,\"#ed7953\"],[0.7777777777777778,\"#fb9f3a\"],[0.8888888888888888,\"#fdca26\"],[1.0,\"#f0f921\"]],\"type\":\"heatmapgl\"}],\"heatmap\":[{\"colorbar\":{\"outlinewidth\":0,\"ticks\":\"\"},\"colorscale\":[[0.0,\"#0d0887\"],[0.1111111111111111,\"#46039f\"],[0.2222222222222222,\"#7201a8\"],[0.3333333333333333,\"#9c179e\"],[0.4444444444444444,\"#bd3786\"],[0.5555555555555556,\"#d8576b\"],[0.6666666666666666,\"#ed7953\"],[0.7777777777777778,\"#fb9f3a\"],[0.8888888888888888,\"#fdca26\"],[1.0,\"#f0f921\"]],\"type\":\"heatmap\"}],\"histogram2dcontour\":[{\"colorbar\":{\"outlinewidth\":0,\"ticks\":\"\"},\"colorscale\":[[0.0,\"#0d0887\"],[0.1111111111111111,\"#46039f\"],[0.2222222222222222,\"#7201a8\"],[0.3333333333333333,\"#9c179e\"],[0.4444444444444444,\"#bd3786\"],[0.5555555555555556,\"#d8576b\"],[0.6666666666666666,\"#ed7953\"],[0.7777777777777778,\"#fb9f3a\"],[0.8888888888888888,\"#fdca26\"],[1.0,\"#f0f921\"]],\"type\":\"histogram2dcontour\"}],\"histogram2d\":[{\"colorbar\":{\"outlinewidth\":0,\"ticks\":\"\"},\"colorscale\":[[0.0,\"#0d0887\"],[0.1111111111111111,\"#46039f\"],[0.2222222222222222,\"#7201a8\"],[0.3333333333333333,\"#9c179e\"],[0.4444444444444444,\"#bd3786\"],[0.5555555555555556,\"#d8576b\"],[0.6666666666666666,\"#ed7953\"],[0.7777777777777778,\"#fb9f3a\"],[0.8888888888888888,\"#fdca26\"],[1.0,\"#f0f921\"]],\"type\":\"histogram2d\"}],\"histogram\":[{\"marker\":{\"pattern\":{\"fillmode\":\"overlay\",\"size\":10,\"solidity\":0.2}},\"type\":\"histogram\"}],\"mesh3d\":[{\"colorbar\":{\"outlinewidth\":0,\"ticks\":\"\"},\"type\":\"mesh3d\"}],\"parcoords\":[{\"line\":{\"colorbar\":{\"outlinewidth\":0,\"ticks\":\"\"}},\"type\":\"parcoords\"}],\"pie\":[{\"automargin\":true,\"type\":\"pie\"}],\"scatter3d\":[{\"line\":{\"colorbar\":{\"outlinewidth\":0,\"ticks\":\"\"}},\"marker\":{\"colorbar\":{\"outlinewidth\":0,\"ticks\":\"\"}},\"type\":\"scatter3d\"}],\"scattercarpet\":[{\"marker\":{\"colorbar\":{\"outlinewidth\":0,\"ticks\":\"\"}},\"type\":\"scattercarpet\"}],\"scattergeo\":[{\"marker\":{\"colorbar\":{\"outlinewidth\":0,\"ticks\":\"\"}},\"type\":\"scattergeo\"}],\"scattergl\":[{\"marker\":{\"line\":{\"color\":\"#283442\"}},\"type\":\"scattergl\"}],\"scattermapbox\":[{\"marker\":{\"colorbar\":{\"outlinewidth\":0,\"ticks\":\"\"}},\"type\":\"scattermapbox\"}],\"scatterpolargl\":[{\"marker\":{\"colorbar\":{\"outlinewidth\":0,\"ticks\":\"\"}},\"type\":\"scatterpolargl\"}],\"scatterpolar\":[{\"marker\":{\"colorbar\":{\"outlinewidth\":0,\"ticks\":\"\"}},\"type\":\"scatterpolar\"}],\"scatter\":[{\"marker\":{\"line\":{\"color\":\"#283442\"}},\"type\":\"scatter\"}],\"scatterternary\":[{\"marker\":{\"colorbar\":{\"outlinewidth\":0,\"ticks\":\"\"}},\"type\":\"scatterternary\"}],\"surface\":[{\"colorbar\":{\"outlinewidth\":0,\"ticks\":\"\"},\"colorscale\":[[0.0,\"#0d0887\"],[0.1111111111111111,\"#46039f\"],[0.2222222222222222,\"#7201a8\"],[0.3333333333333333,\"#9c179e\"],[0.4444444444444444,\"#bd3786\"],[0.5555555555555556,\"#d8576b\"],[0.6666666666666666,\"#ed7953\"],[0.7777777777777778,\"#fb9f3a\"],[0.8888888888888888,\"#fdca26\"],[1.0,\"#f0f921\"]],\"type\":\"surface\"}],\"table\":[{\"cells\":{\"fill\":{\"color\":\"#506784\"},\"line\":{\"color\":\"rgb(17,17,17)\"}},\"header\":{\"fill\":{\"color\":\"#2a3f5f\"},\"line\":{\"color\":\"rgb(17,17,17)\"}},\"type\":\"table\"}]},\"layout\":{\"annotationdefaults\":{\"arrowcolor\":\"#f2f5fa\",\"arrowhead\":0,\"arrowwidth\":1},\"autotypenumbers\":\"strict\",\"coloraxis\":{\"colorbar\":{\"outlinewidth\":0,\"ticks\":\"\"}},\"colorscale\":{\"diverging\":[[0,\"#8e0152\"],[0.1,\"#c51b7d\"],[0.2,\"#de77ae\"],[0.3,\"#f1b6da\"],[0.4,\"#fde0ef\"],[0.5,\"#f7f7f7\"],[0.6,\"#e6f5d0\"],[0.7,\"#b8e186\"],[0.8,\"#7fbc41\"],[0.9,\"#4d9221\"],[1,\"#276419\"]],\"sequential\":[[0.0,\"#0d0887\"],[0.1111111111111111,\"#46039f\"],[0.2222222222222222,\"#7201a8\"],[0.3333333333333333,\"#9c179e\"],[0.4444444444444444,\"#bd3786\"],[0.5555555555555556,\"#d8576b\"],[0.6666666666666666,\"#ed7953\"],[0.7777777777777778,\"#fb9f3a\"],[0.8888888888888888,\"#fdca26\"],[1.0,\"#f0f921\"]],\"sequentialminus\":[[0.0,\"#0d0887\"],[0.1111111111111111,\"#46039f\"],[0.2222222222222222,\"#7201a8\"],[0.3333333333333333,\"#9c179e\"],[0.4444444444444444,\"#bd3786\"],[0.5555555555555556,\"#d8576b\"],[0.6666666666666666,\"#ed7953\"],[0.7777777777777778,\"#fb9f3a\"],[0.8888888888888888,\"#fdca26\"],[1.0,\"#f0f921\"]]},\"colorway\":[\"#636efa\",\"#EF553B\",\"#00cc96\",\"#ab63fa\",\"#FFA15A\",\"#19d3f3\",\"#FF6692\",\"#B6E880\",\"#FF97FF\",\"#FECB52\"],\"font\":{\"color\":\"#f2f5fa\"},\"geo\":{\"bgcolor\":\"rgb(17,17,17)\",\"lakecolor\":\"rgb(17,17,17)\",\"landcolor\":\"rgb(17,17,17)\",\"showlakes\":true,\"showland\":true,\"subunitcolor\":\"#506784\"},\"hoverlabel\":{\"align\":\"left\"},\"hovermode\":\"closest\",\"mapbox\":{\"style\":\"dark\"},\"paper_bgcolor\":\"rgb(17,17,17)\",\"plot_bgcolor\":\"rgb(17,17,17)\",\"polar\":{\"angularaxis\":{\"gridcolor\":\"#506784\",\"linecolor\":\"#506784\",\"ticks\":\"\"},\"bgcolor\":\"rgb(17,17,17)\",\"radialaxis\":{\"gridcolor\":\"#506784\",\"linecolor\":\"#506784\",\"ticks\":\"\"}},\"scene\":{\"xaxis\":{\"backgroundcolor\":\"rgb(17,17,17)\",\"gridcolor\":\"#506784\",\"gridwidth\":2,\"linecolor\":\"#506784\",\"showbackground\":true,\"ticks\":\"\",\"zerolinecolor\":\"#C8D4E3\"},\"yaxis\":{\"backgroundcolor\":\"rgb(17,17,17)\",\"gridcolor\":\"#506784\",\"gridwidth\":2,\"linecolor\":\"#506784\",\"showbackground\":true,\"ticks\":\"\",\"zerolinecolor\":\"#C8D4E3\"},\"zaxis\":{\"backgroundcolor\":\"rgb(17,17,17)\",\"gridcolor\":\"#506784\",\"gridwidth\":2,\"linecolor\":\"#506784\",\"showbackground\":true,\"ticks\":\"\",\"zerolinecolor\":\"#C8D4E3\"}},\"shapedefaults\":{\"line\":{\"color\":\"#f2f5fa\"}},\"sliderdefaults\":{\"bgcolor\":\"#C8D4E3\",\"bordercolor\":\"rgb(17,17,17)\",\"borderwidth\":1,\"tickwidth\":0},\"ternary\":{\"aaxis\":{\"gridcolor\":\"#506784\",\"linecolor\":\"#506784\",\"ticks\":\"\"},\"baxis\":{\"gridcolor\":\"#506784\",\"linecolor\":\"#506784\",\"ticks\":\"\"},\"bgcolor\":\"rgb(17,17,17)\",\"caxis\":{\"gridcolor\":\"#506784\",\"linecolor\":\"#506784\",\"ticks\":\"\"}},\"title\":{\"x\":0.05},\"updatemenudefaults\":{\"bgcolor\":\"#506784\",\"borderwidth\":0},\"xaxis\":{\"automargin\":true,\"gridcolor\":\"#283442\",\"linecolor\":\"#506784\",\"ticks\":\"\",\"title\":{\"standoff\":15},\"zerolinecolor\":\"#283442\",\"zerolinewidth\":2},\"yaxis\":{\"automargin\":true,\"gridcolor\":\"#283442\",\"linecolor\":\"#506784\",\"ticks\":\"\",\"title\":{\"standoff\":15},\"zerolinecolor\":\"#283442\",\"zerolinewidth\":2}}},\"scene\":{\"domain\":{\"x\":[0.0,1.0],\"y\":[0.0,1.0]},\"xaxis\":{\"title\":{\"text\":\"pca_1\"}},\"yaxis\":{\"title\":{\"text\":\"pca_2\"}},\"zaxis\":{\"title\":{\"text\":\"pca_3\"}}},\"legend\":{\"title\":{\"text\":\"class\"},\"tracegroupgap\":0},\"margin\":{\"t\":60},\"width\":950},                        {\"responsive\": true}                    ).then(function(){\n",
              "                            \n",
              "var gd = document.getElementById('2aa793db-f478-49d7-97aa-ae0cf6a4d232');\n",
              "var x = new MutationObserver(function (mutations, observer) {{\n",
              "        var display = window.getComputedStyle(gd).display;\n",
              "        if (!display || display === 'none') {{\n",
              "            console.log([gd, 'removed!']);\n",
              "            Plotly.purge(gd);\n",
              "            observer.disconnect();\n",
              "        }}\n",
              "}});\n",
              "\n",
              "// Listen for the removal of the full notebook cells\n",
              "var notebookContainer = gd.closest('#notebook-container');\n",
              "if (notebookContainer) {{\n",
              "    x.observe(notebookContainer, {childList: true});\n",
              "}}\n",
              "\n",
              "// Listen for the clearing of the current output cell\n",
              "var outputEl = gd.closest('.output');\n",
              "if (outputEl) {{\n",
              "    x.observe(outputEl, {childList: true});\n",
              "}}\n",
              "\n",
              "                        })                };                            </script>        </div>\n",
              "</body>\n",
              "</html>"
            ]
          },
          "metadata": {}
        }
      ]
    },
    {
      "cell_type": "code",
      "source": [
        ""
      ],
      "metadata": {
        "id": "0cUnrgEe8eGU"
      },
      "execution_count": null,
      "outputs": []
    }
  ]
}