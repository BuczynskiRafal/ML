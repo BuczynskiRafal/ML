{
  "nbformat": 4,
  "nbformat_minor": 0,
  "metadata": {
    "colab": {
      "name": "Pandas.ipynb",
      "provenance": [],
      "authorship_tag": "ABX9TyPCMmjKkdVlvENFTt77ZyDD",
      "include_colab_link": true
    },
    "kernelspec": {
      "name": "python3",
      "display_name": "Python 3"
    },
    "language_info": {
      "name": "python"
    }
  },
  "cells": [
    {
      "cell_type": "markdown",
      "metadata": {
        "id": "view-in-github",
        "colab_type": "text"
      },
      "source": [
        "<a href=\"https://colab.research.google.com/github/BuczynskiRafal/ML/blob/main/pandas/Pandas.ipynb\" target=\"_parent\"><img src=\"https://colab.research.google.com/assets/colab-badge.svg\" alt=\"Open In Colab\"/></a>"
      ]
    },
    {
      "cell_type": "markdown",
      "source": [
        "Biblioteka Pandas, wprowadzenie\n",
        "\n"
      ],
      "metadata": {
        "id": "n-bk1xVhOBY9"
      }
    },
    {
      "cell_type": "code",
      "execution_count": 2,
      "metadata": {
        "colab": {
          "base_uri": "https://localhost:8080/",
          "height": 35
        },
        "id": "HnkFUKJVNB0_",
        "outputId": "2af26352-bc72-4456-9cd2-6ad0e4da88ac"
      },
      "outputs": [
        {
          "output_type": "execute_result",
          "data": {
            "text/plain": [
              "'1.21.6'"
            ],
            "application/vnd.google.colaboratory.intrinsic+json": {
              "type": "string"
            }
          },
          "metadata": {},
          "execution_count": 2
        }
      ],
      "source": [
        "import pandas as pd\n",
        "import numpy as np\n",
        "\n",
        "pd.__version__\n",
        "np.__version__"
      ]
    },
    {
      "cell_type": "code",
      "source": [
        "# Example 1\n",
        "# Obiekt series składający się z 1 elementu ponizej 1 skalaru.\n",
        "s = pd.Series(4)\n",
        "print(s)"
      ],
      "metadata": {
        "colab": {
          "base_uri": "https://localhost:8080/"
        },
        "id": "aDjtplwfOJCQ",
        "outputId": "524c5876-47a4-4f77-be94-d389479ecd91"
      },
      "execution_count": 5,
      "outputs": [
        {
          "output_type": "stream",
          "name": "stdout",
          "text": [
            "0    4\n",
            "dtype: int64\n"
          ]
        }
      ]
    },
    {
      "cell_type": "code",
      "source": [
        "#Example 2\n",
        "# Utworzenie obiektu series z definicji\n",
        "s2 = pd.Series(data=[1, 32, 25], index=['a', 'b', 'c'], name='value')\n",
        "s2"
      ],
      "metadata": {
        "colab": {
          "base_uri": "https://localhost:8080/"
        },
        "id": "OET4GmraPIyS",
        "outputId": "4cabc34b-1507-40a6-ee31-8d23c6947a24"
      },
      "execution_count": 12,
      "outputs": [
        {
          "output_type": "execute_result",
          "data": {
            "text/plain": [
              "a     1\n",
              "b    32\n",
              "c    25\n",
              "Name: value, dtype: int64"
            ]
          },
          "metadata": {},
          "execution_count": 12
        }
      ]
    },
    {
      "cell_type": "code",
      "source": [
        "# Example 3\n",
        "# Generowanie przyladowych danych za pomocą numy\n",
        "data_3 = np.random.rand(100)\n",
        "# Powstaje tablica numpy (array) zawierająca wartości typu float\n",
        "data_3\n",
        "\n",
        "# Tworzenie obiektu series\n",
        "s_3 = pd.Series(data=data_3)\n",
        "s_3"
      ],
      "metadata": {
        "colab": {
          "base_uri": "https://localhost:8080/"
        },
        "id": "OKbnKKrWYWye",
        "outputId": "830d5ce5-324c-4ebb-a592-2cec45d44aef"
      },
      "execution_count": 22,
      "outputs": [
        {
          "output_type": "execute_result",
          "data": {
            "text/plain": [
              "0     0.536858\n",
              "1     0.226290\n",
              "2     0.936185\n",
              "3     0.050514\n",
              "4     0.716284\n",
              "        ...   \n",
              "95    0.173572\n",
              "96    0.373513\n",
              "97    0.517560\n",
              "98    0.255646\n",
              "99    0.232503\n",
              "Length: 100, dtype: float64"
            ]
          },
          "metadata": {},
          "execution_count": 22
        }
      ]
    },
    {
      "cell_type": "code",
      "source": [
        "# Example 4\n",
        "# Obiekt series ze slownika zawierajacy tylko str\n",
        "data_4 = {'Apple':'USA', 'CD Projekct': 'Poland'}\n",
        "s_4 = pd.Series(data=data_4)\n",
        "s_4"
      ],
      "metadata": {
        "colab": {
          "base_uri": "https://localhost:8080/"
        },
        "id": "HoBWcL0ZZYQJ",
        "outputId": "d14b6795-204a-4fe2-dc11-1827090fc1af"
      },
      "execution_count": 27,
      "outputs": [
        {
          "output_type": "execute_result",
          "data": {
            "text/plain": [
              "Apple             USA\n",
              "CD Projekct    Poland\n",
              "dtype: object"
            ]
          },
          "metadata": {},
          "execution_count": 27
        }
      ]
    }
  ]
}